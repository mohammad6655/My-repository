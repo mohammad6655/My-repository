{
 "cells": [
  {
   "cell_type": "code",
   "execution_count": 1,
   "id": "13adbf8c",
   "metadata": {
    "_cell_guid": "b1076dfc-b9ad-4769-8c92-a6c4dae69d19",
    "_uuid": "8f2839f25d086af736a60e9eeb907d3b93b6e0e5",
    "execution": {
     "iopub.execute_input": "2025-07-20T10:23:37.514924Z",
     "iopub.status.busy": "2025-07-20T10:23:37.514593Z",
     "iopub.status.idle": "2025-07-20T10:23:39.227411Z",
     "shell.execute_reply": "2025-07-20T10:23:39.226443Z"
    },
    "papermill": {
     "duration": 1.724147,
     "end_time": "2025-07-20T10:23:39.229092",
     "exception": false,
     "start_time": "2025-07-20T10:23:37.504945",
     "status": "completed"
    },
    "tags": []
   },
   "outputs": [
    {
     "name": "stdout",
     "output_type": "stream",
     "text": [
      "/kaggle/input/heart-failure-prediction/heart.csv\n"
     ]
    }
   ],
   "source": [
    "# This Python 3 environment comes with many helpful analytics libraries installed\n",
    "# It is defined by the kaggle/python Docker image: https://github.com/kaggle/docker-python\n",
    "# For example, here's several helpful packages to load\n",
    "\n",
    "import numpy as np # linear algebra\n",
    "import pandas as pd # data processing, CSV file I/O (e.g. pd.read_csv)\n",
    "\n",
    "# Input data files are available in the read-only \"../input/\" directory\n",
    "# For example, running this (by clicking run or pressing Shift+Enter) will list all files under the input directory\n",
    "\n",
    "import os\n",
    "for dirname, _, filenames in os.walk('/kaggle/input'):\n",
    "    for filename in filenames:\n",
    "        print(os.path.join(dirname, filename))\n",
    "\n",
    "# You can write up to 20GB to the current directory (/kaggle/working/) that gets preserved as output when you create a version using \"Save & Run All\" \n",
    "# You can also write temporary files to /kaggle/temp/, but they won't be saved outside of the current session"
   ]
  },
  {
   "cell_type": "code",
   "execution_count": 2,
   "id": "a96b6d43",
   "metadata": {
    "execution": {
     "iopub.execute_input": "2025-07-20T10:23:39.246068Z",
     "iopub.status.busy": "2025-07-20T10:23:39.245251Z",
     "iopub.status.idle": "2025-07-20T10:23:40.971655Z",
     "shell.execute_reply": "2025-07-20T10:23:40.970841Z"
    },
    "papermill": {
     "duration": 1.736382,
     "end_time": "2025-07-20T10:23:40.973316",
     "exception": false,
     "start_time": "2025-07-20T10:23:39.236934",
     "status": "completed"
    },
    "tags": []
   },
   "outputs": [],
   "source": [
    "import seaborn as sns\n",
    "import matplotlib.pyplot as plt\n",
    "\n",
    "df = pd.read_csv('/kaggle/input/heart-failure-prediction/heart.csv')"
   ]
  },
  {
   "cell_type": "code",
   "execution_count": 3,
   "id": "84bcd4c6",
   "metadata": {
    "execution": {
     "iopub.execute_input": "2025-07-20T10:23:40.990328Z",
     "iopub.status.busy": "2025-07-20T10:23:40.990047Z",
     "iopub.status.idle": "2025-07-20T10:23:41.010678Z",
     "shell.execute_reply": "2025-07-20T10:23:41.009920Z"
    },
    "papermill": {
     "duration": 0.031122,
     "end_time": "2025-07-20T10:23:41.012092",
     "exception": false,
     "start_time": "2025-07-20T10:23:40.980970",
     "status": "completed"
    },
    "tags": []
   },
   "outputs": [
    {
     "data": {
      "text/plain": [
       "<bound method NDFrame.head of      Age Sex ChestPainType  RestingBP  Cholesterol  FastingBS RestingECG  \\\n",
       "0     40   M           ATA        140          289          0     Normal   \n",
       "1     49   F           NAP        160          180          0     Normal   \n",
       "2     37   M           ATA        130          283          0         ST   \n",
       "3     48   F           ASY        138          214          0     Normal   \n",
       "4     54   M           NAP        150          195          0     Normal   \n",
       "..   ...  ..           ...        ...          ...        ...        ...   \n",
       "913   45   M            TA        110          264          0     Normal   \n",
       "914   68   M           ASY        144          193          1     Normal   \n",
       "915   57   M           ASY        130          131          0     Normal   \n",
       "916   57   F           ATA        130          236          0        LVH   \n",
       "917   38   M           NAP        138          175          0     Normal   \n",
       "\n",
       "     MaxHR ExerciseAngina  Oldpeak ST_Slope  HeartDisease  \n",
       "0      172              N      0.0       Up             0  \n",
       "1      156              N      1.0     Flat             1  \n",
       "2       98              N      0.0       Up             0  \n",
       "3      108              Y      1.5     Flat             1  \n",
       "4      122              N      0.0       Up             0  \n",
       "..     ...            ...      ...      ...           ...  \n",
       "913    132              N      1.2     Flat             1  \n",
       "914    141              N      3.4     Flat             1  \n",
       "915    115              Y      1.2     Flat             1  \n",
       "916    174              N      0.0     Flat             1  \n",
       "917    173              N      0.0       Up             0  \n",
       "\n",
       "[918 rows x 12 columns]>"
      ]
     },
     "execution_count": 3,
     "metadata": {},
     "output_type": "execute_result"
    }
   ],
   "source": [
    "df.head"
   ]
  },
  {
   "cell_type": "code",
   "execution_count": 4,
   "id": "90680e4a",
   "metadata": {
    "execution": {
     "iopub.execute_input": "2025-07-20T10:23:41.028128Z",
     "iopub.status.busy": "2025-07-20T10:23:41.027846Z",
     "iopub.status.idle": "2025-07-20T10:23:41.032717Z",
     "shell.execute_reply": "2025-07-20T10:23:41.032093Z"
    },
    "papermill": {
     "duration": 0.014325,
     "end_time": "2025-07-20T10:23:41.033971",
     "exception": false,
     "start_time": "2025-07-20T10:23:41.019646",
     "status": "completed"
    },
    "tags": []
   },
   "outputs": [
    {
     "data": {
      "text/plain": [
       "(918, 12)"
      ]
     },
     "execution_count": 4,
     "metadata": {},
     "output_type": "execute_result"
    }
   ],
   "source": [
    "df.shape"
   ]
  },
  {
   "cell_type": "code",
   "execution_count": 5,
   "id": "7618d555",
   "metadata": {
    "execution": {
     "iopub.execute_input": "2025-07-20T10:23:41.050118Z",
     "iopub.status.busy": "2025-07-20T10:23:41.049827Z",
     "iopub.status.idle": "2025-07-20T10:23:41.075538Z",
     "shell.execute_reply": "2025-07-20T10:23:41.074729Z"
    },
    "papermill": {
     "duration": 0.035418,
     "end_time": "2025-07-20T10:23:41.077011",
     "exception": false,
     "start_time": "2025-07-20T10:23:41.041593",
     "status": "completed"
    },
    "tags": []
   },
   "outputs": [
    {
     "data": {
      "text/html": [
       "<div>\n",
       "<style scoped>\n",
       "    .dataframe tbody tr th:only-of-type {\n",
       "        vertical-align: middle;\n",
       "    }\n",
       "\n",
       "    .dataframe tbody tr th {\n",
       "        vertical-align: top;\n",
       "    }\n",
       "\n",
       "    .dataframe thead th {\n",
       "        text-align: right;\n",
       "    }\n",
       "</style>\n",
       "<table border=\"1\" class=\"dataframe\">\n",
       "  <thead>\n",
       "    <tr style=\"text-align: right;\">\n",
       "      <th></th>\n",
       "      <th>Age</th>\n",
       "      <th>Sex</th>\n",
       "      <th>ChestPainType</th>\n",
       "      <th>RestingBP</th>\n",
       "      <th>Cholesterol</th>\n",
       "      <th>FastingBS</th>\n",
       "      <th>RestingECG</th>\n",
       "      <th>MaxHR</th>\n",
       "      <th>ExerciseAngina</th>\n",
       "      <th>Oldpeak</th>\n",
       "      <th>ST_Slope</th>\n",
       "      <th>HeartDisease</th>\n",
       "    </tr>\n",
       "  </thead>\n",
       "  <tbody>\n",
       "    <tr>\n",
       "      <th>0</th>\n",
       "      <td>False</td>\n",
       "      <td>False</td>\n",
       "      <td>False</td>\n",
       "      <td>False</td>\n",
       "      <td>False</td>\n",
       "      <td>False</td>\n",
       "      <td>False</td>\n",
       "      <td>False</td>\n",
       "      <td>False</td>\n",
       "      <td>False</td>\n",
       "      <td>False</td>\n",
       "      <td>False</td>\n",
       "    </tr>\n",
       "    <tr>\n",
       "      <th>1</th>\n",
       "      <td>False</td>\n",
       "      <td>False</td>\n",
       "      <td>False</td>\n",
       "      <td>False</td>\n",
       "      <td>False</td>\n",
       "      <td>False</td>\n",
       "      <td>False</td>\n",
       "      <td>False</td>\n",
       "      <td>False</td>\n",
       "      <td>False</td>\n",
       "      <td>False</td>\n",
       "      <td>False</td>\n",
       "    </tr>\n",
       "    <tr>\n",
       "      <th>2</th>\n",
       "      <td>False</td>\n",
       "      <td>False</td>\n",
       "      <td>False</td>\n",
       "      <td>False</td>\n",
       "      <td>False</td>\n",
       "      <td>False</td>\n",
       "      <td>False</td>\n",
       "      <td>False</td>\n",
       "      <td>False</td>\n",
       "      <td>False</td>\n",
       "      <td>False</td>\n",
       "      <td>False</td>\n",
       "    </tr>\n",
       "    <tr>\n",
       "      <th>3</th>\n",
       "      <td>False</td>\n",
       "      <td>False</td>\n",
       "      <td>False</td>\n",
       "      <td>False</td>\n",
       "      <td>False</td>\n",
       "      <td>False</td>\n",
       "      <td>False</td>\n",
       "      <td>False</td>\n",
       "      <td>False</td>\n",
       "      <td>False</td>\n",
       "      <td>False</td>\n",
       "      <td>False</td>\n",
       "    </tr>\n",
       "    <tr>\n",
       "      <th>4</th>\n",
       "      <td>False</td>\n",
       "      <td>False</td>\n",
       "      <td>False</td>\n",
       "      <td>False</td>\n",
       "      <td>False</td>\n",
       "      <td>False</td>\n",
       "      <td>False</td>\n",
       "      <td>False</td>\n",
       "      <td>False</td>\n",
       "      <td>False</td>\n",
       "      <td>False</td>\n",
       "      <td>False</td>\n",
       "    </tr>\n",
       "    <tr>\n",
       "      <th>...</th>\n",
       "      <td>...</td>\n",
       "      <td>...</td>\n",
       "      <td>...</td>\n",
       "      <td>...</td>\n",
       "      <td>...</td>\n",
       "      <td>...</td>\n",
       "      <td>...</td>\n",
       "      <td>...</td>\n",
       "      <td>...</td>\n",
       "      <td>...</td>\n",
       "      <td>...</td>\n",
       "      <td>...</td>\n",
       "    </tr>\n",
       "    <tr>\n",
       "      <th>913</th>\n",
       "      <td>False</td>\n",
       "      <td>False</td>\n",
       "      <td>False</td>\n",
       "      <td>False</td>\n",
       "      <td>False</td>\n",
       "      <td>False</td>\n",
       "      <td>False</td>\n",
       "      <td>False</td>\n",
       "      <td>False</td>\n",
       "      <td>False</td>\n",
       "      <td>False</td>\n",
       "      <td>False</td>\n",
       "    </tr>\n",
       "    <tr>\n",
       "      <th>914</th>\n",
       "      <td>False</td>\n",
       "      <td>False</td>\n",
       "      <td>False</td>\n",
       "      <td>False</td>\n",
       "      <td>False</td>\n",
       "      <td>False</td>\n",
       "      <td>False</td>\n",
       "      <td>False</td>\n",
       "      <td>False</td>\n",
       "      <td>False</td>\n",
       "      <td>False</td>\n",
       "      <td>False</td>\n",
       "    </tr>\n",
       "    <tr>\n",
       "      <th>915</th>\n",
       "      <td>False</td>\n",
       "      <td>False</td>\n",
       "      <td>False</td>\n",
       "      <td>False</td>\n",
       "      <td>False</td>\n",
       "      <td>False</td>\n",
       "      <td>False</td>\n",
       "      <td>False</td>\n",
       "      <td>False</td>\n",
       "      <td>False</td>\n",
       "      <td>False</td>\n",
       "      <td>False</td>\n",
       "    </tr>\n",
       "    <tr>\n",
       "      <th>916</th>\n",
       "      <td>False</td>\n",
       "      <td>False</td>\n",
       "      <td>False</td>\n",
       "      <td>False</td>\n",
       "      <td>False</td>\n",
       "      <td>False</td>\n",
       "      <td>False</td>\n",
       "      <td>False</td>\n",
       "      <td>False</td>\n",
       "      <td>False</td>\n",
       "      <td>False</td>\n",
       "      <td>False</td>\n",
       "    </tr>\n",
       "    <tr>\n",
       "      <th>917</th>\n",
       "      <td>False</td>\n",
       "      <td>False</td>\n",
       "      <td>False</td>\n",
       "      <td>False</td>\n",
       "      <td>False</td>\n",
       "      <td>False</td>\n",
       "      <td>False</td>\n",
       "      <td>False</td>\n",
       "      <td>False</td>\n",
       "      <td>False</td>\n",
       "      <td>False</td>\n",
       "      <td>False</td>\n",
       "    </tr>\n",
       "  </tbody>\n",
       "</table>\n",
       "<p>918 rows × 12 columns</p>\n",
       "</div>"
      ],
      "text/plain": [
       "       Age    Sex  ChestPainType  RestingBP  Cholesterol  FastingBS  \\\n",
       "0    False  False          False      False        False      False   \n",
       "1    False  False          False      False        False      False   \n",
       "2    False  False          False      False        False      False   \n",
       "3    False  False          False      False        False      False   \n",
       "4    False  False          False      False        False      False   \n",
       "..     ...    ...            ...        ...          ...        ...   \n",
       "913  False  False          False      False        False      False   \n",
       "914  False  False          False      False        False      False   \n",
       "915  False  False          False      False        False      False   \n",
       "916  False  False          False      False        False      False   \n",
       "917  False  False          False      False        False      False   \n",
       "\n",
       "     RestingECG  MaxHR  ExerciseAngina  Oldpeak  ST_Slope  HeartDisease  \n",
       "0         False  False           False    False     False         False  \n",
       "1         False  False           False    False     False         False  \n",
       "2         False  False           False    False     False         False  \n",
       "3         False  False           False    False     False         False  \n",
       "4         False  False           False    False     False         False  \n",
       "..          ...    ...             ...      ...       ...           ...  \n",
       "913       False  False           False    False     False         False  \n",
       "914       False  False           False    False     False         False  \n",
       "915       False  False           False    False     False         False  \n",
       "916       False  False           False    False     False         False  \n",
       "917       False  False           False    False     False         False  \n",
       "\n",
       "[918 rows x 12 columns]"
      ]
     },
     "execution_count": 5,
     "metadata": {},
     "output_type": "execute_result"
    }
   ],
   "source": [
    "df.isnull()"
   ]
  },
  {
   "cell_type": "code",
   "execution_count": 6,
   "id": "9b7914fd",
   "metadata": {
    "execution": {
     "iopub.execute_input": "2025-07-20T10:23:41.094268Z",
     "iopub.status.busy": "2025-07-20T10:23:41.093605Z",
     "iopub.status.idle": "2025-07-20T10:23:41.308041Z",
     "shell.execute_reply": "2025-07-20T10:23:41.307101Z"
    },
    "papermill": {
     "duration": 0.224254,
     "end_time": "2025-07-20T10:23:41.309343",
     "exception": false,
     "start_time": "2025-07-20T10:23:41.085089",
     "status": "completed"
    },
    "tags": []
   },
   "outputs": [
    {
     "data": {
      "image/png": "[encoded data removed]",
      "text/plain": [
       "<Figure size 640x480 with 1 Axes>"
      ]
     },
     "metadata": {},
     "output_type": "display_data"
    }
   ],
   "source": [
    "sns.countplot(data=df, x='HeartDisease')\n",
    "plt.title(\"non-cardiac patients(0) and Distribution of cardiac (1)\")\n",
    "plt.show()"
   ]
  },
  {
   "cell_type": "code",
   "execution_count": 7,
   "id": "31ae6838",
   "metadata": {
    "execution": {
     "iopub.execute_input": "2025-07-20T10:23:41.327143Z",
     "iopub.status.busy": "2025-07-20T10:23:41.326845Z",
     "iopub.status.idle": "2025-07-20T10:23:41.333433Z",
     "shell.execute_reply": "2025-07-20T10:23:41.332623Z"
    },
    "papermill": {
     "duration": 0.017111,
     "end_time": "2025-07-20T10:23:41.334720",
     "exception": false,
     "start_time": "2025-07-20T10:23:41.317609",
     "status": "completed"
    },
    "tags": []
   },
   "outputs": [
    {
     "name": "stdout",
     "output_type": "stream",
     "text": [
      "Age               0\n",
      "Sex               0\n",
      "ChestPainType     0\n",
      "RestingBP         0\n",
      "Cholesterol       0\n",
      "FastingBS         0\n",
      "RestingECG        0\n",
      "MaxHR             0\n",
      "ExerciseAngina    0\n",
      "Oldpeak           0\n",
      "ST_Slope          0\n",
      "HeartDisease      0\n",
      "dtype: int64\n"
     ]
    }
   ],
   "source": [
    "print(df.isnull().sum())"
   ]
  },
  {
   "cell_type": "code",
   "execution_count": 8,
   "id": "776fe23b",
   "metadata": {
    "execution": {
     "iopub.execute_input": "2025-07-20T10:23:41.352579Z",
     "iopub.status.busy": "2025-07-20T10:23:41.352250Z",
     "iopub.status.idle": "2025-07-20T10:23:41.358692Z",
     "shell.execute_reply": "2025-07-20T10:23:41.357940Z"
    },
    "papermill": {
     "duration": 0.016931,
     "end_time": "2025-07-20T10:23:41.360075",
     "exception": false,
     "start_time": "2025-07-20T10:23:41.343144",
     "status": "completed"
    },
    "tags": []
   },
   "outputs": [
    {
     "data": {
      "text/plain": [
       "Age                 int64\n",
       "Sex                object\n",
       "ChestPainType      object\n",
       "RestingBP           int64\n",
       "Cholesterol         int64\n",
       "FastingBS           int64\n",
       "RestingECG         object\n",
       "MaxHR               int64\n",
       "ExerciseAngina     object\n",
       "Oldpeak           float64\n",
       "ST_Slope           object\n",
       "HeartDisease        int64\n",
       "dtype: object"
      ]
     },
     "execution_count": 8,
     "metadata": {},
     "output_type": "execute_result"
    }
   ],
   "source": [
    "df.dtypes"
   ]
  },
  {
   "cell_type": "code",
   "execution_count": 9,
   "id": "4c39057d",
   "metadata": {
    "execution": {
     "iopub.execute_input": "2025-07-20T10:23:41.378207Z",
     "iopub.status.busy": "2025-07-20T10:23:41.377881Z",
     "iopub.status.idle": "2025-07-20T10:23:41.389254Z",
     "shell.execute_reply": "2025-07-20T10:23:41.388498Z"
    },
    "papermill": {
     "duration": 0.022117,
     "end_time": "2025-07-20T10:23:41.390677",
     "exception": false,
     "start_time": "2025-07-20T10:23:41.368560",
     "status": "completed"
    },
    "tags": []
   },
   "outputs": [],
   "source": [
    "df_encoded = pd.get_dummies(df, drop_first=True)"
   ]
  },
  {
   "cell_type": "code",
   "execution_count": 10,
   "id": "a08141bf",
   "metadata": {
    "execution": {
     "iopub.execute_input": "2025-07-20T10:23:41.408580Z",
     "iopub.status.busy": "2025-07-20T10:23:41.408299Z",
     "iopub.status.idle": "2025-07-20T10:23:41.413155Z",
     "shell.execute_reply": "2025-07-20T10:23:41.412183Z"
    },
    "papermill": {
     "duration": 0.015223,
     "end_time": "2025-07-20T10:23:41.414428",
     "exception": false,
     "start_time": "2025-07-20T10:23:41.399205",
     "status": "completed"
    },
    "tags": []
   },
   "outputs": [
    {
     "name": "stdout",
     "output_type": "stream",
     "text": [
      "Index(['Age', 'RestingBP', 'Cholesterol', 'FastingBS', 'MaxHR', 'Oldpeak',\n",
      "       'HeartDisease', 'Sex_M', 'ChestPainType_ATA', 'ChestPainType_NAP',\n",
      "       'ChestPainType_TA', 'RestingECG_Normal', 'RestingECG_ST',\n",
      "       'ExerciseAngina_Y', 'ST_Slope_Flat', 'ST_Slope_Up'],\n",
      "      dtype='object')\n"
     ]
    }
   ],
   "source": [
    "print(df_encoded.columns)"
   ]
  },
  {
   "cell_type": "code",
   "execution_count": 11,
   "id": "3cd03378",
   "metadata": {
    "execution": {
     "iopub.execute_input": "2025-07-20T10:23:41.433185Z",
     "iopub.status.busy": "2025-07-20T10:23:41.432873Z",
     "iopub.status.idle": "2025-07-20T10:23:41.438621Z",
     "shell.execute_reply": "2025-07-20T10:23:41.437733Z"
    },
    "papermill": {
     "duration": 0.017,
     "end_time": "2025-07-20T10:23:41.440161",
     "exception": false,
     "start_time": "2025-07-20T10:23:41.423161",
     "status": "completed"
    },
    "tags": []
   },
   "outputs": [],
   "source": [
    "X=df_encoded.drop(\"HeartDisease\",axis=1)\n",
    "y=df_encoded[\"HeartDisease\"]"
   ]
  },
  {
   "cell_type": "code",
   "execution_count": 12,
   "id": "41cdcde0",
   "metadata": {
    "execution": {
     "iopub.execute_input": "2025-07-20T10:23:41.459396Z",
     "iopub.status.busy": "2025-07-20T10:23:41.459092Z",
     "iopub.status.idle": "2025-07-20T10:23:41.721884Z",
     "shell.execute_reply": "2025-07-20T10:23:41.721125Z"
    },
    "papermill": {
     "duration": 0.27385,
     "end_time": "2025-07-20T10:23:41.723317",
     "exception": false,
     "start_time": "2025-07-20T10:23:41.449467",
     "status": "completed"
    },
    "tags": []
   },
   "outputs": [],
   "source": [
    "from sklearn.preprocessing import StandardScaler\n",
    "\n",
    "scaler = StandardScaler()\n",
    "X_scaled = scaler.fit_transform(X)"
   ]
  },
  {
   "cell_type": "code",
   "execution_count": 13,
   "id": "5db0a56e",
   "metadata": {
    "execution": {
     "iopub.execute_input": "2025-07-20T10:23:41.742082Z",
     "iopub.status.busy": "2025-07-20T10:23:41.741466Z",
     "iopub.status.idle": "2025-07-20T10:23:41.848282Z",
     "shell.execute_reply": "2025-07-20T10:23:41.847408Z"
    },
    "papermill": {
     "duration": 0.118222,
     "end_time": "2025-07-20T10:23:41.849953",
     "exception": false,
     "start_time": "2025-07-20T10:23:41.731731",
     "status": "completed"
    },
    "tags": []
   },
   "outputs": [],
   "source": [
    "from sklearn.model_selection import train_test_split\n",
    "\n",
    "X_train,X_test,y_train,y_test=train_test_split(X_scaled,y,test_size=0.2,random_state=42,stratify=y)"
   ]
  },
  {
   "cell_type": "code",
   "execution_count": 14,
   "id": "36675eb1",
   "metadata": {
    "execution": {
     "iopub.execute_input": "2025-07-20T10:23:41.869619Z",
     "iopub.status.busy": "2025-07-20T10:23:41.869315Z",
     "iopub.status.idle": "2025-07-20T10:23:42.066769Z",
     "shell.execute_reply": "2025-07-20T10:23:42.065852Z"
    },
    "papermill": {
     "duration": 0.209632,
     "end_time": "2025-07-20T10:23:42.068591",
     "exception": false,
     "start_time": "2025-07-20T10:23:41.858959",
     "status": "completed"
    },
    "tags": []
   },
   "outputs": [
    {
     "data": {
      "text/html": [
       "<style>#sk-container-id-1 {color: black;background-color: white;}#sk-container-id-1 pre{padding: 0;}#sk-container-id-1 div.sk-toggleable {background-color: white;}#sk-container-id-1 label.sk-toggleable__label {cursor: pointer;display: block;width: 100%;margin-bottom: 0;padding: 0.3em;box-sizing: border-box;text-align: center;}#sk-container-id-1 label.sk-toggleable__label-arrow:before {content: \"▸\";float: left;margin-right: 0.25em;color: #696969;}#sk-container-id-1 label.sk-toggleable__label-arrow:hover:before {color: black;}#sk-container-id-1 div.sk-estimator:hover label.sk-toggleable__label-arrow:before {color: black;}#sk-container-id-1 div.sk-toggleable__content {max-height: 0;max-width: 0;overflow: hidden;text-align: left;background-color: #f0f8ff;}#sk-container-id-1 div.sk-toggleable__content pre {margin: 0.2em;color: black;border-radius: 0.25em;background-color: #f0f8ff;}#sk-container-id-1 input.sk-toggleable__control:checked~div.sk-toggleable__content {max-height: 200px;max-width: 100%;overflow: auto;}#sk-container-id-1 input.sk-toggleable__control:checked~label.sk-toggleable__label-arrow:before {content: \"▾\";}#sk-container-id-1 div.sk-estimator input.sk-toggleable__control:checked~label.sk-toggleable__label {background-color: #d4ebff;}#sk-container-id-1 div.sk-label input.sk-toggleable__control:checked~label.sk-toggleable__label {background-color: #d4ebff;}#sk-container-id-1 input.sk-hidden--visually {border: 0;clip: rect(1px 1px 1px 1px);clip: rect(1px, 1px, 1px, 1px);height: 1px;margin: -1px;overflow: hidden;padding: 0;position: absolute;width: 1px;}#sk-container-id-1 div.sk-estimator {font-family: monospace;background-color: #f0f8ff;border: 1px dotted black;border-radius: 0.25em;box-sizing: border-box;margin-bottom: 0.5em;}#sk-container-id-1 div.sk-estimator:hover {background-color: #d4ebff;}#sk-container-id-1 div.sk-parallel-item::after {content: \"\";width: 100%;border-bottom: 1px solid gray;flex-grow: 1;}#sk-container-id-1 div.sk-label:hover label.sk-toggleable__label {background-color: #d4ebff;}#sk-container-id-1 div.sk-serial::before {content: \"\";position: absolute;border-left: 1px solid gray;box-sizing: border-box;top: 0;bottom: 0;left: 50%;z-index: 0;}#sk-container-id-1 div.sk-serial {display: flex;flex-direction: column;align-items: center;background-color: white;padding-right: 0.2em;padding-left: 0.2em;position: relative;}#sk-container-id-1 div.sk-item {position: relative;z-index: 1;}#sk-container-id-1 div.sk-parallel {display: flex;align-items: stretch;justify-content: center;background-color: white;position: relative;}#sk-container-id-1 div.sk-item::before, #sk-container-id-1 div.sk-parallel-item::before {content: \"\";position: absolute;border-left: 1px solid gray;box-sizing: border-box;top: 0;bottom: 0;left: 50%;z-index: -1;}#sk-container-id-1 div.sk-parallel-item {display: flex;flex-direction: column;z-index: 1;position: relative;background-color: white;}#sk-container-id-1 div.sk-parallel-item:first-child::after {align-self: flex-end;width: 50%;}#sk-container-id-1 div.sk-parallel-item:last-child::after {align-self: flex-start;width: 50%;}#sk-container-id-1 div.sk-parallel-item:only-child::after {width: 0;}#sk-container-id-1 div.sk-dashed-wrapped {border: 1px dashed gray;margin: 0 0.4em 0.5em 0.4em;box-sizing: border-box;padding-bottom: 0.4em;background-color: white;}#sk-container-id-1 div.sk-label label {font-family: monospace;font-weight: bold;display: inline-block;line-height: 1.2em;}#sk-container-id-1 div.sk-label-container {text-align: center;}#sk-container-id-1 div.sk-container {/* jupyter's `normalize.less` sets `[hidden] { display: none; }` but bootstrap.min.css set `[hidden] { display: none !important; }` so we also need the `!important` here to be able to override the default hidden behavior on the sphinx rendered scikit-learn.org. See: https://github.com/scikit-learn/scikit-learn/issues/21755 */display: inline-block !important;position: relative;}#sk-container-id-1 div.sk-text-repr-fallback {display: none;}</style><div id=\"sk-container-id-1\" class=\"sk-top-container\"><div class=\"sk-text-repr-fallback\"><pre>LogisticRegression(max_iter=1000)</pre><b>In a Jupyter environment, please rerun this cell to show the HTML representation or trust the notebook. <br />On GitHub, the HTML representation is unable to render, please try loading this page with nbviewer.org.</b></div><div class=\"sk-container\" hidden><div class=\"sk-item\"><div class=\"sk-estimator sk-toggleable\"><input class=\"sk-toggleable__control sk-hidden--visually\" id=\"sk-estimator-id-1\" type=\"checkbox\" checked><label for=\"sk-estimator-id-1\" class=\"sk-toggleable__label sk-toggleable__label-arrow\">LogisticRegression</label><div class=\"sk-toggleable__content\"><pre>LogisticRegression(max_iter=1000)</pre></div></div></div></div></div>"
      ],
      "text/plain": [
       "LogisticRegression(max_iter=1000)"
      ]
     },
     "execution_count": 14,
     "metadata": {},
     "output_type": "execute_result"
    }
   ],
   "source": [
    "from sklearn.linear_model import LogisticRegression\n",
    "\n",
    "model = LogisticRegression(max_iter=1000)\n",
    "model.fit(X_train,y_train)"
   ]
  },
  {
   "cell_type": "code",
   "execution_count": 15,
   "id": "77c8c614",
   "metadata": {
    "execution": {
     "iopub.execute_input": "2025-07-20T10:23:42.100203Z",
     "iopub.status.busy": "2025-07-20T10:23:42.099880Z",
     "iopub.status.idle": "2025-07-20T10:23:42.104648Z",
     "shell.execute_reply": "2025-07-20T10:23:42.103712Z"
    },
    "papermill": {
     "duration": 0.022354,
     "end_time": "2025-07-20T10:23:42.106445",
     "exception": false,
     "start_time": "2025-07-20T10:23:42.084091",
     "status": "completed"
    },
    "tags": []
   },
   "outputs": [],
   "source": [
    "y_pred = model.predict(X_test)"
   ]
  },
  {
   "cell_type": "code",
   "execution_count": 16,
   "id": "214a11d0",
   "metadata": {
    "execution": {
     "iopub.execute_input": "2025-07-20T10:23:42.203465Z",
     "iopub.status.busy": "2025-07-20T10:23:42.202658Z",
     "iopub.status.idle": "2025-07-20T10:23:42.208670Z",
     "shell.execute_reply": "2025-07-20T10:23:42.207654Z"
    },
    "papermill": {
     "duration": 0.016883,
     "end_time": "2025-07-20T10:23:42.210026",
     "exception": false,
     "start_time": "2025-07-20T10:23:42.193143",
     "status": "completed"
    },
    "tags": []
   },
   "outputs": [
    {
     "name": "stdout",
     "output_type": "stream",
     "text": [
      "Accuracy: 0.8858695652173914\n"
     ]
    }
   ],
   "source": [
    "from sklearn.metrics import accuracy_score\n",
    "\n",
    "accuracy = accuracy_score(y_test, y_pred)\n",
    "print(\"Accuracy:\", accuracy)"
   ]
  },
  {
   "cell_type": "code",
   "execution_count": 17,
   "id": "001842d4",
   "metadata": {
    "execution": {
     "iopub.execute_input": "2025-07-20T10:23:42.228385Z",
     "iopub.status.busy": "2025-07-20T10:23:42.228120Z",
     "iopub.status.idle": "2025-07-20T10:23:42.411898Z",
     "shell.execute_reply": "2025-07-20T10:23:42.410977Z"
    },
    "papermill": {
     "duration": 0.194565,
     "end_time": "2025-07-20T10:23:42.413302",
     "exception": false,
     "start_time": "2025-07-20T10:23:42.218737",
     "status": "completed"
    },
    "tags": []
   },
   "outputs": [
    {
     "data": {
      "image/png": "[encoded data removed]",
      "text/plain": [
       "<Figure size 500x400 with 2 Axes>"
      ]
     },
     "metadata": {},
     "output_type": "display_data"
    }
   ],
   "source": [
    "from sklearn.metrics import confusion_matrix\n",
    "\n",
    "cm = confusion_matrix(y_test, y_pred)\n",
    "\n",
    "plt.figure(figsize=(5,4))\n",
    "sns.heatmap(cm, annot=True, cmap='Blues',fmt='g')\n",
    "plt.xlabel(\"Predicted\")\n",
    "plt.ylabel(\"Actual\")\n",
    "plt.title(\"Confusion Matrix - Logistic Regression\")\n",
    "plt.show()"
   ]
  },
  {
   "cell_type": "code",
   "execution_count": 18,
   "id": "f2753c44",
   "metadata": {
    "execution": {
     "iopub.execute_input": "2025-07-20T10:23:42.432729Z",
     "iopub.status.busy": "2025-07-20T10:23:42.432430Z",
     "iopub.status.idle": "2025-07-20T10:23:42.444609Z",
     "shell.execute_reply": "2025-07-20T10:23:42.443418Z"
    },
    "papermill": {
     "duration": 0.02365,
     "end_time": "2025-07-20T10:23:42.446197",
     "exception": false,
     "start_time": "2025-07-20T10:23:42.422547",
     "status": "completed"
    },
    "tags": []
   },
   "outputs": [
    {
     "name": "stdout",
     "output_type": "stream",
     "text": [
      "Classification Report:\n",
      "\n",
      "              precision    recall  f1-score   support\n",
      "\n",
      "           0       0.91      0.83      0.87        82\n",
      "           1       0.87      0.93      0.90       102\n",
      "\n",
      "    accuracy                           0.89       184\n",
      "   macro avg       0.89      0.88      0.88       184\n",
      "weighted avg       0.89      0.89      0.89       184\n",
      "\n"
     ]
    }
   ],
   "source": [
    "from sklearn.metrics import classification_report\n",
    "\n",
    "print(\"Classification Report:\\n\")\n",
    "print(classification_report(y_test, y_pred))"
   ]
  },
  {
   "cell_type": "code",
   "execution_count": 19,
   "id": "b7c82568",
   "metadata": {
    "execution": {
     "iopub.execute_input": "2025-07-20T10:23:42.465558Z",
     "iopub.status.busy": "2025-07-20T10:23:42.465293Z",
     "iopub.status.idle": "2025-07-20T10:23:42.645517Z",
     "shell.execute_reply": "2025-07-20T10:23:42.644535Z"
    },
    "papermill": {
     "duration": 0.191691,
     "end_time": "2025-07-20T10:23:42.647092",
     "exception": false,
     "start_time": "2025-07-20T10:23:42.455401",
     "status": "completed"
    },
    "tags": []
   },
   "outputs": [
    {
     "data": {
      "image/png": "[encoded data removed]",
      "text/plain": [
       "<Figure size 640x480 with 1 Axes>"
      ]
     },
     "metadata": {},
     "output_type": "display_data"
    }
   ],
   "source": [
    "from sklearn.metrics import roc_curve, roc_auc_score\n",
    "\n",
    "y_proba = model.predict_proba(X_test)[:, 1]  # احتمال کلاس 1\n",
    "\n",
    "fpr, tpr, thresholds = roc_curve(y_test, y_proba)\n",
    "auc = roc_auc_score(y_test, y_proba)\n",
    "\n",
    "plt.plot(fpr, tpr, label=f\"ROC Curve (AUC = {auc:.2f})\")\n",
    "plt.plot([0,1], [0,1], 'k--')\n",
    "plt.xlabel(\"False Positive Rate\")\n",
    "plt.ylabel(\"True Positive Rate\")\n",
    "plt.title(\"ROC Curve - Logistic Regression\")\n",
    "plt.legend()\n",
    "plt.show()"
   ]
  },
  {
   "cell_type": "code",
   "execution_count": 20,
   "id": "331c1a99",
   "metadata": {
    "execution": {
     "iopub.execute_input": "2025-07-20T10:23:42.670238Z",
     "iopub.status.busy": "2025-07-20T10:23:42.669382Z",
     "iopub.status.idle": "2025-07-20T10:23:42.741484Z",
     "shell.execute_reply": "2025-07-20T10:23:42.740672Z"
    },
    "papermill": {
     "duration": 0.08537,
     "end_time": "2025-07-20T10:23:42.742888",
     "exception": false,
     "start_time": "2025-07-20T10:23:42.657518",
     "status": "completed"
    },
    "tags": []
   },
   "outputs": [
    {
     "data": {
      "text/html": [
       "<style>#sk-container-id-2 {color: black;background-color: white;}#sk-container-id-2 pre{padding: 0;}#sk-container-id-2 div.sk-toggleable {background-color: white;}#sk-container-id-2 label.sk-toggleable__label {cursor: pointer;display: block;width: 100%;margin-bottom: 0;padding: 0.3em;box-sizing: border-box;text-align: center;}#sk-container-id-2 label.sk-toggleable__label-arrow:before {content: \"▸\";float: left;margin-right: 0.25em;color: #696969;}#sk-container-id-2 label.sk-toggleable__label-arrow:hover:before {color: black;}#sk-container-id-2 div.sk-estimator:hover label.sk-toggleable__label-arrow:before {color: black;}#sk-container-id-2 div.sk-toggleable__content {max-height: 0;max-width: 0;overflow: hidden;text-align: left;background-color: #f0f8ff;}#sk-container-id-2 div.sk-toggleable__content pre {margin: 0.2em;color: black;border-radius: 0.25em;background-color: #f0f8ff;}#sk-container-id-2 input.sk-toggleable__control:checked~div.sk-toggleable__content {max-height: 200px;max-width: 100%;overflow: auto;}#sk-container-id-2 input.sk-toggleable__control:checked~label.sk-toggleable__label-arrow:before {content: \"▾\";}#sk-container-id-2 div.sk-estimator input.sk-toggleable__control:checked~label.sk-toggleable__label {background-color: #d4ebff;}#sk-container-id-2 div.sk-label input.sk-toggleable__control:checked~label.sk-toggleable__label {background-color: #d4ebff;}#sk-container-id-2 input.sk-hidden--visually {border: 0;clip: rect(1px 1px 1px 1px);clip: rect(1px, 1px, 1px, 1px);height: 1px;margin: -1px;overflow: hidden;padding: 0;position: absolute;width: 1px;}#sk-container-id-2 div.sk-estimator {font-family: monospace;background-color: #f0f8ff;border: 1px dotted black;border-radius: 0.25em;box-sizing: border-box;margin-bottom: 0.5em;}#sk-container-id-2 div.sk-estimator:hover {background-color: #d4ebff;}#sk-container-id-2 div.sk-parallel-item::after {content: \"\";width: 100%;border-bottom: 1px solid gray;flex-grow: 1;}#sk-container-id-2 div.sk-label:hover label.sk-toggleable__label {background-color: #d4ebff;}#sk-container-id-2 div.sk-serial::before {content: \"\";position: absolute;border-left: 1px solid gray;box-sizing: border-box;top: 0;bottom: 0;left: 50%;z-index: 0;}#sk-container-id-2 div.sk-serial {display: flex;flex-direction: column;align-items: center;background-color: white;padding-right: 0.2em;padding-left: 0.2em;position: relative;}#sk-container-id-2 div.sk-item {position: relative;z-index: 1;}#sk-container-id-2 div.sk-parallel {display: flex;align-items: stretch;justify-content: center;background-color: white;position: relative;}#sk-container-id-2 div.sk-item::before, #sk-container-id-2 div.sk-parallel-item::before {content: \"\";position: absolute;border-left: 1px solid gray;box-sizing: border-box;top: 0;bottom: 0;left: 50%;z-index: -1;}#sk-container-id-2 div.sk-parallel-item {display: flex;flex-direction: column;z-index: 1;position: relative;background-color: white;}#sk-container-id-2 div.sk-parallel-item:first-child::after {align-self: flex-end;width: 50%;}#sk-container-id-2 div.sk-parallel-item:last-child::after {align-self: flex-start;width: 50%;}#sk-container-id-2 div.sk-parallel-item:only-child::after {width: 0;}#sk-container-id-2 div.sk-dashed-wrapped {border: 1px dashed gray;margin: 0 0.4em 0.5em 0.4em;box-sizing: border-box;padding-bottom: 0.4em;background-color: white;}#sk-container-id-2 div.sk-label label {font-family: monospace;font-weight: bold;display: inline-block;line-height: 1.2em;}#sk-container-id-2 div.sk-label-container {text-align: center;}#sk-container-id-2 div.sk-container {/* jupyter's `normalize.less` sets `[hidden] { display: none; }` but bootstrap.min.css set `[hidden] { display: none !important; }` so we also need the `!important` here to be able to override the default hidden behavior on the sphinx rendered scikit-learn.org. See: https://github.com/scikit-learn/scikit-learn/issues/21755 */display: inline-block !important;position: relative;}#sk-container-id-2 div.sk-text-repr-fallback {display: none;}</style><div id=\"sk-container-id-2\" class=\"sk-top-container\"><div class=\"sk-text-repr-fallback\"><pre>SVC(probability=True)</pre><b>In a Jupyter environment, please rerun this cell to show the HTML representation or trust the notebook. <br />On GitHub, the HTML representation is unable to render, please try loading this page with nbviewer.org.</b></div><div class=\"sk-container\" hidden><div class=\"sk-item\"><div class=\"sk-estimator sk-toggleable\"><input class=\"sk-toggleable__control sk-hidden--visually\" id=\"sk-estimator-id-2\" type=\"checkbox\" checked><label for=\"sk-estimator-id-2\" class=\"sk-toggleable__label sk-toggleable__label-arrow\">SVC</label><div class=\"sk-toggleable__content\"><pre>SVC(probability=True)</pre></div></div></div></div></div>"
      ],
      "text/plain": [
       "SVC(probability=True)"
      ]
     },
     "execution_count": 20,
     "metadata": {},
     "output_type": "execute_result"
    }
   ],
   "source": [
    "from sklearn.svm import SVC\n",
    "\n",
    "svm_model = SVC(kernel='rbf', probability=True)\n",
    "svm_model.fit(X_train, y_train)"
   ]
  },
  {
   "cell_type": "code",
   "execution_count": 21,
   "id": "1bff4e58",
   "metadata": {
    "execution": {
     "iopub.execute_input": "2025-07-20T10:23:42.764617Z",
     "iopub.status.busy": "2025-07-20T10:23:42.764300Z",
     "iopub.status.idle": "2025-07-20T10:23:42.771861Z",
     "shell.execute_reply": "2025-07-20T10:23:42.771043Z"
    },
    "papermill": {
     "duration": 0.020052,
     "end_time": "2025-07-20T10:23:42.773388",
     "exception": false,
     "start_time": "2025-07-20T10:23:42.753336",
     "status": "completed"
    },
    "tags": []
   },
   "outputs": [],
   "source": [
    "y_pred = svm_model.predict(X_test)"
   ]
  },
  {
   "cell_type": "code",
   "execution_count": 22,
   "id": "03616efa",
   "metadata": {
    "execution": {
     "iopub.execute_input": "2025-07-20T10:23:42.794636Z",
     "iopub.status.busy": "2025-07-20T10:23:42.794025Z",
     "iopub.status.idle": "2025-07-20T10:23:42.800001Z",
     "shell.execute_reply": "2025-07-20T10:23:42.799113Z"
    },
    "papermill": {
     "duration": 0.0179,
     "end_time": "2025-07-20T10:23:42.801247",
     "exception": false,
     "start_time": "2025-07-20T10:23:42.783347",
     "status": "completed"
    },
    "tags": []
   },
   "outputs": [
    {
     "name": "stdout",
     "output_type": "stream",
     "text": [
      "SVM Accuracy: 0.9021739130434783\n"
     ]
    }
   ],
   "source": [
    "from sklearn.metrics import accuracy_score\n",
    "\n",
    "accuracy = accuracy_score(y_test, y_pred)\n",
    "print(\"SVM Accuracy:\", accuracy)"
   ]
  },
  {
   "cell_type": "code",
   "execution_count": 23,
   "id": "b9ba37fd",
   "metadata": {
    "execution": {
     "iopub.execute_input": "2025-07-20T10:23:42.822566Z",
     "iopub.status.busy": "2025-07-20T10:23:42.821817Z",
     "iopub.status.idle": "2025-07-20T10:23:42.976600Z",
     "shell.execute_reply": "2025-07-20T10:23:42.975654Z"
    },
    "papermill": {
     "duration": 0.166774,
     "end_time": "2025-07-20T10:23:42.978033",
     "exception": false,
     "start_time": "2025-07-20T10:23:42.811259",
     "status": "completed"
    },
    "tags": []
   },
   "outputs": [
    {
     "data": {
      "image/png": "[encoded data removed]",
      "text/plain": [
       "<Figure size 500x400 with 2 Axes>"
      ]
     },
     "metadata": {},
     "output_type": "display_data"
    }
   ],
   "source": [
    "cm = confusion_matrix(y_test, y_pred)\n",
    "\n",
    "plt.figure(figsize=(5,4))\n",
    "sns.heatmap(cm, annot=True, cmap=\"Purples\", fmt='g')\n",
    "plt.xlabel(\"Predicted\")\n",
    "plt.ylabel(\"Actual\")\n",
    "plt.title(\"Confusion Matrix - SVM\")\n",
    "plt.show()"
   ]
  },
  {
   "cell_type": "code",
   "execution_count": 24,
   "id": "60508daa",
   "metadata": {
    "execution": {
     "iopub.execute_input": "2025-07-20T10:23:43.000273Z",
     "iopub.status.busy": "2025-07-20T10:23:42.999986Z",
     "iopub.status.idle": "2025-07-20T10:23:43.011217Z",
     "shell.execute_reply": "2025-07-20T10:23:43.010196Z"
    },
    "papermill": {
     "duration": 0.023617,
     "end_time": "2025-07-20T10:23:43.012530",
     "exception": false,
     "start_time": "2025-07-20T10:23:42.988913",
     "status": "completed"
    },
    "tags": []
   },
   "outputs": [
    {
     "name": "stdout",
     "output_type": "stream",
     "text": [
      "Classification Report for SVM:\n",
      "\n",
      "              precision    recall  f1-score   support\n",
      "\n",
      "           0       0.93      0.84      0.88        82\n",
      "           1       0.88      0.95      0.92       102\n",
      "\n",
      "    accuracy                           0.90       184\n",
      "   macro avg       0.91      0.90      0.90       184\n",
      "weighted avg       0.90      0.90      0.90       184\n",
      "\n"
     ]
    }
   ],
   "source": [
    "from sklearn.metrics import classification_report\n",
    "\n",
    "print(\"Classification Report for SVM:\\n\")\n",
    "print(classification_report(y_test, y_pred))"
   ]
  },
  {
   "cell_type": "code",
   "execution_count": 25,
   "id": "022f7fa5",
   "metadata": {
    "execution": {
     "iopub.execute_input": "2025-07-20T10:23:43.035055Z",
     "iopub.status.busy": "2025-07-20T10:23:43.034430Z",
     "iopub.status.idle": "2025-07-20T10:23:43.210861Z",
     "shell.execute_reply": "2025-07-20T10:23:43.210064Z"
    },
    "papermill": {
     "duration": 0.189127,
     "end_time": "2025-07-20T10:23:43.212274",
     "exception": false,
     "start_time": "2025-07-20T10:23:43.023147",
     "status": "completed"
    },
    "tags": []
   },
   "outputs": [
    {
     "data": {
      "image/png": "[encoded data removed]",
      "text/plain": [
       "<Figure size 640x480 with 1 Axes>"
      ]
     },
     "metadata": {},
     "output_type": "display_data"
    }
   ],
   "source": [
    "y_proba = svm_model.predict_proba(X_test)[:, 1]  # احتمال کلاس 1\n",
    "\n",
    "fpr, tpr, thresholds = roc_curve(y_test, y_proba)\n",
    "auc = roc_auc_score(y_test, y_proba)\n",
    "\n",
    "plt.plot(fpr, tpr, label=f\"SVM ROC Curve (AUC = {auc:.2f})\")\n",
    "plt.plot([0,1], [0,1], 'k--')\n",
    "plt.xlabel(\"False Positive Rate\")\n",
    "plt.ylabel(\"True Positive Rate\")\n",
    "plt.title(\"ROC Curve - SVM\")\n",
    "plt.legend()\n",
    "plt.grid()\n",
    "plt.show()"
   ]
  },
  {
   "cell_type": "markdown",
   "id": "9da3b77d",
   "metadata": {
    "papermill": {
     "duration": 0.011114,
     "end_time": "2025-07-20T10:23:43.234508",
     "exception": false,
     "start_time": "2025-07-20T10:23:43.223394",
     "status": "completed"
    },
    "tags": []
   },
   "source": [
    "***KNN***"
   ]
  },
  {
   "cell_type": "code",
   "execution_count": 26,
   "id": "29787e79",
   "metadata": {
    "execution": {
     "iopub.execute_input": "2025-07-20T10:23:43.259637Z",
     "iopub.status.busy": "2025-07-20T10:23:43.258877Z",
     "iopub.status.idle": "2025-07-20T10:23:43.373966Z",
     "shell.execute_reply": "2025-07-20T10:23:43.373156Z"
    },
    "papermill": {
     "duration": 0.129128,
     "end_time": "2025-07-20T10:23:43.375421",
     "exception": false,
     "start_time": "2025-07-20T10:23:43.246293",
     "status": "completed"
    },
    "tags": []
   },
   "outputs": [
    {
     "data": {
      "text/html": [
       "<style>#sk-container-id-3 {color: black;background-color: white;}#sk-container-id-3 pre{padding: 0;}#sk-container-id-3 div.sk-toggleable {background-color: white;}#sk-container-id-3 label.sk-toggleable__label {cursor: pointer;display: block;width: 100%;margin-bottom: 0;padding: 0.3em;box-sizing: border-box;text-align: center;}#sk-container-id-3 label.sk-toggleable__label-arrow:before {content: \"▸\";float: left;margin-right: 0.25em;color: #696969;}#sk-container-id-3 label.sk-toggleable__label-arrow:hover:before {color: black;}#sk-container-id-3 div.sk-estimator:hover label.sk-toggleable__label-arrow:before {color: black;}#sk-container-id-3 div.sk-toggleable__content {max-height: 0;max-width: 0;overflow: hidden;text-align: left;background-color: #f0f8ff;}#sk-container-id-3 div.sk-toggleable__content pre {margin: 0.2em;color: black;border-radius: 0.25em;background-color: #f0f8ff;}#sk-container-id-3 input.sk-toggleable__control:checked~div.sk-toggleable__content {max-height: 200px;max-width: 100%;overflow: auto;}#sk-container-id-3 input.sk-toggleable__control:checked~label.sk-toggleable__label-arrow:before {content: \"▾\";}#sk-container-id-3 div.sk-estimator input.sk-toggleable__control:checked~label.sk-toggleable__label {background-color: #d4ebff;}#sk-container-id-3 div.sk-label input.sk-toggleable__control:checked~label.sk-toggleable__label {background-color: #d4ebff;}#sk-container-id-3 input.sk-hidden--visually {border: 0;clip: rect(1px 1px 1px 1px);clip: rect(1px, 1px, 1px, 1px);height: 1px;margin: -1px;overflow: hidden;padding: 0;position: absolute;width: 1px;}#sk-container-id-3 div.sk-estimator {font-family: monospace;background-color: #f0f8ff;border: 1px dotted black;border-radius: 0.25em;box-sizing: border-box;margin-bottom: 0.5em;}#sk-container-id-3 div.sk-estimator:hover {background-color: #d4ebff;}#sk-container-id-3 div.sk-parallel-item::after {content: \"\";width: 100%;border-bottom: 1px solid gray;flex-grow: 1;}#sk-container-id-3 div.sk-label:hover label.sk-toggleable__label {background-color: #d4ebff;}#sk-container-id-3 div.sk-serial::before {content: \"\";position: absolute;border-left: 1px solid gray;box-sizing: border-box;top: 0;bottom: 0;left: 50%;z-index: 0;}#sk-container-id-3 div.sk-serial {display: flex;flex-direction: column;align-items: center;background-color: white;padding-right: 0.2em;padding-left: 0.2em;position: relative;}#sk-container-id-3 div.sk-item {position: relative;z-index: 1;}#sk-container-id-3 div.sk-parallel {display: flex;align-items: stretch;justify-content: center;background-color: white;position: relative;}#sk-container-id-3 div.sk-item::before, #sk-container-id-3 div.sk-parallel-item::before {content: \"\";position: absolute;border-left: 1px solid gray;box-sizing: border-box;top: 0;bottom: 0;left: 50%;z-index: -1;}#sk-container-id-3 div.sk-parallel-item {display: flex;flex-direction: column;z-index: 1;position: relative;background-color: white;}#sk-container-id-3 div.sk-parallel-item:first-child::after {align-self: flex-end;width: 50%;}#sk-container-id-3 div.sk-parallel-item:last-child::after {align-self: flex-start;width: 50%;}#sk-container-id-3 div.sk-parallel-item:only-child::after {width: 0;}#sk-container-id-3 div.sk-dashed-wrapped {border: 1px dashed gray;margin: 0 0.4em 0.5em 0.4em;box-sizing: border-box;padding-bottom: 0.4em;background-color: white;}#sk-container-id-3 div.sk-label label {font-family: monospace;font-weight: bold;display: inline-block;line-height: 1.2em;}#sk-container-id-3 div.sk-label-container {text-align: center;}#sk-container-id-3 div.sk-container {/* jupyter's `normalize.less` sets `[hidden] { display: none; }` but bootstrap.min.css set `[hidden] { display: none !important; }` so we also need the `!important` here to be able to override the default hidden behavior on the sphinx rendered scikit-learn.org. See: https://github.com/scikit-learn/scikit-learn/issues/21755 */display: inline-block !important;position: relative;}#sk-container-id-3 div.sk-text-repr-fallback {display: none;}</style><div id=\"sk-container-id-3\" class=\"sk-top-container\"><div class=\"sk-text-repr-fallback\"><pre>KNeighborsClassifier()</pre><b>In a Jupyter environment, please rerun this cell to show the HTML representation or trust the notebook. <br />On GitHub, the HTML representation is unable to render, please try loading this page with nbviewer.org.</b></div><div class=\"sk-container\" hidden><div class=\"sk-item\"><div class=\"sk-estimator sk-toggleable\"><input class=\"sk-toggleable__control sk-hidden--visually\" id=\"sk-estimator-id-3\" type=\"checkbox\" checked><label for=\"sk-estimator-id-3\" class=\"sk-toggleable__label sk-toggleable__label-arrow\">KNeighborsClassifier</label><div class=\"sk-toggleable__content\"><pre>KNeighborsClassifier()</pre></div></div></div></div></div>"
      ],
      "text/plain": [
       "KNeighborsClassifier()"
      ]
     },
     "execution_count": 26,
     "metadata": {},
     "output_type": "execute_result"
    }
   ],
   "source": [
    "from sklearn.neighbors import KNeighborsClassifier\n",
    "\n",
    "knn_model = KNeighborsClassifier(n_neighbors=5)\n",
    "knn_model.fit(X_train,y_train)\n"
   ]
  },
  {
   "cell_type": "code",
   "execution_count": 27,
   "id": "edcf673d",
   "metadata": {
    "execution": {
     "iopub.execute_input": "2025-07-20T10:23:43.400230Z",
     "iopub.status.busy": "2025-07-20T10:23:43.399513Z",
     "iopub.status.idle": "2025-07-20T10:23:43.416210Z",
     "shell.execute_reply": "2025-07-20T10:23:43.415528Z"
    },
    "papermill": {
     "duration": 0.030628,
     "end_time": "2025-07-20T10:23:43.417679",
     "exception": false,
     "start_time": "2025-07-20T10:23:43.387051",
     "status": "completed"
    },
    "tags": []
   },
   "outputs": [],
   "source": [
    "y_pred = knn_model.predict(X_test)"
   ]
  },
  {
   "cell_type": "code",
   "execution_count": 28,
   "id": "aab349d0",
   "metadata": {
    "execution": {
     "iopub.execute_input": "2025-07-20T10:23:43.443329Z",
     "iopub.status.busy": "2025-07-20T10:23:43.443060Z",
     "iopub.status.idle": "2025-07-20T10:23:43.448951Z",
     "shell.execute_reply": "2025-07-20T10:23:43.448072Z"
    },
    "papermill": {
     "duration": 0.020381,
     "end_time": "2025-07-20T10:23:43.450294",
     "exception": false,
     "start_time": "2025-07-20T10:23:43.429913",
     "status": "completed"
    },
    "tags": []
   },
   "outputs": [
    {
     "name": "stdout",
     "output_type": "stream",
     "text": [
      "KNN Accuracy: 0.8858695652173914\n"
     ]
    }
   ],
   "source": [
    "accuracy = accuracy_score(y_test, y_pred)\n",
    "print(\"KNN Accuracy:\", accuracy)"
   ]
  },
  {
   "cell_type": "code",
   "execution_count": 29,
   "id": "ffd29f69",
   "metadata": {
    "execution": {
     "iopub.execute_input": "2025-07-20T10:23:43.474586Z",
     "iopub.status.busy": "2025-07-20T10:23:43.474303Z",
     "iopub.status.idle": "2025-07-20T10:23:43.656243Z",
     "shell.execute_reply": "2025-07-20T10:23:43.655371Z"
    },
    "papermill": {
     "duration": 0.195908,
     "end_time": "2025-07-20T10:23:43.657886",
     "exception": false,
     "start_time": "2025-07-20T10:23:43.461978",
     "status": "completed"
    },
    "tags": []
   },
   "outputs": [
    {
     "data": {
      "image/png": "[encoded data removed]",
      "text/plain": [
       "<Figure size 500x400 with 2 Axes>"
      ]
     },
     "metadata": {},
     "output_type": "display_data"
    }
   ],
   "source": [
    "cm = confusion_matrix(y_test, y_pred)\n",
    "\n",
    "plt.figure(figsize=(5,4))\n",
    "sns.heatmap(cm, annot=True, cmap=\"Blues\", fmt='g')\n",
    "plt.xlabel(\"Predicted\")\n",
    "plt.ylabel(\"Actual\")\n",
    "plt.title(\"Confusion Matrix - KNN\")\n",
    "plt.show()"
   ]
  },
  {
   "cell_type": "code",
   "execution_count": 30,
   "id": "bbb03a95",
   "metadata": {
    "execution": {
     "iopub.execute_input": "2025-07-20T10:23:43.683262Z",
     "iopub.status.busy": "2025-07-20T10:23:43.682947Z",
     "iopub.status.idle": "2025-07-20T10:23:43.694238Z",
     "shell.execute_reply": "2025-07-20T10:23:43.693302Z"
    },
    "papermill": {
     "duration": 0.025173,
     "end_time": "2025-07-20T10:23:43.695514",
     "exception": false,
     "start_time": "2025-07-20T10:23:43.670341",
     "status": "completed"
    },
    "tags": []
   },
   "outputs": [
    {
     "name": "stdout",
     "output_type": "stream",
     "text": [
      "Classification Report for KNN:\n",
      "\n",
      "              precision    recall  f1-score   support\n",
      "\n",
      "           0       0.89      0.85      0.87        82\n",
      "           1       0.89      0.91      0.90       102\n",
      "\n",
      "    accuracy                           0.89       184\n",
      "   macro avg       0.89      0.88      0.88       184\n",
      "weighted avg       0.89      0.89      0.89       184\n",
      "\n"
     ]
    }
   ],
   "source": [
    "print(\"Classification Report for KNN:\\n\")\n",
    "print(classification_report(y_test, y_pred))"
   ]
  },
  {
   "cell_type": "code",
   "execution_count": 31,
   "id": "641c4c54",
   "metadata": {
    "execution": {
     "iopub.execute_input": "2025-07-20T10:23:43.720408Z",
     "iopub.status.busy": "2025-07-20T10:23:43.719714Z",
     "iopub.status.idle": "2025-07-20T10:23:43.902553Z",
     "shell.execute_reply": "2025-07-20T10:23:43.901736Z"
    },
    "papermill": {
     "duration": 0.196996,
     "end_time": "2025-07-20T10:23:43.904284",
     "exception": false,
     "start_time": "2025-07-20T10:23:43.707288",
     "status": "completed"
    },
    "tags": []
   },
   "outputs": [
    {
     "data": {
      "image/png": "[encoded data removed]",
      "text/plain": [
       "<Figure size 640x480 with 1 Axes>"
      ]
     },
     "metadata": {},
     "output_type": "display_data"
    }
   ],
   "source": [
    "y_proba = knn_model.predict_proba(X_test)[:, 1]  # احتمال کلاس 1\n",
    "\n",
    "fpr, tpr, thresholds = roc_curve(y_test, y_proba)\n",
    "auc = roc_auc_score(y_test, y_proba)\n",
    "\n",
    "plt.plot(fpr, tpr, label=f\"KNN ROC Curve (AUC = {auc:.2f})\")\n",
    "plt.plot([0,1], [0,1], 'k--')\n",
    "plt.xlabel(\"False Positive Rate\")\n",
    "plt.ylabel(\"True Positive Rate\")\n",
    "plt.title(\"ROC Curve - KNN\")\n",
    "plt.legend()\n",
    "plt.grid()\n",
    "plt.show()"
   ]
  },
  {
   "cell_type": "markdown",
   "id": "4ac27009",
   "metadata": {
    "papermill": {
     "duration": 0.012236,
     "end_time": "2025-07-20T10:23:43.930032",
     "exception": false,
     "start_time": "2025-07-20T10:23:43.917796",
     "status": "completed"
    },
    "tags": []
   },
   "source": [
    "**Grid Search CV**"
   ]
  },
  {
   "cell_type": "code",
   "execution_count": 32,
   "id": "64e5b12e",
   "metadata": {
    "execution": {
     "iopub.execute_input": "2025-07-20T10:23:43.956483Z",
     "iopub.status.busy": "2025-07-20T10:23:43.956209Z",
     "iopub.status.idle": "2025-07-20T10:23:49.767019Z",
     "shell.execute_reply": "2025-07-20T10:23:49.766146Z"
    },
    "papermill": {
     "duration": 5.825681,
     "end_time": "2025-07-20T10:23:49.768325",
     "exception": false,
     "start_time": "2025-07-20T10:23:43.942644",
     "status": "completed"
    },
    "tags": []
   },
   "outputs": [
    {
     "data": {
      "text/html": [
       "<style>#sk-container-id-4 {color: black;background-color: white;}#sk-container-id-4 pre{padding: 0;}#sk-container-id-4 div.sk-toggleable {background-color: white;}#sk-container-id-4 label.sk-toggleable__label {cursor: pointer;display: block;width: 100%;margin-bottom: 0;padding: 0.3em;box-sizing: border-box;text-align: center;}#sk-container-id-4 label.sk-toggleable__label-arrow:before {content: \"▸\";float: left;margin-right: 0.25em;color: #696969;}#sk-container-id-4 label.sk-toggleable__label-arrow:hover:before {color: black;}#sk-container-id-4 div.sk-estimator:hover label.sk-toggleable__label-arrow:before {color: black;}#sk-container-id-4 div.sk-toggleable__content {max-height: 0;max-width: 0;overflow: hidden;text-align: left;background-color: #f0f8ff;}#sk-container-id-4 div.sk-toggleable__content pre {margin: 0.2em;color: black;border-radius: 0.25em;background-color: #f0f8ff;}#sk-container-id-4 input.sk-toggleable__control:checked~div.sk-toggleable__content {max-height: 200px;max-width: 100%;overflow: auto;}#sk-container-id-4 input.sk-toggleable__control:checked~label.sk-toggleable__label-arrow:before {content: \"▾\";}#sk-container-id-4 div.sk-estimator input.sk-toggleable__control:checked~label.sk-toggleable__label {background-color: #d4ebff;}#sk-container-id-4 div.sk-label input.sk-toggleable__control:checked~label.sk-toggleable__label {background-color: #d4ebff;}#sk-container-id-4 input.sk-hidden--visually {border: 0;clip: rect(1px 1px 1px 1px);clip: rect(1px, 1px, 1px, 1px);height: 1px;margin: -1px;overflow: hidden;padding: 0;position: absolute;width: 1px;}#sk-container-id-4 div.sk-estimator {font-family: monospace;background-color: #f0f8ff;border: 1px dotted black;border-radius: 0.25em;box-sizing: border-box;margin-bottom: 0.5em;}#sk-container-id-4 div.sk-estimator:hover {background-color: #d4ebff;}#sk-container-id-4 div.sk-parallel-item::after {content: \"\";width: 100%;border-bottom: 1px solid gray;flex-grow: 1;}#sk-container-id-4 div.sk-label:hover label.sk-toggleable__label {background-color: #d4ebff;}#sk-container-id-4 div.sk-serial::before {content: \"\";position: absolute;border-left: 1px solid gray;box-sizing: border-box;top: 0;bottom: 0;left: 50%;z-index: 0;}#sk-container-id-4 div.sk-serial {display: flex;flex-direction: column;align-items: center;background-color: white;padding-right: 0.2em;padding-left: 0.2em;position: relative;}#sk-container-id-4 div.sk-item {position: relative;z-index: 1;}#sk-container-id-4 div.sk-parallel {display: flex;align-items: stretch;justify-content: center;background-color: white;position: relative;}#sk-container-id-4 div.sk-item::before, #sk-container-id-4 div.sk-parallel-item::before {content: \"\";position: absolute;border-left: 1px solid gray;box-sizing: border-box;top: 0;bottom: 0;left: 50%;z-index: -1;}#sk-container-id-4 div.sk-parallel-item {display: flex;flex-direction: column;z-index: 1;position: relative;background-color: white;}#sk-container-id-4 div.sk-parallel-item:first-child::after {align-self: flex-end;width: 50%;}#sk-container-id-4 div.sk-parallel-item:last-child::after {align-self: flex-start;width: 50%;}#sk-container-id-4 div.sk-parallel-item:only-child::after {width: 0;}#sk-container-id-4 div.sk-dashed-wrapped {border: 1px dashed gray;margin: 0 0.4em 0.5em 0.4em;box-sizing: border-box;padding-bottom: 0.4em;background-color: white;}#sk-container-id-4 div.sk-label label {font-family: monospace;font-weight: bold;display: inline-block;line-height: 1.2em;}#sk-container-id-4 div.sk-label-container {text-align: center;}#sk-container-id-4 div.sk-container {/* jupyter's `normalize.less` sets `[hidden] { display: none; }` but bootstrap.min.css set `[hidden] { display: none !important; }` so we also need the `!important` here to be able to override the default hidden behavior on the sphinx rendered scikit-learn.org. See: https://github.com/scikit-learn/scikit-learn/issues/21755 */display: inline-block !important;position: relative;}#sk-container-id-4 div.sk-text-repr-fallback {display: none;}</style><div id=\"sk-container-id-4\" class=\"sk-top-container\"><div class=\"sk-text-repr-fallback\"><pre>GridSearchCV(cv=5, estimator=KNeighborsClassifier(),\n",
       "             param_grid={&#x27;metric&#x27;: [&#x27;euclidean&#x27;, &#x27;manhattan&#x27;],\n",
       "                         &#x27;n_neighbors&#x27;: [1, 2, 3, 4, 5, 6, 7, 8, 9, 10, 11, 12,\n",
       "                                         13, 14, 15, 16, 17, 18, 19, 20, 21, 22,\n",
       "                                         23, 24, 25, 26, 27, 28, 29, 30],\n",
       "                         &#x27;weights&#x27;: [&#x27;uniform&#x27;, &#x27;distance&#x27;]},\n",
       "             scoring=&#x27;accuracy&#x27;)</pre><b>In a Jupyter environment, please rerun this cell to show the HTML representation or trust the notebook. <br />On GitHub, the HTML representation is unable to render, please try loading this page with nbviewer.org.</b></div><div class=\"sk-container\" hidden><div class=\"sk-item sk-dashed-wrapped\"><div class=\"sk-label-container\"><div class=\"sk-label sk-toggleable\"><input class=\"sk-toggleable__control sk-hidden--visually\" id=\"sk-estimator-id-4\" type=\"checkbox\" ><label for=\"sk-estimator-id-4\" class=\"sk-toggleable__label sk-toggleable__label-arrow\">GridSearchCV</label><div class=\"sk-toggleable__content\"><pre>GridSearchCV(cv=5, estimator=KNeighborsClassifier(),\n",
       "             param_grid={&#x27;metric&#x27;: [&#x27;euclidean&#x27;, &#x27;manhattan&#x27;],\n",
       "                         &#x27;n_neighbors&#x27;: [1, 2, 3, 4, 5, 6, 7, 8, 9, 10, 11, 12,\n",
       "                                         13, 14, 15, 16, 17, 18, 19, 20, 21, 22,\n",
       "                                         23, 24, 25, 26, 27, 28, 29, 30],\n",
       "                         &#x27;weights&#x27;: [&#x27;uniform&#x27;, &#x27;distance&#x27;]},\n",
       "             scoring=&#x27;accuracy&#x27;)</pre></div></div></div><div class=\"sk-parallel\"><div class=\"sk-parallel-item\"><div class=\"sk-item\"><div class=\"sk-label-container\"><div class=\"sk-label sk-toggleable\"><input class=\"sk-toggleable__control sk-hidden--visually\" id=\"sk-estimator-id-5\" type=\"checkbox\" ><label for=\"sk-estimator-id-5\" class=\"sk-toggleable__label sk-toggleable__label-arrow\">estimator: KNeighborsClassifier</label><div class=\"sk-toggleable__content\"><pre>KNeighborsClassifier()</pre></div></div></div><div class=\"sk-serial\"><div class=\"sk-item\"><div class=\"sk-estimator sk-toggleable\"><input class=\"sk-toggleable__control sk-hidden--visually\" id=\"sk-estimator-id-6\" type=\"checkbox\" ><label for=\"sk-estimator-id-6\" class=\"sk-toggleable__label sk-toggleable__label-arrow\">KNeighborsClassifier</label><div class=\"sk-toggleable__content\"><pre>KNeighborsClassifier()</pre></div></div></div></div></div></div></div></div></div></div>"
      ],
      "text/plain": [
       "GridSearchCV(cv=5, estimator=KNeighborsClassifier(),\n",
       "             param_grid={'metric': ['euclidean', 'manhattan'],\n",
       "                         'n_neighbors': [1, 2, 3, 4, 5, 6, 7, 8, 9, 10, 11, 12,\n",
       "                                         13, 14, 15, 16, 17, 18, 19, 20, 21, 22,\n",
       "                                         23, 24, 25, 26, 27, 28, 29, 30],\n",
       "                         'weights': ['uniform', 'distance']},\n",
       "             scoring='accuracy')"
      ]
     },
     "execution_count": 32,
     "metadata": {},
     "output_type": "execute_result"
    }
   ],
   "source": [
    "from sklearn.model_selection import GridSearchCV\n",
    "param_grid = {\n",
    "    'n_neighbors': list(range(1, 31)),\n",
    "    'weights': ['uniform', 'distance'],\n",
    "    'metric': ['euclidean', 'manhattan']\n",
    "}\n",
    "\n",
    "knn = KNeighborsClassifier()\n",
    "grid_search = GridSearchCV(knn, param_grid, cv=5, scoring='accuracy')\n",
    "grid_search.fit(X_train, y_train)"
   ]
  },
  {
   "cell_type": "code",
   "execution_count": 33,
   "id": "9744b6e3",
   "metadata": {
    "execution": {
     "iopub.execute_input": "2025-07-20T10:23:49.794850Z",
     "iopub.status.busy": "2025-07-20T10:23:49.794517Z",
     "iopub.status.idle": "2025-07-20T10:23:49.799076Z",
     "shell.execute_reply": "2025-07-20T10:23:49.798268Z"
    },
    "papermill": {
     "duration": 0.019466,
     "end_time": "2025-07-20T10:23:49.800322",
     "exception": false,
     "start_time": "2025-07-20T10:23:49.780856",
     "status": "completed"
    },
    "tags": []
   },
   "outputs": [
    {
     "name": "stdout",
     "output_type": "stream",
     "text": [
      "Best parameters: {'metric': 'manhattan', 'n_neighbors': 22, 'weights': 'distance'}\n",
      "Best cross-validation score: 0.8746062808685118\n"
     ]
    }
   ],
   "source": [
    "print(\"Best parameters:\", grid_search.best_params_)\n",
    "print(\"Best cross-validation score:\", grid_search.best_score_)"
   ]
  },
  {
   "cell_type": "code",
   "execution_count": 34,
   "id": "5e479312",
   "metadata": {
    "execution": {
     "iopub.execute_input": "2025-07-20T10:23:49.826693Z",
     "iopub.status.busy": "2025-07-20T10:23:49.826144Z",
     "iopub.status.idle": "2025-07-20T10:23:49.836640Z",
     "shell.execute_reply": "2025-07-20T10:23:49.835846Z"
    },
    "papermill": {
     "duration": 0.025419,
     "end_time": "2025-07-20T10:23:49.838135",
     "exception": false,
     "start_time": "2025-07-20T10:23:49.812716",
     "status": "completed"
    },
    "tags": []
   },
   "outputs": [],
   "source": [
    "best_knn = grid_search.best_estimator_\n",
    "y_pred = best_knn.predict(X_test)"
   ]
  },
  {
   "cell_type": "code",
   "execution_count": 35,
   "id": "14e4f6b9",
   "metadata": {
    "execution": {
     "iopub.execute_input": "2025-07-20T10:23:49.864917Z",
     "iopub.status.busy": "2025-07-20T10:23:49.864269Z",
     "iopub.status.idle": "2025-07-20T10:23:49.869653Z",
     "shell.execute_reply": "2025-07-20T10:23:49.868731Z"
    },
    "papermill": {
     "duration": 0.020209,
     "end_time": "2025-07-20T10:23:49.870899",
     "exception": false,
     "start_time": "2025-07-20T10:23:49.850690",
     "status": "completed"
    },
    "tags": []
   },
   "outputs": [
    {
     "name": "stdout",
     "output_type": "stream",
     "text": [
      "Test set accuracy: 0.9021739130434783\n"
     ]
    }
   ],
   "source": [
    "from sklearn.metrics import accuracy_score\n",
    "print(\"Test set accuracy:\", accuracy_score(y_test, y_pred))"
   ]
  },
  {
   "cell_type": "markdown",
   "id": "b10a3d37",
   "metadata": {
    "papermill": {
     "duration": 0.012556,
     "end_time": "2025-07-20T10:23:49.896000",
     "exception": false,
     "start_time": "2025-07-20T10:23:49.883444",
     "status": "completed"
    },
    "tags": []
   },
   "source": [
    "**Cross Validation**"
   ]
  },
  {
   "cell_type": "code",
   "execution_count": 36,
   "id": "0512f4ce",
   "metadata": {
    "execution": {
     "iopub.execute_input": "2025-07-20T10:23:49.922377Z",
     "iopub.status.busy": "2025-07-20T10:23:49.922097Z",
     "iopub.status.idle": "2025-07-20T10:23:49.926271Z",
     "shell.execute_reply": "2025-07-20T10:23:49.925489Z"
    },
    "papermill": {
     "duration": 0.018914,
     "end_time": "2025-07-20T10:23:49.927492",
     "exception": false,
     "start_time": "2025-07-20T10:23:49.908578",
     "status": "completed"
    },
    "tags": []
   },
   "outputs": [],
   "source": [
    "from sklearn.model_selection import cross_val_score\n",
    "from sklearn.linear_model import LogisticRegression\n",
    "\n",
    "log_model = LogisticRegression(max_iter=1000)"
   ]
  },
  {
   "cell_type": "code",
   "execution_count": 37,
   "id": "596fb21d",
   "metadata": {
    "execution": {
     "iopub.execute_input": "2025-07-20T10:23:49.954392Z",
     "iopub.status.busy": "2025-07-20T10:23:49.954129Z",
     "iopub.status.idle": "2025-07-20T10:24:09.260620Z",
     "shell.execute_reply": "2025-07-20T10:24:09.259819Z"
    },
    "papermill": {
     "duration": 19.322231,
     "end_time": "2025-07-20T10:24:09.262536",
     "exception": false,
     "start_time": "2025-07-20T10:23:49.940305",
     "status": "completed"
    },
    "tags": []
   },
   "outputs": [
    {
     "name": "stdout",
     "output_type": "stream",
     "text": [
      "Cross Validation Accuracy for each fold: [0.84782609 0.83695652 0.8423913  0.86885246 0.76502732]\n",
      "Average Accuracy: 0.8322107388928487\n",
      "Standard Deviation: 0.0352880505770244\n"
     ]
    }
   ],
   "source": [
    "scores = cross_val_score(log_model,X, y, cv=5, scoring='accuracy')\n",
    "\n",
    "print(\"Cross Validation Accuracy for each fold:\",scores)\n",
    "print(\"Average Accuracy:\", scores.mean())\n",
    "print(\"Standard Deviation:\", scores.std())"
   ]
  },
  {
   "cell_type": "markdown",
   "id": "f555a9ff",
   "metadata": {
    "papermill": {
     "duration": 0.02079,
     "end_time": "2025-07-20T10:24:09.304620",
     "exception": false,
     "start_time": "2025-07-20T10:24:09.283830",
     "status": "completed"
    },
    "tags": []
   },
   "source": [
    "**Cross Validation for Decision Tree**"
   ]
  },
  {
   "cell_type": "code",
   "execution_count": 38,
   "id": "ddfaa5c1",
   "metadata": {
    "execution": {
     "iopub.execute_input": "2025-07-20T10:24:09.348946Z",
     "iopub.status.busy": "2025-07-20T10:24:09.347500Z",
     "iopub.status.idle": "2025-07-20T10:24:09.438895Z",
     "shell.execute_reply": "2025-07-20T10:24:09.437795Z"
    },
    "papermill": {
     "duration": 0.114671,
     "end_time": "2025-07-20T10:24:09.440348",
     "exception": false,
     "start_time": "2025-07-20T10:24:09.325677",
     "status": "completed"
    },
    "tags": []
   },
   "outputs": [
    {
     "name": "stdout",
     "output_type": "stream",
     "text": [
      "Decision Tree Accuracy (5-fold): [0.75       0.77173913 0.77717391 0.68852459 0.67759563]\n",
      "Average Accuracy: 0.7330066524114991\n"
     ]
    }
   ],
   "source": [
    "from sklearn.tree import DecisionTreeClassifier\n",
    "\n",
    "dt_model = DecisionTreeClassifier(random_state=42)\n",
    "\n",
    "dt_scores = cross_val_score(dt_model , X, y, cv=5, scoring='accuracy')\n",
    "\n",
    "\n",
    "print(\"Decision Tree Accuracy (5-fold):\", dt_scores)\n",
    "print(\"Average Accuracy:\", dt_scores.mean())"
   ]
  },
  {
   "cell_type": "markdown",
   "id": "abb7e265",
   "metadata": {
    "papermill": {
     "duration": 0.01242,
     "end_time": "2025-07-20T10:24:09.465498",
     "exception": false,
     "start_time": "2025-07-20T10:24:09.453078",
     "status": "completed"
    },
    "tags": []
   },
   "source": [
    "**Cross Validation for Random Forest**"
   ]
  },
  {
   "cell_type": "code",
   "execution_count": 39,
   "id": "07572fdd",
   "metadata": {
    "execution": {
     "iopub.execute_input": "2025-07-20T10:24:09.493447Z",
     "iopub.status.busy": "2025-07-20T10:24:09.492676Z",
     "iopub.status.idle": "2025-07-20T10:24:10.508629Z",
     "shell.execute_reply": "2025-07-20T10:24:10.507599Z"
    },
    "papermill": {
     "duration": 1.031489,
     "end_time": "2025-07-20T10:24:10.509969",
     "exception": false,
     "start_time": "2025-07-20T10:24:09.478480",
     "status": "completed"
    },
    "tags": []
   },
   "outputs": [
    {
     "name": "stdout",
     "output_type": "stream",
     "text": [
      "Random Forest Accuracy (5-fold): [0.85869565 0.83152174 0.83695652 0.81420765 0.7431694 ]\n",
      "Average Accuracy: 0.8169101924447613\n"
     ]
    }
   ],
   "source": [
    "from sklearn.ensemble import RandomForestClassifier\n",
    "\n",
    "rf_model = RandomForestClassifier(random_state=42)\n",
    "\n",
    "rf_scores = cross_val_score(rf_model, X, y, cv=5, scoring='accuracy')\n",
    "\n",
    "print(\"Random Forest Accuracy (5-fold):\", rf_scores)\n",
    "print(\"Average Accuracy:\", rf_scores.mean())"
   ]
  },
  {
   "cell_type": "markdown",
   "id": "69281f82",
   "metadata": {
    "papermill": {
     "duration": 0.012451,
     "end_time": "2025-07-20T10:24:10.535152",
     "exception": false,
     "start_time": "2025-07-20T10:24:10.522701",
     "status": "completed"
    },
    "tags": []
   },
   "source": [
    "**GricdSeachCV**"
   ]
  },
  {
   "cell_type": "code",
   "execution_count": 40,
   "id": "5869b3ea",
   "metadata": {
    "execution": {
     "iopub.execute_input": "2025-07-20T10:24:10.564614Z",
     "iopub.status.busy": "2025-07-20T10:24:10.563799Z",
     "iopub.status.idle": "2025-07-20T10:24:45.684392Z",
     "shell.execute_reply": "2025-07-20T10:24:45.683406Z"
    },
    "papermill": {
     "duration": 35.150091,
     "end_time": "2025-07-20T10:24:45.697910",
     "exception": false,
     "start_time": "2025-07-20T10:24:10.547819",
     "status": "completed"
    },
    "tags": []
   },
   "outputs": [
    {
     "name": "stdout",
     "output_type": "stream",
     "text": [
      "Best Parameters: {'criterion': 'gini', 'max_depth': None, 'max_features': 'sqrt', 'n_estimators': 200}\n",
      "Best Cross-Validation Score: 0.8623613829093282\n"
     ]
    }
   ],
   "source": [
    "param_grid = {\n",
    "    'n_estimators': [50, 100, 200],\n",
    "    'max_depth': [None, 5, 10],\n",
    "    'max_features': ['sqrt', 'log2'],\n",
    "    'criterion': ['gini', 'entropy']\n",
    "}\n",
    "\n",
    "rf = RandomForestClassifier(random_state=42)\n",
    "grid_search = GridSearchCV(rf, param_grid, cv=5, scoring= 'accuracy')\n",
    "grid_search.fit(X_train,y_train)\n",
    "\n",
    "print(\"Best Parameters:\", grid_search.best_params_)\n",
    "print(\"Best Cross-Validation Score:\", grid_search.best_score_)\n",
    "\n",
    "best_rf = grid_search.best_estimator_\n",
    "\n",
    "y_pred = best_rf.predict(X_test)"
   ]
  },
  {
   "cell_type": "markdown",
   "id": "0a6e68a1",
   "metadata": {
    "papermill": {
     "duration": 0.012454,
     "end_time": "2025-07-20T10:24:45.723053",
     "exception": false,
     "start_time": "2025-07-20T10:24:45.710599",
     "status": "completed"
    },
    "tags": []
   },
   "source": [
    "**Feature Importance**"
   ]
  },
  {
   "cell_type": "code",
   "execution_count": 41,
   "id": "9c7916df",
   "metadata": {
    "execution": {
     "iopub.execute_input": "2025-07-20T10:24:45.750136Z",
     "iopub.status.busy": "2025-07-20T10:24:45.749475Z",
     "iopub.status.idle": "2025-07-20T10:24:45.992750Z",
     "shell.execute_reply": "2025-07-20T10:24:45.991863Z"
    },
    "papermill": {
     "duration": 0.258794,
     "end_time": "2025-07-20T10:24:45.994471",
     "exception": false,
     "start_time": "2025-07-20T10:24:45.735677",
     "status": "completed"
    },
    "tags": []
   },
   "outputs": [
    {
     "data": {
      "image/png": "[encoded data removed]",
      "text/plain": [
       "<Figure size 640x480 with 1 Axes>"
      ]
     },
     "metadata": {},
     "output_type": "display_data"
    }
   ],
   "source": [
    "importances = best_rf.feature_importances_\n",
    "features = X.columns\n",
    "\n",
    "sns.barplot(x=importances, y=features)\n",
    "plt.title(\"Feature Importance (Random Forest)\")\n",
    "plt.show()"
   ]
  },
  {
   "cell_type": "markdown",
   "id": "41f3dff2",
   "metadata": {
    "papermill": {
     "duration": 0.013573,
     "end_time": "2025-07-20T10:24:46.022741",
     "exception": false,
     "start_time": "2025-07-20T10:24:46.009168",
     "status": "completed"
    },
    "tags": []
   },
   "source": [
    "**Pipeline**"
   ]
  },
  {
   "cell_type": "code",
   "execution_count": 42,
   "id": "bdc1191b",
   "metadata": {
    "execution": {
     "iopub.execute_input": "2025-07-20T10:24:46.051451Z",
     "iopub.status.busy": "2025-07-20T10:24:46.051190Z",
     "iopub.status.idle": "2025-07-20T10:24:46.420760Z",
     "shell.execute_reply": "2025-07-20T10:24:46.419915Z"
    },
    "papermill": {
     "duration": 0.386034,
     "end_time": "2025-07-20T10:24:46.422312",
     "exception": false,
     "start_time": "2025-07-20T10:24:46.036278",
     "status": "completed"
    },
    "tags": []
   },
   "outputs": [],
   "source": [
    "from sklearn.pipeline import Pipeline\n",
    "\n",
    "pipeline = Pipeline([\n",
    "    ('scaler',StandardScaler()),\n",
    "    ('classifier', RandomForestClassifier(**grid_search.best_params_))\n",
    "])\n",
    "\n",
    "pipeline.fit(X_train, y_train)\n",
    "y_pred_pipe = pipeline.predict(X_test)"
   ]
  },
  {
   "cell_type": "code",
   "execution_count": 43,
   "id": "046ea70a",
   "metadata": {
    "execution": {
     "iopub.execute_input": "2025-07-20T10:24:46.450968Z",
     "iopub.status.busy": "2025-07-20T10:24:46.450620Z",
     "iopub.status.idle": "2025-07-20T10:24:46.640221Z",
     "shell.execute_reply": "2025-07-20T10:24:46.639493Z"
    },
    "papermill": {
     "duration": 0.205247,
     "end_time": "2025-07-20T10:24:46.641506",
     "exception": false,
     "start_time": "2025-07-20T10:24:46.436259",
     "status": "completed"
    },
    "tags": []
   },
   "outputs": [
    {
     "name": "stdout",
     "output_type": "stream",
     "text": [
      "Accuracy: 0.8858695652173914\n",
      "\n",
      "Classification Report:\n",
      "               precision    recall  f1-score   support\n",
      "\n",
      "           0       0.89      0.85      0.87        82\n",
      "           1       0.89      0.91      0.90       102\n",
      "\n",
      "    accuracy                           0.89       184\n",
      "   macro avg       0.89      0.88      0.88       184\n",
      "weighted avg       0.89      0.89      0.89       184\n",
      "\n"
     ]
    },
    {
     "data": {
      "image/png": "[encoded data removed]",
      "text/plain": [
       "<Figure size 640x480 with 2 Axes>"
      ]
     },
     "metadata": {},
     "output_type": "display_data"
    }
   ],
   "source": [
    "from sklearn.metrics import classification_report, confusion_matrix, accuracy_score\n",
    "\n",
    "print(\"Accuracy:\", accuracy_score(y_test, y_pred_pipe))\n",
    "print(\"\\nClassification Report:\\n\", classification_report(y_test, y_pred_pipe))\n",
    "\n",
    "sns.heatmap(confusion_matrix(y_test,y_pred_pipe), annot=True, cmap='Blues', fmt='g')\n",
    "plt.title(\"Confusion Matrix\")\n",
    "plt.xlabel(\"Predicted\")\n",
    "plt.ylabel(\"Actual\")\n",
    "plt.show()"
   ]
  },
  {
   "cell_type": "code",
   "execution_count": 44,
   "id": "97931fab",
   "metadata": {
    "execution": {
     "iopub.execute_input": "2025-07-20T10:24:46.671689Z",
     "iopub.status.busy": "2025-07-20T10:24:46.671402Z",
     "iopub.status.idle": "2025-07-20T10:24:46.742598Z",
     "shell.execute_reply": "2025-07-20T10:24:46.741665Z"
    },
    "papermill": {
     "duration": 0.087976,
     "end_time": "2025-07-20T10:24:46.744282",
     "exception": false,
     "start_time": "2025-07-20T10:24:46.656306",
     "status": "completed"
    },
    "tags": []
   },
   "outputs": [
    {
     "data": {
      "text/plain": [
       "['heart_disease_model.pkl']"
      ]
     },
     "execution_count": 44,
     "metadata": {},
     "output_type": "execute_result"
    }
   ],
   "source": [
    "import joblib\n",
    "\n",
    "joblib.dump(pipeline, \"heart_disease_model.pkl\")"
   ]
  },
  {
   "cell_type": "code",
   "execution_count": null,
   "id": "032087e6",
   "metadata": {
    "papermill": {
     "duration": 0.014831,
     "end_time": "2025-07-20T10:24:46.773425",
     "exception": false,
     "start_time": "2025-07-20T10:24:46.758594",
     "status": "completed"
    },
    "tags": []
   },
   "outputs": [],
   "source": []
  }
 ],
 "metadata": {
  "kaggle": {
   "accelerator": "none",
   "dataSources": [
    {
     "datasetId": 1582403,
     "sourceId": 2603715,
     "sourceType": "datasetVersion"
    }
   ],
   "dockerImageVersionId": 31089,
   "isGpuEnabled": false,
   "isInternetEnabled": true,
   "language": "python",
   "sourceType": "notebook"
  },
  "kernelspec": {
   "display_name": "Python 3",
   "language": "python",
   "name": "python3"
  },
  "language_info": {
   "codemirror_mode": {
    "name": "ipython",
    "version": 3
   },
   "file_extension": ".py",
   "mimetype": "text/x-python",
   "name": "python",
   "nbconvert_exporter": "python",
   "pygments_lexer": "ipython3",
   "version": "3.11.13"
  },
  "papermill": {
   "default_parameters": {},
   "duration": 74.401313,
   "end_time": "2025-07-20T10:24:47.507734",
   "environment_variables": {},
   "exception": null,
   "input_path": "__notebook__.ipynb",
   "output_path": "__notebook__.ipynb",
   "parameters": {},
   "start_time": "2025-07-20T10:23:33.106421",
   "version": "2.6.0"
  }
 },
 "nbformat": 4,
 "nbformat_minor": 5
}

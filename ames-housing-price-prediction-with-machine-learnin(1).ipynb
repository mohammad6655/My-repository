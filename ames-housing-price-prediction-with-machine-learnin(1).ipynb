{
 "cells": [
  {
   "cell_type": "code",
   "execution_count": 1,
   "id": "fb4de7f0",
   "metadata": {
    "_cell_guid": "b1076dfc-b9ad-4769-8c92-a6c4dae69d19",
    "_uuid": "8f2839f25d086af736a60e9eeb907d3b93b6e0e5",
    "execution": {
     "iopub.execute_input": "2025-07-27T09:21:09.456364Z",
     "iopub.status.busy": "2025-07-27T09:21:09.455392Z",
     "iopub.status.idle": "2025-07-27T09:21:11.363831Z",
     "shell.execute_reply": "2025-07-27T09:21:11.362770Z"
    },
    "papermill": {
     "duration": 1.925118,
     "end_time": "2025-07-27T09:21:11.365482",
     "exception": false,
     "start_time": "2025-07-27T09:21:09.440364",
     "status": "completed"
    },
    "tags": []
   },
   "outputs": [
    {
     "name": "stdout",
     "output_type": "stream",
     "text": [
      "/kaggle/input/ames-housing-dataset/AmesHousing.csv\n"
     ]
    }
   ],
   "source": [
    "# This Python 3 environment comes with many helpful analytics libraries installed\n",
    "# It is defined by the kaggle/python Docker image: https://github.com/kaggle/docker-python\n",
    "# For example, here's several helpful packages to load\n",
    "\n",
    "import numpy as np # linear algebra\n",
    "import pandas as pd # data processing, CSV file I/O (e.g. pd.read_csv)\n",
    "\n",
    "# Input data files are available in the read-only \"../input/\" directory\n",
    "# For example, running this (by clicking run or pressing Shift+Enter) will list all files under the input directory\n",
    "\n",
    "import os\n",
    "for dirname, _, filenames in os.walk('/kaggle/input'):\n",
    "    for filename in filenames:\n",
    "        print(os.path.join(dirname, filename))\n",
    "\n",
    "# You can write up to 20GB to the current directory (/kaggle/working/) that gets preserved as output when you create a version using \"Save & Run All\" \n",
    "# You can also write temporary files to /kaggle/temp/, but they won't be saved outside of the current session"
   ]
  },
  {
   "cell_type": "code",
   "execution_count": 2,
   "id": "55d329fd",
   "metadata": {
    "execution": {
     "iopub.execute_input": "2025-07-27T09:21:11.382138Z",
     "iopub.status.busy": "2025-07-27T09:21:11.381318Z",
     "iopub.status.idle": "2025-07-27T09:21:11.452534Z",
     "shell.execute_reply": "2025-07-27T09:21:11.451708Z"
    },
    "papermill": {
     "duration": 0.081138,
     "end_time": "2025-07-27T09:21:11.454196",
     "exception": false,
     "start_time": "2025-07-27T09:21:11.373058",
     "status": "completed"
    },
    "tags": []
   },
   "outputs": [],
   "source": [
    "df = pd.read_csv(\"/kaggle/input/ames-housing-dataset/AmesHousing.csv\")"
   ]
  },
  {
   "cell_type": "code",
   "execution_count": 3,
   "id": "220b0027",
   "metadata": {
    "execution": {
     "iopub.execute_input": "2025-07-27T09:21:11.470233Z",
     "iopub.status.busy": "2025-07-27T09:21:11.469568Z",
     "iopub.status.idle": "2025-07-27T09:21:11.505915Z",
     "shell.execute_reply": "2025-07-27T09:21:11.504974Z"
    },
    "papermill": {
     "duration": 0.045898,
     "end_time": "2025-07-27T09:21:11.507488",
     "exception": false,
     "start_time": "2025-07-27T09:21:11.461590",
     "status": "completed"
    },
    "tags": []
   },
   "outputs": [
    {
     "data": {
      "text/html": [
       "<div>\n",
       "<style scoped>\n",
       "    .dataframe tbody tr th:only-of-type {\n",
       "        vertical-align: middle;\n",
       "    }\n",
       "\n",
       "    .dataframe tbody tr th {\n",
       "        vertical-align: top;\n",
       "    }\n",
       "\n",
       "    .dataframe thead th {\n",
       "        text-align: right;\n",
       "    }\n",
       "</style>\n",
       "<table border=\"1\" class=\"dataframe\">\n",
       "  <thead>\n",
       "    <tr style=\"text-align: right;\">\n",
       "      <th></th>\n",
       "      <th>Order</th>\n",
       "      <th>PID</th>\n",
       "      <th>MS SubClass</th>\n",
       "      <th>MS Zoning</th>\n",
       "      <th>Lot Frontage</th>\n",
       "      <th>Lot Area</th>\n",
       "      <th>Street</th>\n",
       "      <th>Alley</th>\n",
       "      <th>Lot Shape</th>\n",
       "      <th>Land Contour</th>\n",
       "      <th>...</th>\n",
       "      <th>Pool Area</th>\n",
       "      <th>Pool QC</th>\n",
       "      <th>Fence</th>\n",
       "      <th>Misc Feature</th>\n",
       "      <th>Misc Val</th>\n",
       "      <th>Mo Sold</th>\n",
       "      <th>Yr Sold</th>\n",
       "      <th>Sale Type</th>\n",
       "      <th>Sale Condition</th>\n",
       "      <th>SalePrice</th>\n",
       "    </tr>\n",
       "  </thead>\n",
       "  <tbody>\n",
       "    <tr>\n",
       "      <th>0</th>\n",
       "      <td>1</td>\n",
       "      <td>526301100</td>\n",
       "      <td>20</td>\n",
       "      <td>RL</td>\n",
       "      <td>141.0</td>\n",
       "      <td>31770</td>\n",
       "      <td>Pave</td>\n",
       "      <td>NaN</td>\n",
       "      <td>IR1</td>\n",
       "      <td>Lvl</td>\n",
       "      <td>...</td>\n",
       "      <td>0</td>\n",
       "      <td>NaN</td>\n",
       "      <td>NaN</td>\n",
       "      <td>NaN</td>\n",
       "      <td>0</td>\n",
       "      <td>5</td>\n",
       "      <td>2010</td>\n",
       "      <td>WD</td>\n",
       "      <td>Normal</td>\n",
       "      <td>215000</td>\n",
       "    </tr>\n",
       "    <tr>\n",
       "      <th>1</th>\n",
       "      <td>2</td>\n",
       "      <td>526350040</td>\n",
       "      <td>20</td>\n",
       "      <td>RH</td>\n",
       "      <td>80.0</td>\n",
       "      <td>11622</td>\n",
       "      <td>Pave</td>\n",
       "      <td>NaN</td>\n",
       "      <td>Reg</td>\n",
       "      <td>Lvl</td>\n",
       "      <td>...</td>\n",
       "      <td>0</td>\n",
       "      <td>NaN</td>\n",
       "      <td>MnPrv</td>\n",
       "      <td>NaN</td>\n",
       "      <td>0</td>\n",
       "      <td>6</td>\n",
       "      <td>2010</td>\n",
       "      <td>WD</td>\n",
       "      <td>Normal</td>\n",
       "      <td>105000</td>\n",
       "    </tr>\n",
       "    <tr>\n",
       "      <th>2</th>\n",
       "      <td>3</td>\n",
       "      <td>526351010</td>\n",
       "      <td>20</td>\n",
       "      <td>RL</td>\n",
       "      <td>81.0</td>\n",
       "      <td>14267</td>\n",
       "      <td>Pave</td>\n",
       "      <td>NaN</td>\n",
       "      <td>IR1</td>\n",
       "      <td>Lvl</td>\n",
       "      <td>...</td>\n",
       "      <td>0</td>\n",
       "      <td>NaN</td>\n",
       "      <td>NaN</td>\n",
       "      <td>Gar2</td>\n",
       "      <td>12500</td>\n",
       "      <td>6</td>\n",
       "      <td>2010</td>\n",
       "      <td>WD</td>\n",
       "      <td>Normal</td>\n",
       "      <td>172000</td>\n",
       "    </tr>\n",
       "    <tr>\n",
       "      <th>3</th>\n",
       "      <td>4</td>\n",
       "      <td>526353030</td>\n",
       "      <td>20</td>\n",
       "      <td>RL</td>\n",
       "      <td>93.0</td>\n",
       "      <td>11160</td>\n",
       "      <td>Pave</td>\n",
       "      <td>NaN</td>\n",
       "      <td>Reg</td>\n",
       "      <td>Lvl</td>\n",
       "      <td>...</td>\n",
       "      <td>0</td>\n",
       "      <td>NaN</td>\n",
       "      <td>NaN</td>\n",
       "      <td>NaN</td>\n",
       "      <td>0</td>\n",
       "      <td>4</td>\n",
       "      <td>2010</td>\n",
       "      <td>WD</td>\n",
       "      <td>Normal</td>\n",
       "      <td>244000</td>\n",
       "    </tr>\n",
       "    <tr>\n",
       "      <th>4</th>\n",
       "      <td>5</td>\n",
       "      <td>527105010</td>\n",
       "      <td>60</td>\n",
       "      <td>RL</td>\n",
       "      <td>74.0</td>\n",
       "      <td>13830</td>\n",
       "      <td>Pave</td>\n",
       "      <td>NaN</td>\n",
       "      <td>IR1</td>\n",
       "      <td>Lvl</td>\n",
       "      <td>...</td>\n",
       "      <td>0</td>\n",
       "      <td>NaN</td>\n",
       "      <td>MnPrv</td>\n",
       "      <td>NaN</td>\n",
       "      <td>0</td>\n",
       "      <td>3</td>\n",
       "      <td>2010</td>\n",
       "      <td>WD</td>\n",
       "      <td>Normal</td>\n",
       "      <td>189900</td>\n",
       "    </tr>\n",
       "  </tbody>\n",
       "</table>\n",
       "<p>5 rows × 82 columns</p>\n",
       "</div>"
      ],
      "text/plain": [
       "   Order        PID  MS SubClass MS Zoning  Lot Frontage  Lot Area Street  \\\n",
       "0      1  526301100           20        RL         141.0     31770   Pave   \n",
       "1      2  526350040           20        RH          80.0     11622   Pave   \n",
       "2      3  526351010           20        RL          81.0     14267   Pave   \n",
       "3      4  526353030           20        RL          93.0     11160   Pave   \n",
       "4      5  527105010           60        RL          74.0     13830   Pave   \n",
       "\n",
       "  Alley Lot Shape Land Contour  ... Pool Area Pool QC  Fence Misc Feature  \\\n",
       "0   NaN       IR1          Lvl  ...         0     NaN    NaN          NaN   \n",
       "1   NaN       Reg          Lvl  ...         0     NaN  MnPrv          NaN   \n",
       "2   NaN       IR1          Lvl  ...         0     NaN    NaN         Gar2   \n",
       "3   NaN       Reg          Lvl  ...         0     NaN    NaN          NaN   \n",
       "4   NaN       IR1          Lvl  ...         0     NaN  MnPrv          NaN   \n",
       "\n",
       "  Misc Val Mo Sold Yr Sold Sale Type  Sale Condition  SalePrice  \n",
       "0        0       5    2010       WD           Normal     215000  \n",
       "1        0       6    2010       WD           Normal     105000  \n",
       "2    12500       6    2010       WD           Normal     172000  \n",
       "3        0       4    2010       WD           Normal     244000  \n",
       "4        0       3    2010       WD           Normal     189900  \n",
       "\n",
       "[5 rows x 82 columns]"
      ]
     },
     "execution_count": 3,
     "metadata": {},
     "output_type": "execute_result"
    }
   ],
   "source": [
    "df.head()"
   ]
  },
  {
   "cell_type": "code",
   "execution_count": 4,
   "id": "720e5b63",
   "metadata": {
    "execution": {
     "iopub.execute_input": "2025-07-27T09:21:11.524833Z",
     "iopub.status.busy": "2025-07-27T09:21:11.524532Z",
     "iopub.status.idle": "2025-07-27T09:21:11.540213Z",
     "shell.execute_reply": "2025-07-27T09:21:11.539240Z"
    },
    "papermill": {
     "duration": 0.02613,
     "end_time": "2025-07-27T09:21:11.541731",
     "exception": false,
     "start_time": "2025-07-27T09:21:11.515601",
     "status": "completed"
    },
    "tags": []
   },
   "outputs": [
    {
     "name": "stderr",
     "output_type": "stream",
     "text": [
      "/usr/local/lib/python3.11/dist-packages/pandas/io/formats/format.py:1458: RuntimeWarning: invalid value encountered in greater\n",
      "  has_large_values = (abs_vals > 1e6).any()\n",
      "/usr/local/lib/python3.11/dist-packages/pandas/io/formats/format.py:1459: RuntimeWarning: invalid value encountered in less\n",
      "  has_small_values = ((abs_vals < 10 ** (-self.digits)) & (abs_vals > 0)).any()\n",
      "/usr/local/lib/python3.11/dist-packages/pandas/io/formats/format.py:1459: RuntimeWarning: invalid value encountered in greater\n",
      "  has_small_values = ((abs_vals < 10 ** (-self.digits)) & (abs_vals > 0)).any()\n"
     ]
    },
    {
     "data": {
      "text/plain": [
       "<bound method NDFrame.describe of       Order        PID  MS SubClass MS Zoning  Lot Frontage  Lot Area Street  \\\n",
       "0         1  526301100           20        RL         141.0     31770   Pave   \n",
       "1         2  526350040           20        RH          80.0     11622   Pave   \n",
       "2         3  526351010           20        RL          81.0     14267   Pave   \n",
       "3         4  526353030           20        RL          93.0     11160   Pave   \n",
       "4         5  527105010           60        RL          74.0     13830   Pave   \n",
       "...     ...        ...          ...       ...           ...       ...    ...   \n",
       "2925   2926  923275080           80        RL          37.0      7937   Pave   \n",
       "2926   2927  923276100           20        RL           NaN      8885   Pave   \n",
       "2927   2928  923400125           85        RL          62.0     10441   Pave   \n",
       "2928   2929  924100070           20        RL          77.0     10010   Pave   \n",
       "2929   2930  924151050           60        RL          74.0      9627   Pave   \n",
       "\n",
       "     Alley Lot Shape Land Contour  ... Pool Area Pool QC  Fence Misc Feature  \\\n",
       "0      NaN       IR1          Lvl  ...         0     NaN    NaN          NaN   \n",
       "1      NaN       Reg          Lvl  ...         0     NaN  MnPrv          NaN   \n",
       "2      NaN       IR1          Lvl  ...         0     NaN    NaN         Gar2   \n",
       "3      NaN       Reg          Lvl  ...         0     NaN    NaN          NaN   \n",
       "4      NaN       IR1          Lvl  ...         0     NaN  MnPrv          NaN   \n",
       "...    ...       ...          ...  ...       ...     ...    ...          ...   \n",
       "2925   NaN       IR1          Lvl  ...         0     NaN  GdPrv          NaN   \n",
       "2926   NaN       IR1          Low  ...         0     NaN  MnPrv          NaN   \n",
       "2927   NaN       Reg          Lvl  ...         0     NaN  MnPrv         Shed   \n",
       "2928   NaN       Reg          Lvl  ...         0     NaN    NaN          NaN   \n",
       "2929   NaN       Reg          Lvl  ...         0     NaN    NaN          NaN   \n",
       "\n",
       "     Misc Val Mo Sold Yr Sold Sale Type  Sale Condition  SalePrice  \n",
       "0           0       5    2010       WD           Normal     215000  \n",
       "1           0       6    2010       WD           Normal     105000  \n",
       "2       12500       6    2010       WD           Normal     172000  \n",
       "3           0       4    2010       WD           Normal     244000  \n",
       "4           0       3    2010       WD           Normal     189900  \n",
       "...       ...     ...     ...       ...             ...        ...  \n",
       "2925        0       3    2006       WD           Normal     142500  \n",
       "2926        0       6    2006       WD           Normal     131000  \n",
       "2927      700       7    2006       WD           Normal     132000  \n",
       "2928        0       4    2006       WD           Normal     170000  \n",
       "2929        0      11    2006       WD           Normal     188000  \n",
       "\n",
       "[2930 rows x 82 columns]>"
      ]
     },
     "execution_count": 4,
     "metadata": {},
     "output_type": "execute_result"
    }
   ],
   "source": [
    "df.describe"
   ]
  },
  {
   "cell_type": "code",
   "execution_count": 5,
   "id": "376346dc",
   "metadata": {
    "execution": {
     "iopub.execute_input": "2025-07-27T09:21:11.558852Z",
     "iopub.status.busy": "2025-07-27T09:21:11.558095Z",
     "iopub.status.idle": "2025-07-27T09:21:11.590205Z",
     "shell.execute_reply": "2025-07-27T09:21:11.588947Z"
    },
    "papermill": {
     "duration": 0.042215,
     "end_time": "2025-07-27T09:21:11.591807",
     "exception": false,
     "start_time": "2025-07-27T09:21:11.549592",
     "status": "completed"
    },
    "tags": []
   },
   "outputs": [
    {
     "name": "stdout",
     "output_type": "stream",
     "text": [
      "<class 'pandas.core.frame.DataFrame'>\n",
      "RangeIndex: 2930 entries, 0 to 2929\n",
      "Data columns (total 82 columns):\n",
      " #   Column           Non-Null Count  Dtype  \n",
      "---  ------           --------------  -----  \n",
      " 0   Order            2930 non-null   int64  \n",
      " 1   PID              2930 non-null   int64  \n",
      " 2   MS SubClass      2930 non-null   int64  \n",
      " 3   MS Zoning        2930 non-null   object \n",
      " 4   Lot Frontage     2440 non-null   float64\n",
      " 5   Lot Area         2930 non-null   int64  \n",
      " 6   Street           2930 non-null   object \n",
      " 7   Alley            198 non-null    object \n",
      " 8   Lot Shape        2930 non-null   object \n",
      " 9   Land Contour     2930 non-null   object \n",
      " 10  Utilities        2930 non-null   object \n",
      " 11  Lot Config       2930 non-null   object \n",
      " 12  Land Slope       2930 non-null   object \n",
      " 13  Neighborhood     2930 non-null   object \n",
      " 14  Condition 1      2930 non-null   object \n",
      " 15  Condition 2      2930 non-null   object \n",
      " 16  Bldg Type        2930 non-null   object \n",
      " 17  House Style      2930 non-null   object \n",
      " 18  Overall Qual     2930 non-null   int64  \n",
      " 19  Overall Cond     2930 non-null   int64  \n",
      " 20  Year Built       2930 non-null   int64  \n",
      " 21  Year Remod/Add   2930 non-null   int64  \n",
      " 22  Roof Style       2930 non-null   object \n",
      " 23  Roof Matl        2930 non-null   object \n",
      " 24  Exterior 1st     2930 non-null   object \n",
      " 25  Exterior 2nd     2930 non-null   object \n",
      " 26  Mas Vnr Type     1155 non-null   object \n",
      " 27  Mas Vnr Area     2907 non-null   float64\n",
      " 28  Exter Qual       2930 non-null   object \n",
      " 29  Exter Cond       2930 non-null   object \n",
      " 30  Foundation       2930 non-null   object \n",
      " 31  Bsmt Qual        2850 non-null   object \n",
      " 32  Bsmt Cond        2850 non-null   object \n",
      " 33  Bsmt Exposure    2847 non-null   object \n",
      " 34  BsmtFin Type 1   2850 non-null   object \n",
      " 35  BsmtFin SF 1     2929 non-null   float64\n",
      " 36  BsmtFin Type 2   2849 non-null   object \n",
      " 37  BsmtFin SF 2     2929 non-null   float64\n",
      " 38  Bsmt Unf SF      2929 non-null   float64\n",
      " 39  Total Bsmt SF    2929 non-null   float64\n",
      " 40  Heating          2930 non-null   object \n",
      " 41  Heating QC       2930 non-null   object \n",
      " 42  Central Air      2930 non-null   object \n",
      " 43  Electrical       2929 non-null   object \n",
      " 44  1st Flr SF       2930 non-null   int64  \n",
      " 45  2nd Flr SF       2930 non-null   int64  \n",
      " 46  Low Qual Fin SF  2930 non-null   int64  \n",
      " 47  Gr Liv Area      2930 non-null   int64  \n",
      " 48  Bsmt Full Bath   2928 non-null   float64\n",
      " 49  Bsmt Half Bath   2928 non-null   float64\n",
      " 50  Full Bath        2930 non-null   int64  \n",
      " 51  Half Bath        2930 non-null   int64  \n",
      " 52  Bedroom AbvGr    2930 non-null   int64  \n",
      " 53  Kitchen AbvGr    2930 non-null   int64  \n",
      " 54  Kitchen Qual     2930 non-null   object \n",
      " 55  TotRms AbvGrd    2930 non-null   int64  \n",
      " 56  Functional       2930 non-null   object \n",
      " 57  Fireplaces       2930 non-null   int64  \n",
      " 58  Fireplace Qu     1508 non-null   object \n",
      " 59  Garage Type      2773 non-null   object \n",
      " 60  Garage Yr Blt    2771 non-null   float64\n",
      " 61  Garage Finish    2771 non-null   object \n",
      " 62  Garage Cars      2929 non-null   float64\n",
      " 63  Garage Area      2929 non-null   float64\n",
      " 64  Garage Qual      2771 non-null   object \n",
      " 65  Garage Cond      2771 non-null   object \n",
      " 66  Paved Drive      2930 non-null   object \n",
      " 67  Wood Deck SF     2930 non-null   int64  \n",
      " 68  Open Porch SF    2930 non-null   int64  \n",
      " 69  Enclosed Porch   2930 non-null   int64  \n",
      " 70  3Ssn Porch       2930 non-null   int64  \n",
      " 71  Screen Porch     2930 non-null   int64  \n",
      " 72  Pool Area        2930 non-null   int64  \n",
      " 73  Pool QC          13 non-null     object \n",
      " 74  Fence            572 non-null    object \n",
      " 75  Misc Feature     106 non-null    object \n",
      " 76  Misc Val         2930 non-null   int64  \n",
      " 77  Mo Sold          2930 non-null   int64  \n",
      " 78  Yr Sold          2930 non-null   int64  \n",
      " 79  Sale Type        2930 non-null   object \n",
      " 80  Sale Condition   2930 non-null   object \n",
      " 81  SalePrice        2930 non-null   int64  \n",
      "dtypes: float64(11), int64(28), object(43)\n",
      "memory usage: 1.8+ MB\n"
     ]
    }
   ],
   "source": [
    "df.info()\n"
   ]
  },
  {
   "cell_type": "code",
   "execution_count": 6,
   "id": "0dfc1197",
   "metadata": {
    "execution": {
     "iopub.execute_input": "2025-07-27T09:21:11.608664Z",
     "iopub.status.busy": "2025-07-27T09:21:11.608373Z",
     "iopub.status.idle": "2025-07-27T09:21:11.624399Z",
     "shell.execute_reply": "2025-07-27T09:21:11.623475Z"
    },
    "papermill": {
     "duration": 0.026063,
     "end_time": "2025-07-27T09:21:11.625729",
     "exception": false,
     "start_time": "2025-07-27T09:21:11.599666",
     "status": "completed"
    },
    "tags": []
   },
   "outputs": [
    {
     "name": "stdout",
     "output_type": "stream",
     "text": [
      "Columns with more than 5% missing values:\n",
      "Pool QC          99.556314\n",
      "Misc Feature     96.382253\n",
      "Alley            93.242321\n",
      "Fence            80.477816\n",
      "Mas Vnr Type     60.580205\n",
      "Fireplace Qu     48.532423\n",
      "Lot Frontage     16.723549\n",
      "Garage Yr Blt     5.426621\n",
      "Garage Finish     5.426621\n",
      "Garage Qual       5.426621\n",
      "Garage Cond       5.426621\n",
      "Garage Type       5.358362\n",
      "dtype: float64\n"
     ]
    }
   ],
   "source": [
    "# Step 1: Check for missing values\n",
    "missing_percent = df.isnull().mean() * 100\n",
    "missing_over_5_percent = missing_percent[missing_percent > 5].sort_values(ascending=False)\n",
    "print(\"Columns with more than 5% missing values:\")\n",
    "print(missing_over_5_percent)"
   ]
  },
  {
   "cell_type": "code",
   "execution_count": 7,
   "id": "b4939429",
   "metadata": {
    "execution": {
     "iopub.execute_input": "2025-07-27T09:21:11.643001Z",
     "iopub.status.busy": "2025-07-27T09:21:11.642326Z",
     "iopub.status.idle": "2025-07-27T09:21:11.649023Z",
     "shell.execute_reply": "2025-07-27T09:21:11.648296Z"
    },
    "papermill": {
     "duration": 0.016788,
     "end_time": "2025-07-27T09:21:11.650427",
     "exception": false,
     "start_time": "2025-07-27T09:21:11.633639",
     "status": "completed"
    },
    "tags": []
   },
   "outputs": [],
   "source": [
    "# Step 2: Drop columns with more than 15% missing values\n",
    "cols_to_drop = missing_percent[missing_percent > 15].index\n",
    "df = df.drop(columns=cols_to_drop)"
   ]
  },
  {
   "cell_type": "code",
   "execution_count": 8,
   "id": "e052dfc5",
   "metadata": {
    "execution": {
     "iopub.execute_input": "2025-07-27T09:21:11.667807Z",
     "iopub.status.busy": "2025-07-27T09:21:11.667187Z",
     "iopub.status.idle": "2025-07-27T09:21:11.749714Z",
     "shell.execute_reply": "2025-07-27T09:21:11.748934Z"
    },
    "papermill": {
     "duration": 0.093005,
     "end_time": "2025-07-27T09:21:11.751405",
     "exception": false,
     "start_time": "2025-07-27T09:21:11.658400",
     "status": "completed"
    },
    "tags": []
   },
   "outputs": [],
   "source": [
    "# Step 3: Fill missing values\n",
    "# Fill numerical columns with median\n",
    "num_cols = df.select_dtypes(include=['float64','int64']).columns\n",
    "df[num_cols] = df[num_cols].fillna(df[num_cols].median())"
   ]
  },
  {
   "cell_type": "code",
   "execution_count": 9,
   "id": "ec0e95fc",
   "metadata": {
    "execution": {
     "iopub.execute_input": "2025-07-27T09:21:11.768829Z",
     "iopub.status.busy": "2025-07-27T09:21:11.768228Z",
     "iopub.status.idle": "2025-07-27T09:21:11.783682Z",
     "shell.execute_reply": "2025-07-27T09:21:11.782548Z"
    },
    "papermill": {
     "duration": 0.025884,
     "end_time": "2025-07-27T09:21:11.785281",
     "exception": false,
     "start_time": "2025-07-27T09:21:11.759397",
     "status": "completed"
    },
    "tags": []
   },
   "outputs": [
    {
     "name": "stdout",
     "output_type": "stream",
     "text": [
      "     MS Zoning Street Lot Shape Land Contour Utilities Lot Config Land Slope  \\\n",
      "0           RL   Pave       IR1          Lvl    AllPub     Corner        Gtl   \n",
      "1           RH   Pave       Reg          Lvl    AllPub     Inside        Gtl   \n",
      "2           RL   Pave       IR1          Lvl    AllPub     Corner        Gtl   \n",
      "3           RL   Pave       Reg          Lvl    AllPub     Corner        Gtl   \n",
      "4           RL   Pave       IR1          Lvl    AllPub     Inside        Gtl   \n",
      "...        ...    ...       ...          ...       ...        ...        ...   \n",
      "2925        RL   Pave       IR1          Lvl    AllPub    CulDSac        Gtl   \n",
      "2926        RL   Pave       IR1          Low    AllPub     Inside        Mod   \n",
      "2927        RL   Pave       Reg          Lvl    AllPub     Inside        Gtl   \n",
      "2928        RL   Pave       Reg          Lvl    AllPub     Inside        Mod   \n",
      "2929        RL   Pave       Reg          Lvl    AllPub     Inside        Mod   \n",
      "\n",
      "     Neighborhood Condition 1 Condition 2  ... Electrical Kitchen Qual  \\\n",
      "0           NAmes        Norm        Norm  ...      SBrkr           TA   \n",
      "1           NAmes       Feedr        Norm  ...      SBrkr           TA   \n",
      "2           NAmes        Norm        Norm  ...      SBrkr           Gd   \n",
      "3           NAmes        Norm        Norm  ...      SBrkr           Ex   \n",
      "4         Gilbert        Norm        Norm  ...      SBrkr           TA   \n",
      "...           ...         ...         ...  ...        ...          ...   \n",
      "2925      Mitchel        Norm        Norm  ...      SBrkr           TA   \n",
      "2926      Mitchel        Norm        Norm  ...      SBrkr           TA   \n",
      "2927      Mitchel        Norm        Norm  ...      SBrkr           TA   \n",
      "2928      Mitchel        Norm        Norm  ...      SBrkr           TA   \n",
      "2929      Mitchel        Norm        Norm  ...      SBrkr           TA   \n",
      "\n",
      "     Functional Garage Type Garage Finish Garage Qual Garage Cond Paved Drive  \\\n",
      "0           Typ      Attchd           Fin          TA          TA           P   \n",
      "1           Typ      Attchd           Unf          TA          TA           Y   \n",
      "2           Typ      Attchd           Unf          TA          TA           Y   \n",
      "3           Typ      Attchd           Fin          TA          TA           Y   \n",
      "4           Typ      Attchd           Fin          TA          TA           Y   \n",
      "...         ...         ...           ...         ...         ...         ...   \n",
      "2925        Typ      Detchd           Unf          TA          TA           Y   \n",
      "2926        Typ      Attchd           Unf          TA          TA           Y   \n",
      "2927        Typ         NaN           NaN         NaN         NaN           Y   \n",
      "2928        Typ      Attchd           RFn          TA          TA           Y   \n",
      "2929        Typ      Attchd           Fin          TA          TA           Y   \n",
      "\n",
      "     Sale Type Sale Condition  \n",
      "0          WD          Normal  \n",
      "1          WD          Normal  \n",
      "2          WD          Normal  \n",
      "3          WD          Normal  \n",
      "4          WD          Normal  \n",
      "...        ...            ...  \n",
      "2925       WD          Normal  \n",
      "2926       WD          Normal  \n",
      "2927       WD          Normal  \n",
      "2928       WD          Normal  \n",
      "2929       WD          Normal  \n",
      "\n",
      "[2930 rows x 37 columns]\n"
     ]
    }
   ],
   "source": [
    "# # Fill categorical columns with mode\n",
    "cat_cols = df.select_dtypes(include='object').columns\n",
    "# df[cat_cols] = df[cat_cols].fillna(df[cat_cols].mode().iloc[0])\n",
    "print(df[cat_cols])"
   ]
  },
  {
   "cell_type": "markdown",
   "id": "4922643d",
   "metadata": {
    "papermill": {
     "duration": 0.007753,
     "end_time": "2025-07-27T09:21:11.801061",
     "exception": false,
     "start_time": "2025-07-27T09:21:11.793308",
     "status": "completed"
    },
    "tags": []
   },
   "source": [
    "**One_Hot Encodeing for all categorical data**"
   ]
  },
  {
   "cell_type": "code",
   "execution_count": 10,
   "id": "479611f3",
   "metadata": {
    "execution": {
     "iopub.execute_input": "2025-07-27T09:21:11.818195Z",
     "iopub.status.busy": "2025-07-27T09:21:11.817607Z",
     "iopub.status.idle": "2025-07-27T09:21:11.821400Z",
     "shell.execute_reply": "2025-07-27T09:21:11.820707Z"
    },
    "papermill": {
     "duration": 0.01386,
     "end_time": "2025-07-27T09:21:11.822677",
     "exception": false,
     "start_time": "2025-07-27T09:21:11.808817",
     "status": "completed"
    },
    "tags": []
   },
   "outputs": [],
   "source": [
    "# Convert categorical columns to one-hot encoding\n",
    "# df = pd.get_dummies(df, drop_first=True)\n",
    "# df"
   ]
  },
  {
   "cell_type": "markdown",
   "id": "577a2065",
   "metadata": {
    "papermill": {
     "duration": 0.007678,
     "end_time": "2025-07-27T09:21:11.838302",
     "exception": false,
     "start_time": "2025-07-27T09:21:11.830624",
     "status": "completed"
    },
    "tags": []
   },
   "source": [
    "**LabelEncoder**"
   ]
  },
  {
   "cell_type": "code",
   "execution_count": 11,
   "id": "6703d3d3",
   "metadata": {
    "execution": {
     "iopub.execute_input": "2025-07-27T09:21:11.855061Z",
     "iopub.status.busy": "2025-07-27T09:21:11.854676Z",
     "iopub.status.idle": "2025-07-27T09:21:13.279952Z",
     "shell.execute_reply": "2025-07-27T09:21:13.279104Z"
    },
    "papermill": {
     "duration": 1.435587,
     "end_time": "2025-07-27T09:21:13.281599",
     "exception": false,
     "start_time": "2025-07-27T09:21:11.846012",
     "status": "completed"
    },
    "tags": []
   },
   "outputs": [],
   "source": [
    "from sklearn.preprocessing import LabelEncoder\n",
    "\n",
    "le = LabelEncoder()\n",
    "for col in cat_cols:\n",
    "    df[col] = le.fit_transform(df[col])"
   ]
  },
  {
   "cell_type": "markdown",
   "id": "b17937c6",
   "metadata": {
    "papermill": {
     "duration": 0.007727,
     "end_time": "2025-07-27T09:21:13.297325",
     "exception": false,
     "start_time": "2025-07-27T09:21:13.289598",
     "status": "completed"
    },
    "tags": []
   },
   "source": [
    "**StandardScaler**"
   ]
  },
  {
   "cell_type": "code",
   "execution_count": 12,
   "id": "1d880bd8",
   "metadata": {
    "execution": {
     "iopub.execute_input": "2025-07-27T09:21:13.315109Z",
     "iopub.status.busy": "2025-07-27T09:21:13.314199Z",
     "iopub.status.idle": "2025-07-27T09:21:13.361151Z",
     "shell.execute_reply": "2025-07-27T09:21:13.360246Z"
    },
    "papermill": {
     "duration": 0.057536,
     "end_time": "2025-07-27T09:21:13.362724",
     "exception": false,
     "start_time": "2025-07-27T09:21:13.305188",
     "status": "completed"
    },
    "tags": []
   },
   "outputs": [
    {
     "data": {
      "text/plain": [
       "0       215000\n",
       "1       105000\n",
       "2       172000\n",
       "3       244000\n",
       "4       189900\n",
       "         ...  \n",
       "2925    142500\n",
       "2926    131000\n",
       "2927    132000\n",
       "2928    170000\n",
       "2929    188000\n",
       "Name: SalePrice, Length: 2930, dtype: int64"
      ]
     },
     "execution_count": 12,
     "metadata": {},
     "output_type": "execute_result"
    }
   ],
   "source": [
    "from sklearn.preprocessing import StandardScaler\n",
    "\n",
    "# Separate features and target\n",
    "X = df.drop('SalePrice', axis=1)\n",
    "y = df['SalePrice']\n",
    "\n",
    "# Scale the features\n",
    "scaler = StandardScaler()\n",
    "X_scaled = scaler.fit_transform(X)\n",
    "y"
   ]
  },
  {
   "cell_type": "code",
   "execution_count": 13,
   "id": "0eda257a",
   "metadata": {
    "execution": {
     "iopub.execute_input": "2025-07-27T09:21:13.380372Z",
     "iopub.status.busy": "2025-07-27T09:21:13.380040Z",
     "iopub.status.idle": "2025-07-27T09:21:13.388959Z",
     "shell.execute_reply": "2025-07-27T09:21:13.387943Z"
    },
    "papermill": {
     "duration": 0.019271,
     "end_time": "2025-07-27T09:21:13.390428",
     "exception": false,
     "start_time": "2025-07-27T09:21:13.371157",
     "status": "completed"
    },
    "tags": []
   },
   "outputs": [
    {
     "name": "stdout",
     "output_type": "stream",
     "text": [
      "0\n",
      "0\n",
      "0\n"
     ]
    }
   ],
   "source": [
    "import numpy as np\n",
    "\n",
    "print(np.isnan(X_scaled).sum())  \n",
    "print(np.isinf(X_scaled).sum())  \n",
    "print(np.isnan(y).sum())        \n"
   ]
  },
  {
   "cell_type": "code",
   "execution_count": 14,
   "id": "3fc525b9",
   "metadata": {
    "execution": {
     "iopub.execute_input": "2025-07-27T09:21:13.408563Z",
     "iopub.status.busy": "2025-07-27T09:21:13.407935Z",
     "iopub.status.idle": "2025-07-27T09:21:13.509120Z",
     "shell.execute_reply": "2025-07-27T09:21:13.508202Z"
    },
    "papermill": {
     "duration": 0.111848,
     "end_time": "2025-07-27T09:21:13.510548",
     "exception": false,
     "start_time": "2025-07-27T09:21:13.398700",
     "status": "completed"
    },
    "tags": []
   },
   "outputs": [
    {
     "data": {
      "text/plain": [
       "array([[-1.2810083 , -0.99155697, -0.87700484, ...,  0.91884468,\n",
       "         0.34164015, -0.7247024 ],\n",
       "       [-0.74543215,  1.01755147,  0.06128506, ...,  0.91884468,\n",
       "         0.34164015, -3.51250726],\n",
       "       [ 0.51252155, -0.95408993,  0.76500248, ..., -0.60046396,\n",
       "         0.34164015,  0.20456589],\n",
       "       ...,\n",
       "       [-0.39547511, -0.98556313,  0.06128506, ...,  0.15919036,\n",
       "         0.34164015,  0.20456589],\n",
       "       [-0.20157999,  0.99441452, -0.17328741, ...,  0.15919036,\n",
       "         0.34164015,  0.20456589],\n",
       "       [-0.71469268,  1.02153687,  0.64771625, ...,  0.91884468,\n",
       "         0.34164015,  0.20456589]])"
      ]
     },
     "execution_count": 14,
     "metadata": {},
     "output_type": "execute_result"
    }
   ],
   "source": [
    "from sklearn.model_selection import train_test_split\n",
    "\n",
    "# Split the dataset\n",
    "X_train, X_test, y_train, y_test= train_test_split(X_scaled, y, test_size=0.2, random_state=42)\n",
    "X_train"
   ]
  },
  {
   "cell_type": "markdown",
   "id": "d73865c7",
   "metadata": {
    "papermill": {
     "duration": 0.008205,
     "end_time": "2025-07-27T09:21:13.527922",
     "exception": false,
     "start_time": "2025-07-27T09:21:13.519717",
     "status": "completed"
    },
    "tags": []
   },
   "source": [
    "**Linear Regression**"
   ]
  },
  {
   "cell_type": "code",
   "execution_count": 15,
   "id": "1027b679",
   "metadata": {
    "execution": {
     "iopub.execute_input": "2025-07-27T09:21:13.545541Z",
     "iopub.status.busy": "2025-07-27T09:21:13.545244Z",
     "iopub.status.idle": "2025-07-27T09:21:13.700762Z",
     "shell.execute_reply": "2025-07-27T09:21:13.698200Z"
    },
    "papermill": {
     "duration": 0.166675,
     "end_time": "2025-07-27T09:21:13.702775",
     "exception": false,
     "start_time": "2025-07-27T09:21:13.536100",
     "status": "completed"
    },
    "tags": []
   },
   "outputs": [
    {
     "data": {
      "text/plain": [
       "array([185739.20776451, 115531.20776451, 225547.20776451, 114075.20776451,\n",
       "       113163.20776451, 202587.20776451, 169403.20776451, 138827.20776451,\n",
       "       110731.20776451, 327339.20776451, 247563.20776451, 251563.20776451,\n",
       "        56027.20776451, 132603.20776451,  85803.20776451, 173675.20776451,\n",
       "       146939.20776451, 217995.20776451, 110891.20776451, 141579.20776451,\n",
       "       177339.20776451, 112427.20776451, 188267.20776451, 210891.20776451,\n",
       "       204779.20776451, 297355.20776451, 350779.20776451, 235515.20776451,\n",
       "       207307.20776451, 221099.20776451, 194283.20776451,  81059.20776451,\n",
       "       233227.20776451,  91659.20776451, 150905.20776451,  57419.20776451,\n",
       "       209563.20776451, 311707.20776451, 182539.20776451, 273611.20776451,\n",
       "       310027.20776451, 229483.20776451, 227659.20776451, 205563.20776451,\n",
       "       114587.20776451, 306763.20776451, 181355.20776451, 155099.20776451,\n",
       "       145963.20776451, 140235.20776451, 200075.20776451, 131179.20776451,\n",
       "       142347.20776451, 172427.20776451, 203787.20776451, 196107.20776451,\n",
       "       210779.20776451,  93467.20776451, 226091.20776451, 140651.20776451,\n",
       "        39739.20776451, 171083.20776451,  98011.20776451, 351515.20776451,\n",
       "       262331.20776451, 198283.20776451, 109867.20776451, 230987.20776451,\n",
       "       159675.20776451, 179387.20776451, 199883.20776451, 211883.20776451,\n",
       "       283051.20776451,  57147.20776451, 120811.20776451, 368539.20776451,\n",
       "       157355.20776451, 240155.20776451, 154571.20776451, 163947.20776451,\n",
       "       165915.20776451, 128107.20776451, 106539.20776451, 196331.20776451,\n",
       "       281035.20776451, 136907.20776451, 108731.20776451, 144755.20776451,\n",
       "       206059.20776451, 552715.20776451, 196491.20776451,  78491.20776451,\n",
       "       139971.95776451,  79131.20776451, 214731.20776451, 193419.20776451,\n",
       "        45227.20776451, 236875.20776451, 195691.20776451, 252267.20776451,\n",
       "        98635.20776451, 291851.20776451, 352907.20776451, 324619.20776451,\n",
       "       241419.20776451, 188107.20776451, 292731.20776451, 216763.20776451,\n",
       "       209835.20776451,  87483.20776451, 260715.20776451, 141339.20776451,\n",
       "       138043.20776451, 106027.20776451, 244363.20776451, 102443.20776451,\n",
       "       249995.20776451, 268187.20776451, 229067.20776451, 190859.20776451,\n",
       "       150911.20776451, 128155.20776451, 117739.20776451, 155723.20776451,\n",
       "       109483.20776451, 454859.20776451, 128835.20776451, 232363.20776451,\n",
       "       190907.20776451, 240891.20776451, 105803.20776451, 175723.20776451,\n",
       "       194331.20776451, 129691.20776451, 351035.20776451, 254987.20776451,\n",
       "       133803.20776451, 183403.20776451, 278523.20776451, 214315.20776451,\n",
       "       185483.20776451, 244875.20776451, 143531.20776451, 215643.20776451,\n",
       "       109675.20776451, 122299.20776451, 219707.20776451, 234763.20776451,\n",
       "       165963.20776451,  97291.20776451, 215979.20776451, 401419.20776451,\n",
       "       161707.20776451, 248715.20776451, 143043.20776451, 170779.20776451,\n",
       "       293195.20776451,  24667.20776451, 206795.20776451, 145547.20776451,\n",
       "       250155.20776451, 113467.20776451, 286251.20776451, 136187.20776451,\n",
       "       155451.20776451, 207243.20776451, 398235.20776451, 235307.20776451,\n",
       "       263419.20776451, 261451.20776451,  95707.20776451, 107779.20776451,\n",
       "       295435.20776451, 406843.20776451, 132971.20776451, 392571.20776451,\n",
       "       166699.20776451,  47867.20776451,  78507.20776451, 129707.20776451,\n",
       "       265931.20776451, 167019.20776451, 183963.20776451, 115387.20776451,\n",
       "       139393.20776451, 251691.20776451,  51275.20776451, 260939.20776451,\n",
       "       199435.20776451, 188331.20776451, 169291.20776451, 329771.20776451,\n",
       "        62939.20776451, 307691.20776451, 145635.20776451,  86315.20776451,\n",
       "       122955.20776451, 173339.20776451, 213387.20776451,  98475.20776451,\n",
       "       131771.20776451, 193371.20776451, 176027.20776451, 219083.20776451,\n",
       "       178187.20776451, 352427.20776451, 151659.20776451, 158891.20776451,\n",
       "       158395.20776451,  74203.20776451, 122603.20776451, 313003.20776451,\n",
       "       236555.20776451, 259915.20776451, 263203.20776451,  71531.20776451,\n",
       "       348675.20776451, 214155.20776451, 139835.20776451, 310315.20776451,\n",
       "       116219.20776451, 309515.20776451, 280747.20776451, 176203.20776451,\n",
       "        79979.20776451, 114011.20776451, 213003.20776451, 259419.20776451,\n",
       "       135675.20776451, 220555.20776451, 192203.20776451, 208619.20776451,\n",
       "       149659.20776451, 205835.20776451, 181147.20776451, 238171.20776451,\n",
       "       197387.20776451, 306571.20776451, 120715.20776451, 211787.20776451,\n",
       "       194635.20776451, 193387.20776451, 185835.20776451, 138107.20776451,\n",
       "       259115.20776451, 258827.20776451, 279611.20776451, 255435.20776451,\n",
       "       192283.20776451, 318939.20776451, 136843.20776451,  85811.20776451,\n",
       "       127435.20776451, 117499.20776451, 227803.20776451,  76027.20776451,\n",
       "       138219.20776451, 137195.20776451, 211435.20776451,  97051.20776451,\n",
       "       108715.20776451, 200411.20776451, 254651.20776451, 124475.20776451,\n",
       "       267835.20776451, 139675.20776451, 113627.20776451, 397259.20776451,\n",
       "       111819.20776451, 145931.20776451, 216299.20776451,  90971.20776451,\n",
       "       142619.20776451, 131691.20776451, 281691.20776451, 107147.20776451,\n",
       "       126043.20776451, 184971.20776451, 262219.20776451, 191131.20776451,\n",
       "       338027.20776451, 176843.20776451, 244523.20776451, 206923.20776451,\n",
       "       123979.20776451, 293547.20776451, 245803.20776451, 146907.20776451,\n",
       "       196491.20776451, 131547.20776451, 127619.20776451, 154843.20776451,\n",
       "       250395.20776451, 146027.20776451, 106283.20776451, 191963.20776451,\n",
       "       224939.20776451, 261771.20776451, 152347.20776451,  97531.20776451,\n",
       "       209419.20776451, 290587.20776451, 137683.20776451, 313019.20776451,\n",
       "       142859.20776451, 305163.20776451, 135155.20776451, 212683.20776451,\n",
       "       175067.20776451, 305355.20776451, 130939.20776451, 200203.20776451,\n",
       "       184795.20776451, 104611.20776451, 221067.20776451, 322635.20776451,\n",
       "       347755.20776451, 237931.20776451, 314043.20776451, 339243.20776451,\n",
       "       270443.20776451, 157435.20776451, 150155.20776451, 156715.20776451,\n",
       "       315019.20776451, 242251.20776451, 144219.20776451, 347915.20776451,\n",
       "       162475.20776451, 141099.20776451, 236651.20776451, 210747.20776451,\n",
       "       164075.20776451, 251083.20776451, 296459.20776451, 106267.20776451,\n",
       "        60043.20776451, 131611.20776451, 265483.20776451, 137483.20776451,\n",
       "       121275.20776451, 111083.20776451,  77259.20776451, 198699.20776451,\n",
       "        76267.20776451, 215739.20776451, 195067.20776451, 211723.20776451,\n",
       "       139483.20776451, 157715.20776451, 253611.20776451, 297771.20776451,\n",
       "       151595.20776451, 114443.20776451, 219979.20776451, 102315.20776451,\n",
       "       119531.20776451, 114523.20776451, 140683.20776451, 125875.20776451,\n",
       "        98363.20776451, 307083.20776451, 333035.20776451, 121099.20776451,\n",
       "        61970.20776451, 131227.20776451, 208843.20776451, 119067.20776451,\n",
       "       130174.70776451,  72571.20776451, 117627.20776451,  43579.20776451,\n",
       "       100795.20776451, 100299.20776451, 228395.20776451,  96923.20776451,\n",
       "       139835.20776451, 290219.20776451, 189483.20776451, 338315.20776451,\n",
       "       123355.20776451, 122635.20776451, 240491.20776451, 363979.20776451,\n",
       "       135707.20776451, 310379.20776451,  82315.20776451, 159963.20776451,\n",
       "       260379.20776451, 136443.20776451, 136283.20776451, 185355.20776451,\n",
       "       194971.20776451, 145979.20776451, 110219.20776451, 264427.20776451,\n",
       "       131739.20776451, 163147.20776451, 151819.20776451,  98379.20776451,\n",
       "       150219.20776451, 167563.20776451, 175051.20776451, 210939.20776451,\n",
       "       114891.20776451, 175963.20776451, 415099.20776451, 193883.20776451,\n",
       "       114155.20776451, 136395.20776451, 116891.20776451, 234731.20776451,\n",
       "       371947.20776451, 200027.20776451, 114459.20776451, 191467.20776451,\n",
       "       167755.20776451, 203931.20776451, 262395.20776451, 149387.20776451,\n",
       "       125227.20776451, 285835.20776451, 172923.20776451, 337339.20776451,\n",
       "       199643.20776451, 198283.20776451, 212123.20776451, 267691.20776451,\n",
       "       149899.20776451, 115963.20776451, 258571.20776451, 185675.20776451,\n",
       "       113835.20776451, 229835.20776451, 105147.20776451, 243979.20776451,\n",
       "        99979.20776451, 115003.20776451, 149163.20776451, 190827.20776451,\n",
       "        79067.20776451, 210795.20776451, 335531.20776451, 159275.20776451,\n",
       "       257595.20776451, 127611.20776451, 132411.20776451,  98203.20776451,\n",
       "       113515.20776451,  66987.20776451, 388683.20776451, 211851.20776451,\n",
       "       174203.20776451, 125931.20776451,  90139.20776451, 180907.20776451,\n",
       "       164235.20776451, 308043.20776451, 149787.20776451,  93643.20776451,\n",
       "       299211.20776451, 267099.20776451, 150059.20776451, 269195.20776451,\n",
       "       117259.20776451, 294379.20776451, 292827.20776451, 153871.20776451,\n",
       "       130363.20776451, 239883.20776451, 124475.20776451, 131275.20776451,\n",
       "       221755.20776451, 233355.20776451,  81651.20776451, 138123.20776451,\n",
       "       108651.20776451,  86011.20776451, 143435.20776451, 215611.20776451,\n",
       "       140811.20776451, 156715.20776451, 115219.20776451, 147435.20776451,\n",
       "       134283.20776451,  94323.20776451,  96555.20776451, 313947.20776451,\n",
       "       166043.20776451, 111163.20776451, 207339.20776451, 193227.20776451,\n",
       "        46059.20776451, 221291.20776451,  76139.20776451, 129499.20776451,\n",
       "        58747.20776451, 152539.20776451, 289707.20776451, 305611.20776451,\n",
       "       228683.20776451,  99435.20776451, 126699.20776451, 295563.20776451,\n",
       "       378347.20776451, 180427.20776451, 150955.20776451, 152555.20776451,\n",
       "       286091.20776451, 132235.20776451, 168139.20776451, 439915.20776451,\n",
       "       127291.20776451,  72855.20776451, 112475.20776451, 244875.20776451,\n",
       "       281499.20776451, 159339.20776451, 135099.20776451, 159643.20776451,\n",
       "       229691.20776451, 173611.20776451, 235883.20776451, 238875.20776451,\n",
       "       164171.20776451,  80411.20776451, 266875.20776451, 159819.20776451,\n",
       "       116635.20776451, 128955.20776451, 190347.20776451, 128715.20776451,\n",
       "       138603.20776451, 189915.20776451, 196779.20776451, 290699.20776451,\n",
       "       340747.20776451, 189099.20776451, 251083.20776451, 208059.20776451,\n",
       "       139819.20776451, 262027.20776451, 156507.20776451, 297051.20776451,\n",
       "       120898.20776451, 153147.20776451, 179323.20776451, 399307.20776451,\n",
       "       207723.20776451, 169947.20776451, 161099.20776451, 167803.20776451,\n",
       "        90675.20776451, 254491.20776451, 175227.20776451, 128523.20776451,\n",
       "       218507.20776451, 146843.20776451, 241355.20776451, 109707.20776451,\n",
       "       157851.20776451, 189147.20776451, 295643.20776451, 144523.20776451,\n",
       "       218139.20776451, 142219.20776451,  88763.20776451,  69803.20776451,\n",
       "       185547.20776451, 210891.20776451,  75467.20776451, 154747.20776451,\n",
       "       225355.20776451, 314891.20776451,  82267.20776451, 191531.20776451,\n",
       "       177147.20776451, 259419.20776451, 158923.20776451, 132107.20776451,\n",
       "        71819.20776451, 222219.20776451, 413995.20776451, 186715.20776451,\n",
       "       116139.20776451, 155147.20776451])"
      ]
     },
     "execution_count": 15,
     "metadata": {},
     "output_type": "execute_result"
    }
   ],
   "source": [
    "from sklearn.linear_model import LinearRegression\n",
    "from sklearn.metrics import mean_squared_error, r2_score\n",
    "\n",
    "# Initialize and train the model\n",
    "lr_model = LinearRegression()\n",
    "lr_model.fit(X_train, y_train)\n",
    "\n",
    "# Predict on the test set\n",
    "y_pred = lr_model.predict(X_test)\n",
    "y_pred"
   ]
  },
  {
   "cell_type": "code",
   "execution_count": 16,
   "id": "03f8c0b6",
   "metadata": {
    "execution": {
     "iopub.execute_input": "2025-07-27T09:21:13.732132Z",
     "iopub.status.busy": "2025-07-27T09:21:13.731766Z",
     "iopub.status.idle": "2025-07-27T09:21:13.741487Z",
     "shell.execute_reply": "2025-07-27T09:21:13.739812Z"
    },
    "papermill": {
     "duration": 0.027523,
     "end_time": "2025-07-27T09:21:13.744391",
     "exception": false,
     "start_time": "2025-07-27T09:21:13.716868",
     "status": "completed"
    },
    "tags": []
   },
   "outputs": [
    {
     "name": "stdout",
     "output_type": "stream",
     "text": [
      "Mean Absolute Error (MAE): 20316.61\n"
     ]
    }
   ],
   "source": [
    "from sklearn.metrics import mean_absolute_error\n",
    "\n",
    "mae = mean_absolute_error(y_test, y_pred)\n",
    "\n",
    "print(f\"Mean Absolute Error (MAE): {mae:.2f}\")"
   ]
  },
  {
   "cell_type": "code",
   "execution_count": 17,
   "id": "05fd7bcb",
   "metadata": {
    "execution": {
     "iopub.execute_input": "2025-07-27T09:21:13.774494Z",
     "iopub.status.busy": "2025-07-27T09:21:13.773772Z",
     "iopub.status.idle": "2025-07-27T09:21:13.784494Z",
     "shell.execute_reply": "2025-07-27T09:21:13.782933Z"
    },
    "papermill": {
     "duration": 0.028877,
     "end_time": "2025-07-27T09:21:13.787291",
     "exception": false,
     "start_time": "2025-07-27T09:21:13.758414",
     "status": "completed"
    },
    "tags": []
   },
   "outputs": [
    {
     "name": "stdout",
     "output_type": "stream",
     "text": [
      "Mean Squared Error (MSE): 1111576341.48\n",
      "Root Mean Squared Error (RMSE): 33340.31\n",
      "R-squared Score (R²): 0.861\n"
     ]
    }
   ],
   "source": [
    "# Calculate evaluation metrics\n",
    "mse = mean_squared_error(y_test, y_pred)\n",
    "rmse = mean_squared_error(y_test, y_pred, squared=False)  # same as np.sqrt(mse)\n",
    "r2 = r2_score(y_test, y_pred)\n",
    "\n",
    "print(f\"Mean Squared Error (MSE): {mse:.2f}\")\n",
    "print(f\"Root Mean Squared Error (RMSE): {rmse:.2f}\")\n",
    "print(f\"R-squared Score (R²): {r2:.3f}\")"
   ]
  },
  {
   "cell_type": "code",
   "execution_count": 18,
   "id": "97ee941d",
   "metadata": {
    "execution": {
     "iopub.execute_input": "2025-07-27T09:21:13.809024Z",
     "iopub.status.busy": "2025-07-27T09:21:13.808389Z",
     "iopub.status.idle": "2025-07-27T09:21:14.124910Z",
     "shell.execute_reply": "2025-07-27T09:21:14.124038Z"
    },
    "papermill": {
     "duration": 0.327698,
     "end_time": "2025-07-27T09:21:14.126446",
     "exception": false,
     "start_time": "2025-07-27T09:21:13.798748",
     "status": "completed"
    },
    "tags": []
   },
   "outputs": [
    {
     "data": {
      "image/png": "[encoded data removed]",
      "text/plain": [
       "<Figure size 800x600 with 1 Axes>"
      ]
     },
     "metadata": {},
     "output_type": "display_data"
    }
   ],
   "source": [
    "import matplotlib.pyplot as plt\n",
    "\n",
    "plt.figure(figsize=(8, 6))\n",
    "plt.scatter(y_test, y_pred, alpha=0.5, color='teal')\n",
    "plt.plot([y_test.min(), y_test.max()], [y_test.min(), y_test.max()], 'r--')  # خط ایده‌آل\n",
    "plt.xlabel(\"Actual Sale Price\")\n",
    "plt.ylabel(\"Predicted Sale Price\")\n",
    "plt.title(\"Linear Regression: Actual vs. Predicted\")\n",
    "plt.grid(True)\n",
    "plt.show()"
   ]
  },
  {
   "cell_type": "markdown",
   "id": "35b6d08b",
   "metadata": {
    "papermill": {
     "duration": 0.009969,
     "end_time": "2025-07-27T09:21:14.147449",
     "exception": false,
     "start_time": "2025-07-27T09:21:14.137480",
     "status": "completed"
    },
    "tags": []
   },
   "source": [
    "**Ridge Regression**"
   ]
  },
  {
   "cell_type": "code",
   "execution_count": 19,
   "id": "7e9b555d",
   "metadata": {
    "execution": {
     "iopub.execute_input": "2025-07-27T09:21:14.169293Z",
     "iopub.status.busy": "2025-07-27T09:21:14.168449Z",
     "iopub.status.idle": "2025-07-27T09:21:14.185170Z",
     "shell.execute_reply": "2025-07-27T09:21:14.184274Z"
    },
    "papermill": {
     "duration": 0.029258,
     "end_time": "2025-07-27T09:21:14.186673",
     "exception": false,
     "start_time": "2025-07-27T09:21:14.157415",
     "status": "completed"
    },
    "tags": []
   },
   "outputs": [
    {
     "name": "stdout",
     "output_type": "stream",
     "text": [
      "Ridge Regression Result:\n",
      "Mean Squared error (MSE): 1111412376.59\n",
      "Root Mean Squared Error (RMSE): 33337.85\n",
      "R-squared Score (R²): 0.861\n"
     ]
    }
   ],
   "source": [
    "from sklearn.linear_model import Ridge\n",
    "\n",
    "# Create and train the Ridge Regression model\n",
    "ridge_model = Ridge(alpha=1.0)\n",
    "ridge_model.fit(X_train, y_train)\n",
    "\n",
    "# Predict\n",
    "y_pred_ridge = ridge_model.predict(X_test)\n",
    "\n",
    "# Evaluation\n",
    "mse_ridge = mean_squared_error(y_test, y_pred_ridge)\n",
    "rmse_ridge = np.sqrt(mse_ridge)\n",
    "r2_ridge = r2_score(y_test, y_pred_ridge)\n",
    "\n",
    "print(\"Ridge Regression Result:\")\n",
    "print(f\"Mean Squared error (MSE): {mse_ridge:.2f}\")\n",
    "print(f\"Root Mean Squared Error (RMSE): {rmse_ridge:.2f}\")\n",
    "print(f\"R-squared Score (R²): {r2_ridge:.3f}\")\n"
   ]
  },
  {
   "cell_type": "markdown",
   "id": "c91aa642",
   "metadata": {
    "papermill": {
     "duration": 0.009962,
     "end_time": "2025-07-27T09:21:14.207332",
     "exception": false,
     "start_time": "2025-07-27T09:21:14.197370",
     "status": "completed"
    },
    "tags": []
   },
   "source": [
    "**Lasso**"
   ]
  },
  {
   "cell_type": "code",
   "execution_count": 20,
   "id": "dd233dc3",
   "metadata": {
    "execution": {
     "iopub.execute_input": "2025-07-27T09:21:14.228582Z",
     "iopub.status.busy": "2025-07-27T09:21:14.228263Z",
     "iopub.status.idle": "2025-07-27T09:21:14.405974Z",
     "shell.execute_reply": "2025-07-27T09:21:14.405226Z"
    },
    "papermill": {
     "duration": 0.190182,
     "end_time": "2025-07-27T09:21:14.407550",
     "exception": false,
     "start_time": "2025-07-27T09:21:14.217368",
     "status": "completed"
    },
    "tags": []
   },
   "outputs": [
    {
     "name": "stdout",
     "output_type": "stream",
     "text": [
      "Lasso Regression Results:\n",
      "Mean Squared Error (MSE): 1111522898.75\n",
      "Root Mean Squared Error (RMSE): 33339.51\n",
      "R-squared Score (R²): 0.861\n"
     ]
    },
    {
     "name": "stderr",
     "output_type": "stream",
     "text": [
      "/usr/local/lib/python3.11/dist-packages/sklearn/linear_model/_coordinate_descent.py:631: ConvergenceWarning: Objective did not converge. You might want to increase the number of iterations, check the scale of the features or consider increasing regularisation. Duality gap: 5.463e+09, tolerance: 1.394e+09\n",
      "  model = cd_fast.enet_coordinate_descent(\n"
     ]
    }
   ],
   "source": [
    "from sklearn.linear_model import Lasso\n",
    "\n",
    "lasso_model = Lasso(alpha=1.0)\n",
    "lasso_model.fit(X_train,y_train)\n",
    "\n",
    "y_pred_lasso = lasso_model.predict(X_test)\n",
    "\n",
    "mse_lasso = mean_squared_error(y_test,y_pred_lasso)\n",
    "rmse_lasso = np.sqrt(mse_lasso)\n",
    "r2_lasso = r2_score(y_test, y_pred_lasso)\n",
    "\n",
    "print(\"Lasso Regression Results:\")\n",
    "print(f\"Mean Squared Error (MSE): {mse_lasso:.2f}\")\n",
    "print(f\"Root Mean Squared Error (RMSE): {rmse_lasso:.2f}\")\n",
    "print(f\"R-squared Score (R²): {r2_lasso:.3f}\")"
   ]
  },
  {
   "cell_type": "markdown",
   "id": "b44d08aa",
   "metadata": {
    "papermill": {
     "duration": 0.066769,
     "end_time": "2025-07-27T09:21:14.485406",
     "exception": false,
     "start_time": "2025-07-27T09:21:14.418637",
     "status": "completed"
    },
    "tags": []
   },
   "source": [
    "**Decision Tree Regressor**"
   ]
  },
  {
   "cell_type": "code",
   "execution_count": 21,
   "id": "26c3b049",
   "metadata": {
    "execution": {
     "iopub.execute_input": "2025-07-27T09:21:14.507355Z",
     "iopub.status.busy": "2025-07-27T09:21:14.507047Z",
     "iopub.status.idle": "2025-07-27T09:21:14.801870Z",
     "shell.execute_reply": "2025-07-27T09:21:14.800703Z"
    },
    "papermill": {
     "duration": 0.307603,
     "end_time": "2025-07-27T09:21:14.803345",
     "exception": false,
     "start_time": "2025-07-27T09:21:14.495742",
     "status": "completed"
    },
    "tags": []
   },
   "outputs": [
    {
     "name": "stdout",
     "output_type": "stream",
     "text": [
      "Decison Tree Regression Result:\n",
      "Mean Squared Error(mse): 1457075401.99\n",
      "Root Mean Squared Error (rmse): 38171.66\n",
      "R-squared Score (R²): 0.818\n"
     ]
    }
   ],
   "source": [
    "from sklearn.tree import DecisionTreeRegressor\n",
    "\n",
    "\n",
    "dt_model = DecisionTreeRegressor(max_depth=11,random_state=42)\n",
    "dt_model.fit(X_train,y_train)\n",
    "\n",
    "# Prediction\n",
    "y_pred_dt = dt_model.predict(X_test)\n",
    "\n",
    "# Error Calcutalted\n",
    "mse_dt = mean_squared_error(y_test, y_pred_dt)\n",
    "rmse_dt = np.sqrt(mse_dt)\n",
    "r2_dt = r2_score(y_test, y_pred_dt)\n",
    "\n",
    "print(\"Decison Tree Regression Result:\")\n",
    "print(f\"Mean Squared Error(mse): {mse_dt:.2f}\")\n",
    "print(f\"Root Mean Squared Error (rmse): {rmse_dt:.2f}\")\n",
    "print(f\"R-squared Score (R²): {r2_dt:.3f}\")"
   ]
  },
  {
   "cell_type": "markdown",
   "id": "e4dadcea",
   "metadata": {
    "papermill": {
     "duration": 0.009951,
     "end_time": "2025-07-27T09:21:14.823718",
     "exception": false,
     "start_time": "2025-07-27T09:21:14.813767",
     "status": "completed"
    },
    "tags": []
   },
   "source": [
    "**Random Forest**"
   ]
  },
  {
   "cell_type": "code",
   "execution_count": 22,
   "id": "a69460e1",
   "metadata": {
    "execution": {
     "iopub.execute_input": "2025-07-27T09:21:14.845772Z",
     "iopub.status.busy": "2025-07-27T09:21:14.845202Z",
     "iopub.status.idle": "2025-07-27T09:21:19.664717Z",
     "shell.execute_reply": "2025-07-27T09:21:19.663729Z"
    },
    "papermill": {
     "duration": 4.832272,
     "end_time": "2025-07-27T09:21:19.666245",
     "exception": false,
     "start_time": "2025-07-27T09:21:14.833973",
     "status": "completed"
    },
    "tags": []
   },
   "outputs": [
    {
     "name": "stdout",
     "output_type": "stream",
     "text": [
      "Random Forest Regression Results:\n",
      "Mean Squared Error (MSE): 711241035.60\n",
      "Root Mean Squared Error (RMSE): 26669.10\n",
      "R-squared Score (R²): 0.911\n"
     ]
    }
   ],
   "source": [
    "from sklearn.ensemble import RandomForestRegressor\n",
    "\n",
    "rf_model = RandomForestRegressor(n_estimators=100, random_state=42)\n",
    "rf_model.fit(X_train, y_train)\n",
    "\n",
    "y_pred_rf = rf_model.predict(X_test)\n",
    "\n",
    "mse_rf = mean_squared_error(y_test, y_pred_rf)\n",
    "rmse_rf = np.sqrt(mse_rf)\n",
    "r2_rf = r2_score(y_test, y_pred_rf)\n",
    "\n",
    "print(\"Random Forest Regression Results:\")\n",
    "print(f\"Mean Squared Error (MSE): {mse_rf:.2f}\")\n",
    "print(f\"Root Mean Squared Error (RMSE): {rmse_rf:.2f}\")\n",
    "print(f\"R-squared Score (R²): {r2_rf:.3f}\")"
   ]
  },
  {
   "cell_type": "code",
   "execution_count": 23,
   "id": "43595fe0",
   "metadata": {
    "execution": {
     "iopub.execute_input": "2025-07-27T09:21:19.688542Z",
     "iopub.status.busy": "2025-07-27T09:21:19.688243Z",
     "iopub.status.idle": "2025-07-27T09:21:23.135736Z",
     "shell.execute_reply": "2025-07-27T09:21:23.134570Z"
    },
    "papermill": {
     "duration": 3.460431,
     "end_time": "2025-07-27T09:21:23.137349",
     "exception": false,
     "start_time": "2025-07-27T09:21:19.676918",
     "status": "completed"
    },
    "tags": []
   },
   "outputs": [
    {
     "name": "stdout",
     "output_type": "stream",
     "text": [
      "Gradient Boosting Regression Results:\n",
      "Mean Squared Error (MSE): 634272821.17\n",
      "Root Mean Squared Error (RMSE): 25184.77\n",
      "R-squared Score (R²): 0.921\n"
     ]
    }
   ],
   "source": [
    "from sklearn.ensemble import GradientBoostingRegressor\n",
    "\n",
    "gb_model = GradientBoostingRegressor(n_estimators=200, learning_rate=0.1,max_depth=3, random_state=42)\n",
    "\n",
    "gb_model.fit(X_train,y_train)\n",
    "\n",
    "y_pred_gb = gb_model.predict(X_test)\n",
    "\n",
    "mse_gb = mean_squared_error(y_test, y_pred_gb)\n",
    "rmse_gb = np.sqrt(mse_gb)\n",
    "r2_gb = r2_score(y_test, y_pred_gb)\n",
    "\n",
    "print(\"Gradient Boosting Regression Results:\")\n",
    "print(f\"Mean Squared Error (MSE): {mse_gb:.2f}\")\n",
    "print(f\"Root Mean Squared Error (RMSE): {rmse_gb:.2f}\")\n",
    "print(f\"R-squared Score (R²): {r2_gb:.3f}\")"
   ]
  },
  {
   "cell_type": "code",
   "execution_count": 24,
   "id": "3182f2ee",
   "metadata": {
    "execution": {
     "iopub.execute_input": "2025-07-27T09:21:23.160672Z",
     "iopub.status.busy": "2025-07-27T09:21:23.159818Z",
     "iopub.status.idle": "2025-07-27T09:21:29.889798Z",
     "shell.execute_reply": "2025-07-27T09:21:29.888611Z"
    },
    "papermill": {
     "duration": 6.743271,
     "end_time": "2025-07-27T09:21:29.891495",
     "exception": false,
     "start_time": "2025-07-27T09:21:23.148224",
     "status": "completed"
    },
    "tags": []
   },
   "outputs": [
    {
     "name": "stdout",
     "output_type": "stream",
     "text": [
      "[LightGBM] [Info] Auto-choosing row-wise multi-threading, the overhead of testing was 0.002291 seconds.\n",
      "You can set `force_row_wise=true` to remove the overhead.\n",
      "And if memory is not enough, you can set `force_col_wise=true`.\n",
      "[LightGBM] [Info] Total Bins 4106\n",
      "[LightGBM] [Info] Number of data points in the train set: 2344, number of used features: 70\n",
      "[LightGBM] [Info] Start training from score 178582.207765\n",
      "LightGBM Regression Results:\n",
      "Mean Squared Error (MSE): 728416460.76\n",
      "Root Mean Squared Error (RMSE): 26989.19\n",
      "R-squared Score (R²): 0.909\n"
     ]
    }
   ],
   "source": [
    "from lightgbm import LGBMRegressor\n",
    "\n",
    "\n",
    "\n",
    "lgb_model = LGBMRegressor(\n",
    "    n_estimators=500,\n",
    "    learning_rate=0.05,\n",
    "    max_depth=-1,\n",
    "    num_leaves=31,\n",
    "    subsample=0.8,\n",
    "    colsample_bytree=0.8,\n",
    "    random_state=42\n",
    ")\n",
    "\n",
    "lgb_model.fit(X_train, y_train)\n",
    "\n",
    "y_pred_lgb = lgb_model.predict(X_test)\n",
    "\n",
    "mse_lgb = mean_squared_error(y_test, y_pred_lgb)\n",
    "rmse_lgb = np.sqrt(mse_lgb)\n",
    "r2_lgb = r2_score(y_test, y_pred_lgb)\n",
    "\n",
    "print(\"LightGBM Regression Results:\")\n",
    "print(f\"Mean Squared Error (MSE): {mse_lgb:.2f}\")\n",
    "print(f\"Root Mean Squared Error (RMSE): {rmse_lgb:.2f}\")\n",
    "print(f\"R-squared Score (R²): {r2_lgb:.3f}\")"
   ]
  },
  {
   "cell_type": "markdown",
   "id": "1c31f965",
   "metadata": {
    "papermill": {
     "duration": 0.010536,
     "end_time": "2025-07-27T09:21:29.915024",
     "exception": false,
     "start_time": "2025-07-27T09:21:29.904488",
     "status": "completed"
    },
    "tags": []
   },
   "source": [
    "**Cross Validation**"
   ]
  },
  {
   "cell_type": "code",
   "execution_count": 25,
   "id": "edccebf0",
   "metadata": {
    "execution": {
     "iopub.execute_input": "2025-07-27T09:21:29.937671Z",
     "iopub.status.busy": "2025-07-27T09:21:29.937093Z",
     "iopub.status.idle": "2025-07-27T09:21:46.936336Z",
     "shell.execute_reply": "2025-07-27T09:21:46.935324Z"
    },
    "papermill": {
     "duration": 17.012158,
     "end_time": "2025-07-27T09:21:46.937761",
     "exception": false,
     "start_time": "2025-07-27T09:21:29.925603",
     "status": "completed"
    },
    "tags": []
   },
   "outputs": [
    {
     "name": "stdout",
     "output_type": "stream",
     "text": [
      "Cross-Validation R² Scores: [0.91930531 0.91874939 0.92586521 0.90765474 0.92118719]\n",
      "Average R²: 0.9185523654834118\n",
      "Cross-Validation MSE Scores: [6.46973576e+08 4.57528134e+08 4.87739900e+08 5.45139712e+08\n",
      " 4.45886198e+08]\n",
      "Average MSE: 516653504.2719325\n"
     ]
    }
   ],
   "source": [
    "from sklearn.model_selection import cross_val_score, KFold\n",
    "from sklearn.ensemble import GradientBoostingRegressor\n",
    "import numpy as np\n",
    "\n",
    "gbr = GradientBoostingRegressor(random_state=42)\n",
    "\n",
    "kf = KFold(n_splits=5, shuffle=True, random_state=42)\n",
    "\n",
    "cv_scores = cross_val_score(gbr, X, y, cv=kf, scoring='r2')\n",
    "mse_scores = -cross_val_score(gbr, X, y, cv=kf, scoring='neg_mean_squared_error')\n",
    "\n",
    "print(\"Cross-Validation R² Scores:\", cv_scores)\n",
    "print(\"Average R²:\", np.mean(cv_scores))\n",
    "print(\"Cross-Validation MSE Scores:\", mse_scores)\n",
    "print(\"Average MSE:\", np.mean(mse_scores))\n"
   ]
  },
  {
   "cell_type": "code",
   "execution_count": 26,
   "id": "a3b062a7",
   "metadata": {
    "execution": {
     "iopub.execute_input": "2025-07-27T09:21:46.960480Z",
     "iopub.status.busy": "2025-07-27T09:21:46.960158Z",
     "iopub.status.idle": "2025-07-27T09:30:01.931841Z",
     "shell.execute_reply": "2025-07-27T09:30:01.930825Z"
    },
    "papermill": {
     "duration": 494.995095,
     "end_time": "2025-07-27T09:30:01.943698",
     "exception": false,
     "start_time": "2025-07-27T09:21:46.948603",
     "status": "completed"
    },
    "tags": []
   },
   "outputs": [
    {
     "name": "stdout",
     "output_type": "stream",
     "text": [
      "Fitting 5 folds for each of 54 candidates, totalling 270 fits\n",
      "Best Parameters: {'learning_rate': 0.1, 'max_depth': 3, 'n_estimators': 300, 'subsample': 0.8}\n",
      "Best R² Score: 0.9243897342970161\n"
     ]
    }
   ],
   "source": [
    "from sklearn.model_selection import GridSearchCV\n",
    "\n",
    "gbr = GradientBoostingRegressor(random_state=42)\n",
    "\n",
    "param_grid = {\n",
    "    'n_estimators':[100, 200, 300],\n",
    "    'max_depth':[3, 5, 7],\n",
    "    'learning_rate':[0.01, 0.1, 0.2],\n",
    "    'subsample':[0.8, 1.0],\n",
    "}\n",
    "\n",
    "kf = KFold(n_splits=5, shuffle=True, random_state=42)\n",
    "\n",
    "grid_search = GridSearchCV(\n",
    "    estimator=gbr,\n",
    "    param_grid=param_grid,\n",
    "    scoring='r2',\n",
    "    cv=kf,\n",
    "    n_jobs=-1,\n",
    "    verbose=2\n",
    ")\n",
    "\n",
    "grid_search.fit(X,y)\n",
    "\n",
    "print(\"Best Parameters:\", grid_search.best_params_)\n",
    "print(\"Best R² Score:\", grid_search.best_score_)"
   ]
  },
  {
   "cell_type": "code",
   "execution_count": 27,
   "id": "091f0a7e",
   "metadata": {
    "execution": {
     "iopub.execute_input": "2025-07-27T09:30:01.966242Z",
     "iopub.status.busy": "2025-07-27T09:30:01.965882Z",
     "iopub.status.idle": "2025-07-27T09:30:03.886628Z",
     "shell.execute_reply": "2025-07-27T09:30:03.884948Z"
    },
    "papermill": {
     "duration": 1.93394,
     "end_time": "2025-07-27T09:30:03.888341",
     "exception": false,
     "start_time": "2025-07-27T09:30:01.954401",
     "status": "completed"
    },
    "tags": []
   },
   "outputs": [
    {
     "name": "stdout",
     "output_type": "stream",
     "text": [
      "XGBoost Results:\n",
      "Mean Squared Error (MSE): 558384748.74\n",
      "Root Mean Squared Error (RMSE): 23630.17\n",
      "R-squared Score (R²): 0.930\n"
     ]
    }
   ],
   "source": [
    "from xgboost import XGBRegressor\n",
    "\n",
    "\n",
    "xgb = XGBRegressor(n_estimators=500, learning_rate=0.05, max_depth=6, subsample=0.8, colsample_bytree=0.8, random_state=42)\n",
    "xgb.fit(X_train, y_train)\n",
    "\n",
    "y_pred_xgb = xgb.predict(X_test)\n",
    "\n",
    "mse_xgb = mean_squared_error(y_test, y_pred_xgb)\n",
    "rmse_xgb = np.sqrt(mse_xgb)\n",
    "r2_xgb = r2_score(y_test, y_pred_xgb)\n",
    "\n",
    "\n",
    "print(\"XGBoost Results:\")\n",
    "print(f\"Mean Squared Error (MSE): {mse_xgb:.2f}\")\n",
    "print(f\"Root Mean Squared Error (RMSE): {rmse_xgb:.2f}\")\n",
    "print(f\"R-squared Score (R²): {r2_xgb:.3f}\")"
   ]
  },
  {
   "cell_type": "code",
   "execution_count": 28,
   "id": "801a591d",
   "metadata": {
    "execution": {
     "iopub.execute_input": "2025-07-27T09:30:03.911730Z",
     "iopub.status.busy": "2025-07-27T09:30:03.911421Z",
     "iopub.status.idle": "2025-07-27T09:30:05.100850Z",
     "shell.execute_reply": "2025-07-27T09:30:05.099936Z"
    },
    "papermill": {
     "duration": 1.202824,
     "end_time": "2025-07-27T09:30:05.102524",
     "exception": false,
     "start_time": "2025-07-27T09:30:03.899700",
     "status": "completed"
    },
    "tags": []
   },
   "outputs": [
    {
     "name": "stdout",
     "output_type": "stream",
     "text": [
      "[LightGBM] [Info] Auto-choosing row-wise multi-threading, the overhead of testing was 0.001132 seconds.\n",
      "You can set `force_row_wise=true` to remove the overhead.\n",
      "And if memory is not enough, you can set `force_col_wise=true`.\n",
      "[LightGBM] [Info] Total Bins 4106\n",
      "[LightGBM] [Info] Number of data points in the train set: 2344, number of used features: 70\n",
      "[LightGBM] [Info] Start training from score 178582.207765\n",
      "LightGBM Results:\n",
      "Mean Squared Error (MSE): 768577705.52\n",
      "Root Mean Squared Error (RMSE): 27723.23\n",
      "R-squared Score (R²): 0.904\n"
     ]
    }
   ],
   "source": [
    "from lightgbm import LGBMRegressor\n",
    "\n",
    "\n",
    "lgbm = LGBMRegressor(n_estimators=500, learning_rate=0.05, max_depth=-1, random_state=42)\n",
    "lgbm.fit(X_train, y_train)\n",
    "\n",
    "\n",
    "y_pred_lgb = lgbm.predict(X_test)\n",
    "\n",
    "\n",
    "mse_lgb = mean_squared_error(y_test, y_pred_lgb)\n",
    "rmse_lgb = np.sqrt(mse_lgb)\n",
    "r2_lgb = r2_score(y_test, y_pred_lgb)\n",
    "\n",
    "print(\"LightGBM Results:\")\n",
    "print(f\"Mean Squared Error (MSE): {mse_lgb:.2f}\")\n",
    "print(f\"Root Mean Squared Error (RMSE): {rmse_lgb:.2f}\")\n",
    "print(f\"R-squared Score (R²): {r2_lgb:.3f}\")"
   ]
  },
  {
   "cell_type": "code",
   "execution_count": 29,
   "id": "66d8ff14",
   "metadata": {
    "execution": {
     "iopub.execute_input": "2025-07-27T09:30:05.127274Z",
     "iopub.status.busy": "2025-07-27T09:30:05.126642Z",
     "iopub.status.idle": "2025-07-27T09:30:22.588295Z",
     "shell.execute_reply": "2025-07-27T09:30:22.587606Z"
    },
    "papermill": {
     "duration": 17.475817,
     "end_time": "2025-07-27T09:30:22.590170",
     "exception": false,
     "start_time": "2025-07-27T09:30:05.114353",
     "status": "completed"
    },
    "tags": []
   },
   "outputs": [
    {
     "name": "stdout",
     "output_type": "stream",
     "text": [
      "Cross-Validation R² Scores: [0.93293339 0.92087123 0.92609229 0.91330468 0.92747648]\n",
      "Average R²: 0.9241356163882866\n",
      "Cross-Validation MSE Scores: [5.37709726e+08 4.45579861e+08 4.86245905e+08 5.11786521e+08\n",
      " 4.10304306e+08]\n",
      "Average MSE: 478325263.8213972\n"
     ]
    }
   ],
   "source": [
    "from sklearn.model_selection import cross_val_score, KFold\n",
    "import numpy as np\n",
    "\n",
    "xgb = XGBRegressor(\n",
    "    n_estimators=500,\n",
    "    learning_rate=0.05,\n",
    "    max_depth=6,\n",
    "    subsample=0.8,\n",
    "    colsample_bytree=0.8,\n",
    "    random_state=42\n",
    ")\n",
    "\n",
    "kf = KFold(n_splits=5, shuffle=True, random_state=42)\n",
    "\n",
    "\n",
    "cv_r2 = cross_val_score(xgb, X, y, cv=kf, scoring='r2')\n",
    "\n",
    "\n",
    "cv_mse = -cross_val_score(xgb, X, y, cv=kf, scoring='neg_mean_squared_error')\n",
    "\n",
    "print(\"Cross-Validation R² Scores:\", cv_r2)\n",
    "print(\"Average R²:\", np.mean(cv_r2))\n",
    "print(\"Cross-Validation MSE Scores:\", cv_mse)\n",
    "print(\"Average MSE:\", np.mean(cv_mse))\n"
   ]
  },
  {
   "cell_type": "code",
   "execution_count": 30,
   "id": "3e638e07",
   "metadata": {
    "execution": {
     "iopub.execute_input": "2025-07-27T09:30:22.613576Z",
     "iopub.status.busy": "2025-07-27T09:30:22.613249Z",
     "iopub.status.idle": "2025-07-27T09:34:29.652906Z",
     "shell.execute_reply": "2025-07-27T09:34:29.651939Z"
    },
    "papermill": {
     "duration": 247.062705,
     "end_time": "2025-07-27T09:34:29.664088",
     "exception": false,
     "start_time": "2025-07-27T09:30:22.601383",
     "status": "completed"
    },
    "tags": []
   },
   "outputs": [
    {
     "name": "stdout",
     "output_type": "stream",
     "text": [
      "Fitting 5 folds for each of 50 candidates, totalling 250 fits\n",
      "[CV] END learning_rate=0.01, max_depth=3, n_estimators=100, subsample=0.8; total time=   2.0s\n",
      "[CV] END learning_rate=0.01, max_depth=3, n_estimators=100, subsample=1.0; total time=   2.6s\n",
      "[CV] END learning_rate=0.01, max_depth=3, n_estimators=200, subsample=0.8; total time=   3.9s\n",
      "[CV] END learning_rate=0.01, max_depth=3, n_estimators=200, subsample=1.0; total time=   4.7s\n",
      "[CV] END learning_rate=0.01, max_depth=3, n_estimators=200, subsample=1.0; total time=   4.6s\n",
      "[CV] END learning_rate=0.01, max_depth=3, n_estimators=300, subsample=0.8; total time=   6.2s\n",
      "[CV] END learning_rate=0.01, max_depth=3, n_estimators=300, subsample=1.0; total time=   7.0s\n",
      "[CV] END learning_rate=0.01, max_depth=5, n_estimators=100, subsample=0.8; total time=   3.1s\n",
      "[CV] END learning_rate=0.01, max_depth=5, n_estimators=100, subsample=0.8; total time=   3.1s\n",
      "[CV] END learning_rate=0.01, max_depth=5, n_estimators=100, subsample=1.0; total time=   3.8s\n",
      "[CV] END learning_rate=0.01, max_depth=5, n_estimators=200, subsample=0.8; total time=   6.3s\n",
      "[CV] END learning_rate=0.01, max_depth=5, n_estimators=200, subsample=1.0; total time=   7.7s\n",
      "[CV] END learning_rate=0.01, max_depth=5, n_estimators=200, subsample=1.0; total time=   8.6s\n",
      "[CV] END learning_rate=0.01, max_depth=5, n_estimators=300, subsample=0.8; total time=   9.4s\n",
      "[CV] END learning_rate=0.01, max_depth=5, n_estimators=300, subsample=1.0; total time=  11.5s\n",
      "[CV] END learning_rate=0.01, max_depth=7, n_estimators=100, subsample=0.8; total time=   4.3s\n",
      "[CV] END learning_rate=0.01, max_depth=7, n_estimators=100, subsample=0.8; total time=   5.3s\n",
      "[CV] END learning_rate=0.01, max_depth=7, n_estimators=100, subsample=1.0; total time=   5.3s\n",
      "[CV] END learning_rate=0.01, max_depth=7, n_estimators=200, subsample=0.8; total time=   8.7s\n",
      "[CV] END learning_rate=0.01, max_depth=7, n_estimators=200, subsample=1.0; total time=  10.5s\n",
      "[CV] END learning_rate=0.01, max_depth=7, n_estimators=300, subsample=0.8; total time=  13.3s\n",
      "[CV] END learning_rate=0.01, max_depth=7, n_estimators=300, subsample=0.8; total time=  13.0s\n",
      "[CV] END learning_rate=0.01, max_depth=7, n_estimators=300, subsample=1.0; total time=  16.0s\n",
      "[CV] END learning_rate=0.1, max_depth=3, n_estimators=100, subsample=1.0; total time=   2.4s\n",
      "[CV] END learning_rate=0.1, max_depth=3, n_estimators=100, subsample=1.0; total time=   2.4s\n",
      "[CV] END learning_rate=0.1, max_depth=3, n_estimators=200, subsample=0.8; total time=   3.9s\n",
      "[CV] END learning_rate=0.1, max_depth=3, n_estimators=200, subsample=1.0; total time=   4.7s\n",
      "[CV] END learning_rate=0.1, max_depth=3, n_estimators=300, subsample=0.8; total time=   5.9s\n",
      "[CV] END learning_rate=0.1, max_depth=3, n_estimators=300, subsample=0.8; total time=   6.0s\n",
      "[CV] END learning_rate=0.1, max_depth=3, n_estimators=300, subsample=1.0; total time=   8.3s\n",
      "[CV] END learning_rate=0.1, max_depth=5, n_estimators=100, subsample=0.8; total time=   3.2s\n",
      "[CV] END learning_rate=0.1, max_depth=5, n_estimators=100, subsample=1.0; total time=   3.8s\n",
      "[CV] END learning_rate=0.1, max_depth=5, n_estimators=200, subsample=0.8; total time=   6.4s\n",
      "[CV] END learning_rate=0.1, max_depth=5, n_estimators=200, subsample=1.0; total time=   7.8s\n",
      "[CV] END learning_rate=0.1, max_depth=5, n_estimators=200, subsample=1.0; total time=   8.3s\n",
      "[CV] END learning_rate=0.1, max_depth=5, n_estimators=300, subsample=0.8; total time=  10.0s\n",
      "[CV] END learning_rate=0.1, max_depth=5, n_estimators=300, subsample=1.0; total time=  11.6s\n",
      "[CV] END learning_rate=0.1, max_depth=7, n_estimators=100, subsample=0.8; total time=   4.4s\n",
      "[CV] END learning_rate=0.1, max_depth=7, n_estimators=100, subsample=0.8; total time=   4.4s\n",
      "[CV] END learning_rate=0.1, max_depth=7, n_estimators=100, subsample=1.0; total time=   5.7s\n",
      "[CV] END learning_rate=0.1, max_depth=7, n_estimators=200, subsample=0.8; total time=   8.8s\n",
      "[CV] END learning_rate=0.1, max_depth=7, n_estimators=200, subsample=1.0; total time=  10.7s\n",
      "[CV] END learning_rate=0.1, max_depth=7, n_estimators=300, subsample=0.8; total time=  14.3s\n",
      "[CV] END learning_rate=0.1, max_depth=7, n_estimators=300, subsample=0.8; total time=  13.1s\n",
      "[CV] END learning_rate=0.1, max_depth=7, n_estimators=300, subsample=1.0; total time=  16.5s\n",
      "[CV] END learning_rate=0.2, max_depth=3, n_estimators=100, subsample=1.0; total time=   2.7s\n",
      "[CV] END learning_rate=0.2, max_depth=3, n_estimators=100, subsample=1.0; total time=   2.4s\n",
      "[CV] END learning_rate=0.2, max_depth=3, n_estimators=200, subsample=0.8; total time=   3.9s\n",
      "[CV] END learning_rate=0.2, max_depth=3, n_estimators=200, subsample=1.0; total time=   4.8s\n",
      "[CV] END learning_rate=0.2, max_depth=3, n_estimators=300, subsample=0.8; total time=   5.9s\n",
      "[CV] END learning_rate=0.2, max_depth=3, n_estimators=300, subsample=0.8; total time=   5.9s\n",
      "[CV] END learning_rate=0.2, max_depth=3, n_estimators=300, subsample=1.0; total time=   7.6s\n",
      "[CV] END learning_rate=0.2, max_depth=5, n_estimators=100, subsample=0.8; total time=   3.5s\n",
      "[CV] END learning_rate=0.2, max_depth=5, n_estimators=100, subsample=1.0; total time=   3.9s\n",
      "[CV] END learning_rate=0.2, max_depth=5, n_estimators=200, subsample=0.8; total time=   6.3s\n",
      "[CV] END learning_rate=0.2, max_depth=5, n_estimators=200, subsample=1.0; total time=   7.7s\n",
      "[CV] END learning_rate=0.2, max_depth=5, n_estimators=300, subsample=0.8; total time=   9.6s\n",
      "[CV] END learning_rate=0.2, max_depth=5, n_estimators=300, subsample=0.8; total time=  10.4s\n",
      "[CV] END learning_rate=0.2, max_depth=5, n_estimators=300, subsample=1.0; total time=  11.5s\n",
      "[CV] END learning_rate=0.2, max_depth=7, n_estimators=100, subsample=0.8; total time=   4.4s\n",
      "[CV] END learning_rate=0.2, max_depth=7, n_estimators=100, subsample=1.0; total time=   5.3s\n",
      "[CV] END learning_rate=0.2, max_depth=7, n_estimators=200, subsample=0.8; total time=   9.8s\n",
      "[CV] END learning_rate=0.2, max_depth=7, n_estimators=200, subsample=1.0; total time=  10.7s\n",
      "[CV] END learning_rate=0.2, max_depth=7, n_estimators=200, subsample=1.0; total time=  10.7s\n",
      "[CV] END learning_rate=0.2, max_depth=7, n_estimators=300, subsample=0.8; total time=  14.2s\n",
      "[CV] END learning_rate=0.2, max_depth=7, n_estimators=300, subsample=1.0; total time=  16.0s\n",
      "[CV] END colsample_bytree=0.9, gamma=0.3, learning_rate=0.01, max_depth=4, n_estimators=600, subsample=0.6; total time=   2.6s\n",
      "[CV] END colsample_bytree=0.6, gamma=0.1, learning_rate=0.01, max_depth=7, n_estimators=400, subsample=0.6; total time=   4.9s\n",
      "[CV] END colsample_bytree=0.7, gamma=0.1, learning_rate=0.01, max_depth=8, n_estimators=500, subsample=0.6; total time=   9.8s\n",
      "[CV] END colsample_bytree=1.0, gamma=0.4, learning_rate=0.1, max_depth=8, n_estimators=200, subsample=0.6; total time=   4.5s\n",
      "[CV] END colsample_bytree=1.0, gamma=0.4, learning_rate=0.1, max_depth=8, n_estimators=200, subsample=0.6; total time=   4.6s\n",
      "[CV] END colsample_bytree=0.8, gamma=0.3, learning_rate=0.2, max_depth=7, n_estimators=400, subsample=1.0; total time=   5.2s\n",
      "[CV] END colsample_bytree=0.8, gamma=0.3, learning_rate=0.01, max_depth=4, n_estimators=300, subsample=1.0; total time=   1.3s\n",
      "[CV] END colsample_bytree=0.8, gamma=0.3, learning_rate=0.01, max_depth=4, n_estimators=300, subsample=1.0; total time=   1.3s\n",
      "[CV] END colsample_bytree=0.8, gamma=0.3, learning_rate=0.01, max_depth=4, n_estimators=300, subsample=1.0; total time=   1.3s\n",
      "[CV] END colsample_bytree=1.0, gamma=0.5, learning_rate=0.05, max_depth=5, n_estimators=500, subsample=0.9; total time=   3.6s\n",
      "[CV] END colsample_bytree=0.7, gamma=0.2, learning_rate=0.03, max_depth=7, n_estimators=500, subsample=0.6; total time=   6.8s\n",
      "[CV] END colsample_bytree=0.9, gamma=0.4, learning_rate=0.05, max_depth=5, n_estimators=200, subsample=0.6; total time=   1.4s\n",
      "[CV] END colsample_bytree=0.9, gamma=0.4, learning_rate=0.05, max_depth=5, n_estimators=200, subsample=0.6; total time=   1.3s\n",
      "[CV] END colsample_bytree=0.6, gamma=0.5, learning_rate=0.2, max_depth=6, n_estimators=200, subsample=0.7; total time=   1.6s\n",
      "[CV] END colsample_bytree=0.6, gamma=0.5, learning_rate=0.2, max_depth=6, n_estimators=200, subsample=0.7; total time=   1.6s\n",
      "[CV] END colsample_bytree=1.0, gamma=0.5, learning_rate=0.03, max_depth=5, n_estimators=400, subsample=0.8; total time=   2.9s\n",
      "[CV] END colsample_bytree=0.9, gamma=0.1, learning_rate=0.03, max_depth=3, n_estimators=600, subsample=0.9; total time=   1.6s[CV] END learning_rate=0.01, max_depth=3, n_estimators=100, subsample=0.8; total time=   1.9s\n",
      "[CV] END learning_rate=0.01, max_depth=3, n_estimators=100, subsample=0.8; total time=   2.0s\n",
      "[CV] END learning_rate=0.01, max_depth=3, n_estimators=100, subsample=1.0; total time=   2.4s\n",
      "[CV] END learning_rate=0.01, max_depth=3, n_estimators=200, subsample=0.8; total time=   3.9s\n",
      "[CV] END learning_rate=0.01, max_depth=3, n_estimators=200, subsample=1.0; total time=   4.7s\n",
      "[CV] END learning_rate=0.01, max_depth=3, n_estimators=300, subsample=0.8; total time=   5.8s\n",
      "[CV] END learning_rate=0.01, max_depth=3, n_estimators=300, subsample=0.8; total time=   6.7s\n",
      "[CV] END learning_rate=0.01, max_depth=3, n_estimators=300, subsample=1.0; total time=   7.0s\n",
      "[CV] END learning_rate=0.01, max_depth=5, n_estimators=100, subsample=0.8; total time=   3.1s\n",
      "[CV] END learning_rate=0.01, max_depth=5, n_estimators=100, subsample=1.0; total time=   3.8s\n",
      "[CV] END learning_rate=0.01, max_depth=5, n_estimators=200, subsample=0.8; total time=   6.2s\n",
      "[CV] END learning_rate=0.01, max_depth=5, n_estimators=200, subsample=1.0; total time=   7.6s\n",
      "[CV] END learning_rate=0.01, max_depth=5, n_estimators=300, subsample=0.8; total time=  10.2s\n",
      "[CV] END learning_rate=0.01, max_depth=5, n_estimators=300, subsample=0.8; total time=   9.4s\n",
      "[CV] END learning_rate=0.01, max_depth=5, n_estimators=300, subsample=1.0; total time=  11.4s\n",
      "[CV] END learning_rate=0.01, max_depth=7, n_estimators=100, subsample=0.8; total time=   4.9s\n",
      "[CV] END learning_rate=0.01, max_depth=7, n_estimators=100, subsample=1.0; total time=   5.5s\n",
      "[CV] END learning_rate=0.01, max_depth=7, n_estimators=200, subsample=0.8; total time=   8.7s\n",
      "[CV] END learning_rate=0.01, max_depth=7, n_estimators=200, subsample=0.8; total time=   8.7s\n",
      "[CV] END learning_rate=0.01, max_depth=7, n_estimators=200, subsample=1.0; total time=  11.5s\n",
      "[CV] END learning_rate=0.01, max_depth=7, n_estimators=300, subsample=0.8; total time=  12.9s\n",
      "[CV] END learning_rate=0.01, max_depth=7, n_estimators=300, subsample=1.0; total time=  15.8s\n",
      "[CV] END learning_rate=0.1, max_depth=3, n_estimators=100, subsample=0.8; total time=   2.3s\n",
      "[CV] END learning_rate=0.1, max_depth=3, n_estimators=100, subsample=0.8; total time=   2.4s\n",
      "[CV] END learning_rate=0.1, max_depth=3, n_estimators=100, subsample=0.8; total time=   2.0s\n",
      "[CV] END learning_rate=0.1, max_depth=3, n_estimators=100, subsample=1.0; total time=   2.4s\n",
      "[CV] END learning_rate=0.1, max_depth=3, n_estimators=100, subsample=1.0; total time=   2.3s\n",
      "[CV] END learning_rate=0.1, max_depth=3, n_estimators=200, subsample=0.8; total time=   3.9s\n",
      "[CV] END learning_rate=0.1, max_depth=3, n_estimators=200, subsample=1.0; total time=   4.7s\n",
      "[CV] END learning_rate=0.1, max_depth=3, n_estimators=200, subsample=1.0; total time=   4.7s\n",
      "[CV] END learning_rate=0.1, max_depth=3, n_estimators=300, subsample=0.8; total time=   5.9s\n",
      "[CV] END learning_rate=0.1, max_depth=3, n_estimators=300, subsample=1.0; total time=   7.4s\n",
      "[CV] END learning_rate=0.1, max_depth=5, n_estimators=100, subsample=0.8; total time=   3.2s\n",
      "[CV] END learning_rate=0.1, max_depth=5, n_estimators=100, subsample=0.8; total time=   3.1s\n",
      "[CV] END learning_rate=0.1, max_depth=5, n_estimators=100, subsample=1.0; total time=   3.8s\n",
      "[CV] END learning_rate=0.1, max_depth=5, n_estimators=200, subsample=0.8; total time=   6.3s\n",
      "[CV] END learning_rate=0.1, max_depth=5, n_estimators=200, subsample=1.0; total time=   7.7s\n",
      "[CV] END learning_rate=0.1, max_depth=5, n_estimators=300, subsample=0.8; total time=  10.3s\n",
      "[CV] END learning_rate=0.1, max_depth=5, n_estimators=300, subsample=0.8; total time=   9.5s\n",
      "[CV] END learning_rate=0.1, max_depth=5, n_estimators=300, subsample=1.0; total time=  11.5s\n",
      "[CV] END learning_rate=0.1, max_depth=7, n_estimators=100, subsample=0.8; total time=   4.4s\n",
      "[CV] END learning_rate=0.1, max_depth=7, n_estimators=100, subsample=1.0; total time=   6.4s\n",
      "[CV] END learning_rate=0.1, max_depth=7, n_estimators=200, subsample=0.8; total time=   8.7s\n",
      "[CV] END learning_rate=0.1, max_depth=7, n_estimators=200, subsample=1.0; total time=  10.7s\n",
      "[CV] END learning_rate=0.1, max_depth=7, n_estimators=200, subsample=1.0; total time=  10.8s\n",
      "[CV] END learning_rate=0.1, max_depth=7, n_estimators=300, subsample=0.8; total time=  13.9s\n",
      "[CV] END learning_rate=0.1, max_depth=7, n_estimators=300, subsample=1.0; total time=  16.1s\n",
      "[CV] END learning_rate=0.2, max_depth=3, n_estimators=100, subsample=0.8; total time=   2.0s\n",
      "[CV] END learning_rate=0.2, max_depth=3, n_estimators=100, subsample=0.8; total time=   2.4s\n",
      "[CV] END learning_rate=0.2, max_depth=3, n_estimators=100, subsample=1.0; total time=   2.9s\n",
      "[CV] END learning_rate=0.2, max_depth=3, n_estimators=200, subsample=0.8; total time=   3.9s\n",
      "[CV] END learning_rate=0.2, max_depth=3, n_estimators=200, subsample=0.8; total time=   3.9s\n",
      "[CV] END learning_rate=0.2, max_depth=3, n_estimators=200, subsample=1.0; total time=   4.7s\n",
      "[CV] END learning_rate=0.2, max_depth=3, n_estimators=300, subsample=0.8; total time=   5.9s\n",
      "[CV] END learning_rate=0.2, max_depth=3, n_estimators=300, subsample=1.0; total time=   7.0s\n",
      "[CV] END learning_rate=0.2, max_depth=5, n_estimators=100, subsample=0.8; total time=   3.2s\n",
      "[CV] END learning_rate=0.2, max_depth=5, n_estimators=100, subsample=0.8; total time=   4.3s\n",
      "[CV] END learning_rate=0.2, max_depth=5, n_estimators=100, subsample=1.0; total time=   3.9s\n",
      "[CV] END learning_rate=0.2, max_depth=5, n_estimators=200, subsample=0.8; total time=   6.3s\n",
      "[CV] END learning_rate=0.2, max_depth=5, n_estimators=200, subsample=0.8; total time=   6.4s\n",
      "[CV] END learning_rate=0.2, max_depth=5, n_estimators=200, subsample=1.0; total time=   7.7s\n",
      "[CV] END learning_rate=0.2, max_depth=5, n_estimators=300, subsample=0.8; total time=   9.9s\n",
      "[CV] END learning_rate=0.2, max_depth=5, n_estimators=300, subsample=1.0; total time=  11.5s\n",
      "[CV] END learning_rate=0.2, max_depth=7, n_estimators=100, subsample=0.8; total time=   4.4s\n",
      "[CV] END learning_rate=0.2, max_depth=7, n_estimators=100, subsample=0.8; total time=   4.4s\n",
      "[CV] END learning_rate=0.2, max_depth=7, n_estimators=100, subsample=1.0; total time=   5.4s\n",
      "[CV] END learning_rate=0.2, max_depth=7, n_estimators=200, subsample=0.8; total time=   9.0s\n",
      "[CV] END learning_rate=0.2, max_depth=7, n_estimators=200, subsample=0.8; total time=   8.8s\n",
      "[CV] END learning_rate=0.2, max_depth=7, n_estimators=200, subsample=1.0; total time=  10.7s\n",
      "[CV] END learning_rate=0.2, max_depth=7, n_estimators=300, subsample=0.8; total time=  14.0s\n",
      "[CV] END learning_rate=0.2, max_depth=7, n_estimators=300, subsample=1.0; total time=  16.0s\n",
      "[CV] END colsample_bytree=0.9, gamma=0.3, learning_rate=0.01, max_depth=4, n_estimators=600, subsample=0.6; total time=   2.6s\n",
      "[CV] END colsample_bytree=0.9, gamma=0.3, learning_rate=0.01, max_depth=4, n_estimators=600, subsample=0.6; total time=   2.6s\n",
      "[CV] END colsample_bytree=0.6, gamma=0.1, learning_rate=0.01, max_depth=7, n_estimators=400, subsample=0.6; total time=   6.1s\n",
      "[CV] END colsample_bytree=0.7, gamma=0.1, learning_rate=0.01, max_depth=8, n_estimators=500, subsample=0.6; total time=   9.0s\n",
      "[CV] END colsample_bytree=1.0, gamma=0.4, learning_rate=0.1, max_depth=8, n_estimators=200, subsample=0.6; total time=   4.7s\n",
      "[CV] END colsample_bytree=1.0, gamma=0.4, learning_rate=0.1, max_depth=8, n_estimators=200, subsample=0.6; total time=   4.4s\n",
      "[CV] END colsample_bytree=0.8, gamma=0.3, learning_rate=0.2, max_depth=7, n_estimators=400, subsample=1.0; total time=   5.2s\n",
      "[CV] END colsample_bytree=1.0, gamma=0.5, learning_rate=0.05, max_depth=5, n_estimators=500, subsample=0.9; total time=   3.6s\n",
      "[CV] END colsample_bytree=0.7, gamma=0.2, learning_rate=0.03, max_depth=7, n_estimators=500, subsample=0.6; total time=   6.6s\n",
      "[CV] END colsample_bytree=0.7, gamma=0.2, learning_rate=0.03, max_depth=7, n_estimators=500, subsample=0.6; total time=   5.8s\n",
      "[CV] END colsample_bytree=1.0, gamma=0.5, learning_rate=0.03, max_depth=5, n_estimators=400, subsample=0.8; total time=   2.9s\n",
      "[CV] END colsample_bytree=1.0, gamma=0.5, learning_rate=0.03, max_depth=5, n_estimators=400, subsample=0.8; total time=   2.9s\n",
      "[CV] END colsample_bytree=0.8, gamma=0.3, learning_rate=0.01, max_depth=7, n_estimators=400, subsample=0.9; total time=   7.0s[CV] END learning_rate=0.01, max_depth=3, n_estimators=100, subsample=0.8; total time=   1.9s\n",
      "[CV] END learning_rate=0.01, max_depth=3, n_estimators=100, subsample=1.0; total time=   2.5s\n",
      "[CV] END learning_rate=0.01, max_depth=3, n_estimators=100, subsample=1.0; total time=   2.3s\n",
      "[CV] END learning_rate=0.01, max_depth=3, n_estimators=200, subsample=0.8; total time=   3.9s\n",
      "[CV] END learning_rate=0.01, max_depth=3, n_estimators=200, subsample=1.0; total time=   4.7s\n",
      "[CV] END learning_rate=0.01, max_depth=3, n_estimators=300, subsample=0.8; total time=   5.8s\n",
      "[CV] END learning_rate=0.01, max_depth=3, n_estimators=300, subsample=1.0; total time=   7.8s\n",
      "[CV] END learning_rate=0.01, max_depth=3, n_estimators=300, subsample=1.0; total time=   7.0s\n",
      "[CV] END learning_rate=0.01, max_depth=5, n_estimators=100, subsample=1.0; total time=   3.8s\n",
      "[CV] END learning_rate=0.01, max_depth=5, n_estimators=100, subsample=1.0; total time=   3.8s\n",
      "[CV] END learning_rate=0.01, max_depth=5, n_estimators=200, subsample=0.8; total time=   6.2s\n",
      "[CV] END learning_rate=0.01, max_depth=5, n_estimators=200, subsample=1.0; total time=   7.8s\n",
      "[CV] END learning_rate=0.01, max_depth=5, n_estimators=300, subsample=0.8; total time=   9.4s\n",
      "[CV] END learning_rate=0.01, max_depth=5, n_estimators=300, subsample=1.0; total time=  11.4s\n",
      "[CV] END learning_rate=0.01, max_depth=5, n_estimators=300, subsample=1.0; total time=  11.4s\n",
      "[CV] END learning_rate=0.01, max_depth=7, n_estimators=100, subsample=1.0; total time=   6.1s\n",
      "[CV] END learning_rate=0.01, max_depth=7, n_estimators=100, subsample=1.0; total time=   5.3s\n",
      "[CV] END learning_rate=0.01, max_depth=7, n_estimators=200, subsample=0.8; total time=   8.6s\n",
      "[CV] END learning_rate=0.01, max_depth=7, n_estimators=200, subsample=1.0; total time=  10.5s\n",
      "[CV] END learning_rate=0.01, max_depth=7, n_estimators=300, subsample=0.8; total time=  13.9s\n",
      "[CV] END learning_rate=0.01, max_depth=7, n_estimators=300, subsample=1.0; total time=  15.8s\n",
      "[CV] END learning_rate=0.01, max_depth=7, n_estimators=300, subsample=1.0; total time=  16.8s\n",
      "[CV] END learning_rate=0.1, max_depth=3, n_estimators=200, subsample=0.8; total time=   3.9s\n",
      "[CV] END learning_rate=0.1, max_depth=3, n_estimators=200, subsample=1.0; total time=   4.7s\n",
      "[CV] END learning_rate=0.1, max_depth=3, n_estimators=300, subsample=0.8; total time=   5.8s\n",
      "[CV] END learning_rate=0.1, max_depth=3, n_estimators=300, subsample=1.0; total time=   7.0s\n",
      "[CV] END learning_rate=0.1, max_depth=3, n_estimators=300, subsample=1.0; total time=   7.9s\n",
      "[CV] END learning_rate=0.1, max_depth=5, n_estimators=100, subsample=1.0; total time=   3.9s\n",
      "[CV] END learning_rate=0.1, max_depth=5, n_estimators=100, subsample=1.0; total time=   3.9s\n",
      "[CV] END learning_rate=0.1, max_depth=5, n_estimators=200, subsample=0.8; total time=   6.3s\n",
      "[CV] END learning_rate=0.1, max_depth=5, n_estimators=200, subsample=1.0; total time=   7.7s\n",
      "[CV] END learning_rate=0.1, max_depth=5, n_estimators=300, subsample=0.8; total time=  10.5s\n",
      "[CV] END learning_rate=0.1, max_depth=5, n_estimators=300, subsample=1.0; total time=  11.5s\n",
      "[CV] END learning_rate=0.1, max_depth=5, n_estimators=300, subsample=1.0; total time=  11.5s\n",
      "[CV] END learning_rate=0.1, max_depth=7, n_estimators=100, subsample=1.0; total time=   6.1s\n",
      "[CV] END learning_rate=0.1, max_depth=7, n_estimators=200, subsample=0.8; total time=   9.0s\n",
      "[CV] END learning_rate=0.1, max_depth=7, n_estimators=200, subsample=0.8; total time=   8.7s\n",
      "[CV] END learning_rate=0.1, max_depth=7, n_estimators=200, subsample=1.0; total time=  10.7s\n",
      "[CV] END learning_rate=0.1, max_depth=7, n_estimators=300, subsample=0.8; total time=  13.3s\n",
      "[CV] END learning_rate=0.1, max_depth=7, n_estimators=300, subsample=1.0; total time=  16.0s\n",
      "[CV] END learning_rate=0.2, max_depth=3, n_estimators=100, subsample=0.8; total time=   2.0s\n",
      "[CV] END learning_rate=0.2, max_depth=3, n_estimators=100, subsample=0.8; total time=   2.0s\n",
      "[CV] END learning_rate=0.2, max_depth=3, n_estimators=100, subsample=0.8; total time=   2.0s\n",
      "[CV] END learning_rate=0.2, max_depth=3, n_estimators=100, subsample=1.0; total time=   2.6s\n",
      "[CV] END learning_rate=0.2, max_depth=3, n_estimators=100, subsample=1.0; total time=   2.4s\n",
      "[CV] END learning_rate=0.2, max_depth=3, n_estimators=200, subsample=0.8; total time=   3.9s\n",
      "[CV] END learning_rate=0.2, max_depth=3, n_estimators=200, subsample=1.0; total time=   4.7s\n",
      "[CV] END learning_rate=0.2, max_depth=3, n_estimators=200, subsample=1.0; total time=   4.7s\n",
      "[CV] END learning_rate=0.2, max_depth=3, n_estimators=300, subsample=0.8; total time=   5.9s\n",
      "[CV] END learning_rate=0.2, max_depth=3, n_estimators=300, subsample=1.0; total time=   7.0s\n",
      "[CV] END learning_rate=0.2, max_depth=5, n_estimators=100, subsample=0.8; total time=   3.4s\n",
      "[CV] END learning_rate=0.2, max_depth=5, n_estimators=100, subsample=0.8; total time=   3.8s\n",
      "[CV] END learning_rate=0.2, max_depth=5, n_estimators=100, subsample=1.0; total time=   3.9s\n",
      "[CV] END learning_rate=0.2, max_depth=5, n_estimators=200, subsample=0.8; total time=   6.3s\n",
      "[CV] END learning_rate=0.2, max_depth=5, n_estimators=200, subsample=1.0; total time=   7.7s\n",
      "[CV] END learning_rate=0.2, max_depth=5, n_estimators=200, subsample=1.0; total time=   7.7s\n",
      "[CV] END learning_rate=0.2, max_depth=5, n_estimators=300, subsample=0.8; total time=  10.3s\n",
      "[CV] END learning_rate=0.2, max_depth=5, n_estimators=300, subsample=1.0; total time=  11.6s\n",
      "[CV] END learning_rate=0.2, max_depth=7, n_estimators=100, subsample=0.8; total time=   4.4s\n",
      "[CV] END learning_rate=0.2, max_depth=7, n_estimators=100, subsample=0.8; total time=   4.5s\n",
      "[CV] END learning_rate=0.2, max_depth=7, n_estimators=100, subsample=1.0; total time=   5.4s\n",
      "[CV] END learning_rate=0.2, max_depth=7, n_estimators=200, subsample=0.8; total time=   9.5s\n",
      "[CV] END learning_rate=0.2, max_depth=7, n_estimators=200, subsample=1.0; total time=  10.7s\n",
      "[CV] END learning_rate=0.2, max_depth=7, n_estimators=300, subsample=0.8; total time=  13.2s\n",
      "[CV] END learning_rate=0.2, max_depth=7, n_estimators=300, subsample=0.8; total time=  14.1s\n",
      "[CV] END learning_rate=0.2, max_depth=7, n_estimators=300, subsample=1.0; total time=  14.0s\n",
      "[CV] END colsample_bytree=0.9, gamma=0.3, learning_rate=0.01, max_depth=4, n_estimators=600, subsample=0.6; total time=   2.5s\n",
      "[CV] END colsample_bytree=0.6, gamma=0.1, learning_rate=0.01, max_depth=7, n_estimators=400, subsample=0.6; total time=   4.8s\n",
      "[CV] END colsample_bytree=0.6, gamma=0.1, learning_rate=0.01, max_depth=7, n_estimators=400, subsample=0.6; total time=   5.6s\n",
      "[CV] END colsample_bytree=0.7, gamma=0.1, learning_rate=0.01, max_depth=8, n_estimators=500, subsample=0.6; total time=   9.0s\n",
      "[CV] END colsample_bytree=1.0, gamma=0.4, learning_rate=0.1, max_depth=8, n_estimators=200, subsample=0.6; total time=   4.6s\n",
      "[CV] END colsample_bytree=0.8, gamma=0.3, learning_rate=0.2, max_depth=7, n_estimators=400, subsample=1.0; total time=   5.1s\n",
      "[CV] END colsample_bytree=0.8, gamma=0.3, learning_rate=0.01, max_depth=4, n_estimators=300, subsample=1.0; total time=   1.3s\n",
      "[CV] END colsample_bytree=0.8, gamma=0.3, learning_rate=0.01, max_depth=4, n_estimators=300, subsample=1.0; total time=   1.3s\n",
      "[CV] END colsample_bytree=1.0, gamma=0.5, learning_rate=0.05, max_depth=5, n_estimators=500, subsample=0.9; total time=   3.6s\n",
      "[CV] END colsample_bytree=1.0, gamma=0.5, learning_rate=0.05, max_depth=5, n_estimators=500, subsample=0.9; total time=   4.1s\n",
      "[CV] END colsample_bytree=0.7, gamma=0.2, learning_rate=0.03, max_depth=7, n_estimators=500, subsample=0.6; total time=   6.2s\n",
      "[CV] END colsample_bytree=0.9, gamma=0.4, learning_rate=0.05, max_depth=5, n_estimators=200, subsample=0.6; total time=   1.3s\n",
      "[CV] END colsample_bytree=0.6, gamma=0.5, learning_rate=0.2, max_depth=6, n_estimators=200, subsample=0.7; total time=   1.6s\n",
      "[CV] END colsample_bytree=1.0, gamma=0.5, learning_rate=0.03, max_depth=5, n_estimators=400, subsample=0.8; total time=   3.0s\n",
      "[CV] END colsample_bytree=0.9, gamma=0.1, learning_rate=0.03, max_depth=3, n_estimators=600, subsample=0.9; total time=   1.6s\n",
      "[CV] END colsample_bytree=0.9, gamma=0.1, learning_rate=0.03, max_depth=3, n_estimators=600, subsample=0.9; total time=   1.6s\n",
      "[CV] END colsample_bytree=0.8, gamma=0.3, learning_rate=0.01, max_depth=7, n_estimators=400, subsample=0.9; total time=   6.9s[CV] END learning_rate=0.01, max_depth=3, n_estimators=100, subsample=0.8; total time=   1.9s\n",
      "[CV] END learning_rate=0.01, max_depth=3, n_estimators=100, subsample=1.0; total time=   2.5s\n",
      "[CV] END learning_rate=0.01, max_depth=3, n_estimators=200, subsample=0.8; total time=   3.9s\n",
      "[CV] END learning_rate=0.01, max_depth=3, n_estimators=200, subsample=0.8; total time=   3.9s\n",
      "[CV] END learning_rate=0.01, max_depth=3, n_estimators=200, subsample=1.0; total time=   4.7s\n",
      "[CV] END learning_rate=0.01, max_depth=3, n_estimators=300, subsample=0.8; total time=   5.9s\n",
      "[CV] END learning_rate=0.01, max_depth=3, n_estimators=300, subsample=1.0; total time=   7.9s\n",
      "[CV] END learning_rate=0.01, max_depth=5, n_estimators=100, subsample=0.8; total time=   3.2s\n",
      "[CV] END learning_rate=0.01, max_depth=5, n_estimators=100, subsample=0.8; total time=   3.1s\n",
      "[CV] END learning_rate=0.01, max_depth=5, n_estimators=100, subsample=1.0; total time=   3.8s\n",
      "[CV] END learning_rate=0.01, max_depth=5, n_estimators=200, subsample=0.8; total time=   6.2s\n",
      "[CV] END learning_rate=0.01, max_depth=5, n_estimators=200, subsample=0.8; total time=   6.2s\n",
      "[CV] END learning_rate=0.01, max_depth=5, n_estimators=200, subsample=1.0; total time=   8.5s\n",
      "[CV] END learning_rate=0.01, max_depth=5, n_estimators=300, subsample=0.8; total time=   9.4s\n",
      "[CV] END learning_rate=0.01, max_depth=5, n_estimators=300, subsample=1.0; total time=  11.4s\n",
      "[CV] END learning_rate=0.01, max_depth=7, n_estimators=100, subsample=0.8; total time=   4.4s\n",
      "[CV] END learning_rate=0.01, max_depth=7, n_estimators=100, subsample=0.8; total time=   4.6s\n",
      "[CV] END learning_rate=0.01, max_depth=7, n_estimators=100, subsample=1.0; total time=   5.3s\n",
      "[CV] END learning_rate=0.01, max_depth=7, n_estimators=200, subsample=0.8; total time=   8.6s\n",
      "[CV] END learning_rate=0.01, max_depth=7, n_estimators=200, subsample=1.0; total time=  10.6s\n",
      "[CV] END learning_rate=0.01, max_depth=7, n_estimators=200, subsample=1.0; total time=  11.5s\n",
      "[CV] END learning_rate=0.01, max_depth=7, n_estimators=300, subsample=0.8; total time=  13.0s\n",
      "[CV] END learning_rate=0.01, max_depth=7, n_estimators=300, subsample=1.0; total time=  16.1s\n",
      "[CV] END learning_rate=0.1, max_depth=3, n_estimators=100, subsample=0.8; total time=   2.6s\n",
      "[CV] END learning_rate=0.1, max_depth=3, n_estimators=100, subsample=0.8; total time=   2.0s\n",
      "[CV] END learning_rate=0.1, max_depth=3, n_estimators=100, subsample=1.0; total time=   2.4s\n",
      "[CV] END learning_rate=0.1, max_depth=3, n_estimators=200, subsample=0.8; total time=   3.9s\n",
      "[CV] END learning_rate=0.1, max_depth=3, n_estimators=200, subsample=0.8; total time=   3.9s\n",
      "[CV] END learning_rate=0.1, max_depth=3, n_estimators=200, subsample=1.0; total time=   4.7s\n",
      "[CV] END learning_rate=0.1, max_depth=3, n_estimators=300, subsample=0.8; total time=   5.8s\n",
      "[CV] END learning_rate=0.1, max_depth=3, n_estimators=300, subsample=1.0; total time=   7.2s\n",
      "[CV] END learning_rate=0.1, max_depth=5, n_estimators=100, subsample=0.8; total time=   3.8s\n",
      "[CV] END learning_rate=0.1, max_depth=5, n_estimators=100, subsample=0.8; total time=   3.2s\n",
      "[CV] END learning_rate=0.1, max_depth=5, n_estimators=100, subsample=1.0; total time=   3.9s\n",
      "[CV] END learning_rate=0.1, max_depth=5, n_estimators=200, subsample=0.8; total time=   6.4s\n",
      "[CV] END learning_rate=0.1, max_depth=5, n_estimators=200, subsample=0.8; total time=   6.3s\n",
      "[CV] END learning_rate=0.1, max_depth=5, n_estimators=200, subsample=1.0; total time=   7.6s\n",
      "[CV] END learning_rate=0.1, max_depth=5, n_estimators=300, subsample=0.8; total time=   9.8s\n",
      "[CV] END learning_rate=0.1, max_depth=5, n_estimators=300, subsample=1.0; total time=  11.5s\n",
      "[CV] END learning_rate=0.1, max_depth=7, n_estimators=100, subsample=0.8; total time=   4.4s\n",
      "[CV] END learning_rate=0.1, max_depth=7, n_estimators=100, subsample=0.8; total time=   4.4s\n",
      "[CV] END learning_rate=0.1, max_depth=7, n_estimators=100, subsample=1.0; total time=   5.6s\n",
      "[CV] END learning_rate=0.1, max_depth=7, n_estimators=100, subsample=1.0; total time=   5.8s\n",
      "[CV] END learning_rate=0.1, max_depth=7, n_estimators=200, subsample=0.8; total time=   8.8s\n",
      "[CV] END learning_rate=0.1, max_depth=7, n_estimators=200, subsample=1.0; total time=  10.8s\n",
      "[CV] END learning_rate=0.1, max_depth=7, n_estimators=300, subsample=0.8; total time=  14.0s\n",
      "[CV] END learning_rate=0.1, max_depth=7, n_estimators=300, subsample=1.0; total time=  16.0s\n",
      "[CV] END learning_rate=0.1, max_depth=7, n_estimators=300, subsample=1.0; total time=  17.1s\n",
      "[CV] END learning_rate=0.2, max_depth=3, n_estimators=200, subsample=0.8; total time=   3.9s\n",
      "[CV] END learning_rate=0.2, max_depth=3, n_estimators=200, subsample=1.0; total time=   4.7s\n",
      "[CV] END learning_rate=0.2, max_depth=3, n_estimators=300, subsample=0.8; total time=   5.9s\n",
      "[CV] END learning_rate=0.2, max_depth=3, n_estimators=300, subsample=1.0; total time=   7.0s\n",
      "[CV] END learning_rate=0.2, max_depth=3, n_estimators=300, subsample=1.0; total time=   7.2s\n",
      "[CV] END learning_rate=0.2, max_depth=5, n_estimators=100, subsample=1.0; total time=   3.9s\n",
      "[CV] END learning_rate=0.2, max_depth=5, n_estimators=100, subsample=1.0; total time=   3.9s\n",
      "[CV] END learning_rate=0.2, max_depth=5, n_estimators=200, subsample=0.8; total time=   6.3s\n",
      "[CV] END learning_rate=0.2, max_depth=5, n_estimators=200, subsample=1.0; total time=   7.8s\n",
      "[CV] END learning_rate=0.2, max_depth=5, n_estimators=300, subsample=0.8; total time=   9.8s\n",
      "[CV] END learning_rate=0.2, max_depth=5, n_estimators=300, subsample=1.0; total time=  12.1s\n",
      "[CV] END learning_rate=0.2, max_depth=5, n_estimators=300, subsample=1.0; total time=  11.6s\n",
      "[CV] END learning_rate=0.2, max_depth=7, n_estimators=100, subsample=1.0; total time=   5.3s\n",
      "[CV] END learning_rate=0.2, max_depth=7, n_estimators=100, subsample=1.0; total time=   6.4s\n",
      "[CV] END learning_rate=0.2, max_depth=7, n_estimators=200, subsample=0.8; total time=   8.8s\n",
      "[CV] END learning_rate=0.2, max_depth=7, n_estimators=200, subsample=1.0; total time=  10.8s\n",
      "[CV] END learning_rate=0.2, max_depth=7, n_estimators=300, subsample=0.8; total time=  13.4s\n",
      "[CV] END learning_rate=0.2, max_depth=7, n_estimators=300, subsample=1.0; total time=  16.1s\n",
      "[CV] END learning_rate=0.2, max_depth=7, n_estimators=300, subsample=1.0; total time=  13.4s\n",
      "[CV] END colsample_bytree=0.9, gamma=0.3, learning_rate=0.01, max_depth=4, n_estimators=600, subsample=0.6; total time=   2.5s\n",
      "[CV] END colsample_bytree=0.6, gamma=0.1, learning_rate=0.01, max_depth=7, n_estimators=400, subsample=0.6; total time=   4.9s\n",
      "[CV] END colsample_bytree=0.7, gamma=0.1, learning_rate=0.01, max_depth=8, n_estimators=500, subsample=0.6; total time=   9.4s\n",
      "[CV] END colsample_bytree=0.7, gamma=0.1, learning_rate=0.01, max_depth=8, n_estimators=500, subsample=0.6; total time=   9.2s\n",
      "[CV] END colsample_bytree=0.8, gamma=0.3, learning_rate=0.2, max_depth=7, n_estimators=400, subsample=1.0; total time=   5.4s\n",
      "[CV] END colsample_bytree=0.8, gamma=0.3, learning_rate=0.2, max_depth=7, n_estimators=400, subsample=1.0; total time=   5.2s\n",
      "[CV] END colsample_bytree=1.0, gamma=0.5, learning_rate=0.05, max_depth=5, n_estimators=500, subsample=0.9; total time=   3.6s\n",
      "[CV] END colsample_bytree=0.7, gamma=0.2, learning_rate=0.03, max_depth=7, n_estimators=500, subsample=0.6; total time=   5.9s\n",
      "[CV] END colsample_bytree=0.9, gamma=0.4, learning_rate=0.05, max_depth=5, n_estimators=200, subsample=0.6; total time=   1.3s\n",
      "[CV] END colsample_bytree=0.9, gamma=0.4, learning_rate=0.05, max_depth=5, n_estimators=200, subsample=0.6; total time=   1.4s\n",
      "[CV] END colsample_bytree=0.6, gamma=0.5, learning_rate=0.2, max_depth=6, n_estimators=200, subsample=0.7; total time=   1.6s\n",
      "[CV] END colsample_bytree=0.6, gamma=0.5, learning_rate=0.2, max_depth=6, n_estimators=200, subsample=0.7; total time=   1.6s\n",
      "[CV] END colsample_bytree=1.0, gamma=0.5, learning_rate=0.03, max_depth=5, n_estimators=400, subsample=0.8; total time=   2.9s\n",
      "[CV] END colsample_bytree=0.9, gamma=0.1, learning_rate=0.03, max_depth=3, n_estimators=600, subsample=0.9; total time=   1.6s\n",
      "[CV] END colsample_bytree=0.8, gamma=0.3, learning_rate=0.01, max_depth=7, n_estimators=400, subsample=0.9; total time=   7.0s\n",
      "[CV] END colsample_bytree=0.9, gamma=0.3, learning_rate=0.03, max_depth=7, n_estimators=600, subsample=0.9; total time=   9.7sBest Parameters: {'subsample': 1.0, 'n_estimators': 400, 'max_depth': 4, 'learning_rate': 0.03, 'gamma': 0, 'colsample_bytree': 0.6}\n",
      "Best R² Score: 0.9196958526726722\n"
     ]
    }
   ],
   "source": [
    "from sklearn.model_selection import RandomizedSearchCV\n",
    "\n",
    "\n",
    "param_dist = {\n",
    "    'n_estimators': [200, 300, 400, 500, 600],\n",
    "    'learning_rate': [0.01, 0.03, 0.05, 0.1, 0.2],\n",
    "    'max_depth': [3, 4, 5, 6, 7, 8],\n",
    "    'subsample': [0.6, 0.7, 0.8, 0.9, 1.0],\n",
    "    'colsample_bytree': [0.6, 0.7, 0.8, 0.9, 1.0],\n",
    "    'gamma': [0, 0.1, 0.2, 0.3, 0.4, 0.5]\n",
    "}\n",
    "\n",
    "random_search = RandomizedSearchCV(\n",
    "    xgb,\n",
    "    param_distributions=param_dist,\n",
    "    n_iter=50,\n",
    "    scoring='r2',\n",
    "    cv=5,\n",
    "    verbose=2,\n",
    "    random_state=42,\n",
    "    n_jobs=-1\n",
    ")\n",
    "\n",
    "random_search.fit(X, y)\n",
    "\n",
    "print(\"Best Parameters:\", random_search.best_params_)\n",
    "print(\"Best R² Score:\", random_search.best_score_)"
   ]
  },
  {
   "cell_type": "code",
   "execution_count": 31,
   "id": "f6fcb7f0",
   "metadata": {
    "execution": {
     "iopub.execute_input": "2025-07-27T09:34:29.688961Z",
     "iopub.status.busy": "2025-07-27T09:34:29.688618Z",
     "iopub.status.idle": "2025-07-27T09:34:30.056262Z",
     "shell.execute_reply": "2025-07-27T09:34:30.055323Z"
    },
    "papermill": {
     "duration": 0.381802,
     "end_time": "2025-07-27T09:34:30.057739",
     "exception": false,
     "start_time": "2025-07-27T09:34:29.675937",
     "status": "completed"
    },
    "tags": []
   },
   "outputs": [
    {
     "name": "stdout",
     "output_type": "stream",
     "text": [
      "               Model           MSE      RMSE     R²\n",
      "0  Linear Regression  1.111576e+09  33340.31  0.861\n",
      "1              Ridge  1.111412e+09  33337.85  0.861\n",
      "2              Lasso  1.111523e+09  33339.51  0.861\n",
      "3      Decision Tree  1.159515e+09  34051.64  0.855\n",
      "4  Gradient Boosting  6.342728e+08  25184.77  0.921\n",
      "5            XGBoost  5.583847e+08  23630.17  0.930\n"
     ]
    },
    {
     "data": {
      "image/png": "[encoded data removed]",
      "text/plain": [
       "<Figure size 1200x500 with 2 Axes>"
      ]
     },
     "metadata": {},
     "output_type": "display_data"
    }
   ],
   "source": [
    "import matplotlib.pyplot as plt\n",
    "import pandas as pd\n",
    "\n",
    "results = {\n",
    "    'Model': [\n",
    "        'Linear Regression', \n",
    "        'Ridge', \n",
    "        'Lasso', \n",
    "        'Decision Tree', \n",
    "        'Gradient Boosting',\n",
    "        'XGBoost'\n",
    "    ],\n",
    "    'MSE': [\n",
    "        1111576341.48, \n",
    "        1111412376.59, \n",
    "        1111522898.75, \n",
    "        1159514502.17, \n",
    "        634272821.17,\n",
    "        558384748.74\n",
    "    ],\n",
    "    'RMSE': [\n",
    "        33340.31, \n",
    "        33337.85, \n",
    "        33339.51, \n",
    "        34051.64, \n",
    "        25184.77,\n",
    "        23630.17\n",
    "    ],\n",
    "    'R²': [\n",
    "        0.861, \n",
    "        0.861, \n",
    "        0.861, \n",
    "        0.855, \n",
    "        0.921,\n",
    "        0.930\n",
    "    ]\n",
    "}\n",
    "\n",
    "df_results = pd.DataFrame(results)\n",
    "print(df_results)\n",
    "\n",
    "plt.figure(figsize=(12, 5))\n",
    "\n",
    "plt.subplot(1, 2, 1)\n",
    "plt.bar(df_results['Model'], df_results['R²'], color='skyblue')\n",
    "plt.title('R² Score Comparison')\n",
    "plt.ylabel('R²')\n",
    "plt.xticks(rotation=20)\n",
    "\n",
    "plt.subplot(1, 2, 2)\n",
    "plt.bar(df_results['Model'], df_results['RMSE'], color='salmon')\n",
    "plt.title('RMSE Comparison')\n",
    "plt.ylabel('RMSE')\n",
    "plt.xticks(rotation=20)\n",
    "\n",
    "plt.tight_layout()\n",
    "plt.show()\n",
    "\n"
   ]
  },
  {
   "cell_type": "code",
   "execution_count": null,
   "id": "08784896",
   "metadata": {
    "papermill": {
     "duration": 0.012611,
     "end_time": "2025-07-27T09:34:30.083846",
     "exception": false,
     "start_time": "2025-07-27T09:34:30.071235",
     "status": "completed"
    },
    "tags": []
   },
   "outputs": [],
   "source": []
  }
 ],
 "metadata": {
  "kaggle": {
   "accelerator": "none",
   "dataSources": [
    {
     "datasetId": 51153,
     "sourceId": 95503,
     "sourceType": "datasetVersion"
    }
   ],
   "dockerImageVersionId": 31089,
   "isGpuEnabled": false,
   "isInternetEnabled": true,
   "language": "python",
   "sourceType": "notebook"
  },
  "kernelspec": {
   "display_name": "Python 3",
   "language": "python",
   "name": "python3"
  },
  "language_info": {
   "codemirror_mode": {
    "name": "ipython",
    "version": 3
   },
   "file_extension": ".py",
   "mimetype": "text/x-python",
   "name": "python",
   "nbconvert_exporter": "python",
   "pygments_lexer": "ipython3",
   "version": "3.11.13"
  },
  "papermill": {
   "default_parameters": {},
   "duration": 808.420616,
   "end_time": "2025-07-27T09:34:32.717338",
   "environment_variables": {},
   "exception": null,
   "input_path": "__notebook__.ipynb",
   "output_path": "__notebook__.ipynb",
   "parameters": {},
   "start_time": "2025-07-27T09:21:04.296722",
   "version": "2.6.0"
  }
 },
 "nbformat": 4,
 "nbformat_minor": 5
}
